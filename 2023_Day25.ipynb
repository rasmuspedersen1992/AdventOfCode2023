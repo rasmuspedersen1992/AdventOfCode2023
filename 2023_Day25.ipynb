{
 "cells": [
  {
   "cell_type": "code",
   "execution_count": 14,
   "metadata": {},
   "outputs": [],
   "source": [
    "# Import packages\n",
    "import numpy as np\n",
    "from tqdm import tqdm\n",
    "\n",
    "curDay = 25"
   ]
  },
  {
   "cell_type": "code",
   "execution_count": 15,
   "metadata": {},
   "outputs": [
    {
     "name": "stdout",
     "output_type": "stream",
     "text": [
      "Done loading input\n",
      "Done loading test-input\n"
     ]
    }
   ],
   "source": [
    "# Load input into workspace\n",
    "filename = f'inputs\\\\day{curDay}.txt'\n",
    "\n",
    "inputFile = open(filename)\n",
    "inputs = [s for s in inputFile.read().splitlines()]\n",
    "\n",
    "print('Done loading input')\n",
    "\n",
    "# Load test-input into workspace\n",
    "filenameTest = f'inputs\\\\day{curDay}_test.txt'\n",
    "\n",
    "inputFileTest = open(filenameTest)\n",
    "inputsTest = [s for s in inputFileTest.read().splitlines()]\n",
    "\n",
    "print('Done loading test-input') "
   ]
  },
  {
   "cell_type": "markdown",
   "metadata": {},
   "source": [
    "# Input parsing"
   ]
  },
  {
   "cell_type": "code",
   "execution_count": 16,
   "metadata": {},
   "outputs": [],
   "source": [
    "def parseInputs(test=False):\n",
    "            \n",
    "    if test:\n",
    "        curIn = inputsTest \n",
    "    else:\n",
    "        curIn = inputs \n",
    "\n",
    "    connectDict = dict()\n",
    "\n",
    "\n",
    "    for line in curIn:\n",
    "        curName,curConn = line.split(': ')\n",
    "        curConn = curConn.split()\n",
    "\n",
    "        # print(curName in connectDict.keys())\n",
    "        if curName not in connectDict.keys():\n",
    "            connectDict[curName] = [] \n",
    "\n",
    "        for other in curConn:\n",
    "            connectDict[curName].append(other)\n",
    "            # And the other way\n",
    "            if other not in connectDict.keys():\n",
    "                connectDict[other] = [] \n",
    "                \n",
    "            connectDict[other].append(curName)\n",
    "\n",
    "\n",
    "    return connectDict\n",
    "\n"
   ]
  },
  {
   "cell_type": "code",
   "execution_count": 17,
   "metadata": {},
   "outputs": [],
   "source": [
    "def getAllPossibleConnections(test=False):\n",
    "            \n",
    "    if test:\n",
    "        curIn = inputsTest \n",
    "    else:\n",
    "        curIn = inputs \n",
    "\n",
    "    connectList = []\n",
    "\n",
    "\n",
    "    for line in curIn:\n",
    "        curName,curConn = line.split(': ')\n",
    "        curConn = curConn.split()\n",
    "\n",
    "        for conn in curConn:\n",
    "            connectList.append([curName,conn])\n",
    "\n",
    "    return connectList\n",
    "\n"
   ]
  },
  {
   "cell_type": "code",
   "execution_count": 18,
   "metadata": {},
   "outputs": [],
   "source": [
    "conDict = parseInputs(test=True)\n",
    "# conDict\n"
   ]
  },
  {
   "cell_type": "markdown",
   "metadata": {},
   "source": [
    "# Part 1\n",
    "\n",
    "First idea: Just remove three random connections and check\n",
    "\n",
    "On second thought, no, there's 1567 nodes"
   ]
  },
  {
   "cell_type": "code",
   "execution_count": 19,
   "metadata": {},
   "outputs": [],
   "source": [
    "conDict = parseInputs(test=True)\n",
    "# conDict = parseInputs(test=False)"
   ]
  },
  {
   "cell_type": "code",
   "execution_count": 20,
   "metadata": {},
   "outputs": [],
   "source": [
    "# conDict['hfx'].remove('pzl')\n",
    "# conDict['pzl'].remove('hfx')\n",
    "# conDict['bvb'].remove('cmg')\n",
    "# conDict['cmg'].remove('bvb')\n",
    "# # conDict['nvd'].remove('jqt')\n",
    "# # conDict['jqt'].remove('nvd')\n",
    "# # conDict"
   ]
  },
  {
   "cell_type": "code",
   "execution_count": 21,
   "metadata": {},
   "outputs": [],
   "source": [
    "# Determine connections starting from a given node\n",
    "def getAllConnected(conDict,startNode):\n",
    "    # allNodes = list(conDict.keys())\n",
    "\n",
    "    isConnected = dict()\n",
    "    for key in conDict.keys():\n",
    "        isConnected[key] = False \n",
    "        \n",
    "    # lenFromStart = dict()\n",
    "    # for key in conDict.keys():\n",
    "    #     lenFromStart[key] = False \n",
    "\n",
    "\n",
    "\n",
    "    ####\n",
    "    isConnected[startNode] = True \n",
    "    # lenFromStart[startNode] = 0\n",
    "\n",
    "    front = []\n",
    "    alreadyChecked = [startNode]\n",
    "    front.extend(conDict[startNode])\n",
    "    # print(alreadyChecked,front)\n",
    "\n",
    "    # for i in range(60):\n",
    "    while len(front) > 0:\n",
    "\n",
    "        curNode = front.pop(0)\n",
    "        isConnected[curNode] = True\n",
    "        if curNode not in alreadyChecked:\n",
    "            alreadyChecked.append(curNode)\n",
    "            front.extend(conDict[curNode])\n",
    "\n",
    "    return isConnected\n"
   ]
  },
  {
   "cell_type": "code",
   "execution_count": 22,
   "metadata": {},
   "outputs": [],
   "source": [
    "# conList = getAllPossibleConnections(test=True)\n",
    "\n",
    "# conDict = parseInputs(test=True)\n",
    "# ogDict = conDict.copy()\n",
    "# conDict = parseInputs(test=False)"
   ]
  },
  {
   "cell_type": "code",
   "execution_count": 23,
   "metadata": {},
   "outputs": [
    {
     "name": "stderr",
     "output_type": "stream",
     "text": [
      "  0%|          | 0/3509 [05:15<?, ?it/s]\n"
     ]
    },
    {
     "ename": "KeyboardInterrupt",
     "evalue": "",
     "output_type": "error",
     "traceback": [
      "\u001b[1;31m---------------------------------------------------------------------------\u001b[0m",
      "\u001b[1;31mKeyboardInterrupt\u001b[0m                         Traceback (most recent call last)",
      "\u001b[1;32mc:\\Users\\rakrpe\\OneDrive - Roskilde Universitet\\Documents\\AdventOfCode2023\\2023_Day25.ipynb Cell 12\u001b[0m line \u001b[0;36m<module>\u001b[1;34m\u001b[0m\n\u001b[0;32m     <a href='vscode-notebook-cell:/c%3A/Users/rakrpe/OneDrive%20-%20Roskilde%20Universitet/Documents/AdventOfCode2023/2023_Day25.ipynb#X21sZmlsZQ%3D%3D?line=25'>26</a>\u001b[0m conDict   \n\u001b[0;32m     <a href='vscode-notebook-cell:/c%3A/Users/rakrpe/OneDrive%20-%20Roskilde%20Universitet/Documents/AdventOfCode2023/2023_Day25.ipynb#X21sZmlsZQ%3D%3D?line=28'>29</a>\u001b[0m startNode \u001b[39m=\u001b[39m allNodes[\u001b[39m0\u001b[39m]\n\u001b[1;32m---> <a href='vscode-notebook-cell:/c%3A/Users/rakrpe/OneDrive%20-%20Roskilde%20Universitet/Documents/AdventOfCode2023/2023_Day25.ipynb#X21sZmlsZQ%3D%3D?line=29'>30</a>\u001b[0m isConnected \u001b[39m=\u001b[39m getAllConnected(conDict,startNode)\n\u001b[0;32m     <a href='vscode-notebook-cell:/c%3A/Users/rakrpe/OneDrive%20-%20Roskilde%20Universitet/Documents/AdventOfCode2023/2023_Day25.ipynb#X21sZmlsZQ%3D%3D?line=31'>32</a>\u001b[0m numNodes \u001b[39m=\u001b[39m \u001b[39mlen\u001b[39m(isConnected\u001b[39m.\u001b[39mkeys())\n\u001b[0;32m     <a href='vscode-notebook-cell:/c%3A/Users/rakrpe/OneDrive%20-%20Roskilde%20Universitet/Documents/AdventOfCode2023/2023_Day25.ipynb#X21sZmlsZQ%3D%3D?line=32'>33</a>\u001b[0m numInThisConnection \u001b[39m=\u001b[39m np\u001b[39m.\u001b[39msum(\u001b[39mlist\u001b[39m(isConnected\u001b[39m.\u001b[39mvalues()))\n",
      "\u001b[1;32mc:\\Users\\rakrpe\\OneDrive - Roskilde Universitet\\Documents\\AdventOfCode2023\\2023_Day25.ipynb Cell 12\u001b[0m line \u001b[0;36mgetAllConnected\u001b[1;34m(conDict, startNode)\u001b[0m\n\u001b[0;32m     <a href='vscode-notebook-cell:/c%3A/Users/rakrpe/OneDrive%20-%20Roskilde%20Universitet/Documents/AdventOfCode2023/2023_Day25.ipynb#X21sZmlsZQ%3D%3D?line=20'>21</a>\u001b[0m front\u001b[39m.\u001b[39mextend(conDict[startNode])\n\u001b[0;32m     <a href='vscode-notebook-cell:/c%3A/Users/rakrpe/OneDrive%20-%20Roskilde%20Universitet/Documents/AdventOfCode2023/2023_Day25.ipynb#X21sZmlsZQ%3D%3D?line=21'>22</a>\u001b[0m \u001b[39m# print(alreadyChecked,front)\u001b[39;00m\n\u001b[0;32m     <a href='vscode-notebook-cell:/c%3A/Users/rakrpe/OneDrive%20-%20Roskilde%20Universitet/Documents/AdventOfCode2023/2023_Day25.ipynb#X21sZmlsZQ%3D%3D?line=22'>23</a>\u001b[0m \n\u001b[0;32m     <a href='vscode-notebook-cell:/c%3A/Users/rakrpe/OneDrive%20-%20Roskilde%20Universitet/Documents/AdventOfCode2023/2023_Day25.ipynb#X21sZmlsZQ%3D%3D?line=23'>24</a>\u001b[0m \u001b[39m# for i in range(60):\u001b[39;00m\n\u001b[1;32m---> <a href='vscode-notebook-cell:/c%3A/Users/rakrpe/OneDrive%20-%20Roskilde%20Universitet/Documents/AdventOfCode2023/2023_Day25.ipynb#X21sZmlsZQ%3D%3D?line=24'>25</a>\u001b[0m \u001b[39mwhile\u001b[39;00m \u001b[39mlen\u001b[39;49m(front) \u001b[39m>\u001b[39m \u001b[39m0\u001b[39m:\n\u001b[0;32m     <a href='vscode-notebook-cell:/c%3A/Users/rakrpe/OneDrive%20-%20Roskilde%20Universitet/Documents/AdventOfCode2023/2023_Day25.ipynb#X21sZmlsZQ%3D%3D?line=26'>27</a>\u001b[0m     curNode \u001b[39m=\u001b[39m front\u001b[39m.\u001b[39mpop(\u001b[39m0\u001b[39m)\n\u001b[0;32m     <a href='vscode-notebook-cell:/c%3A/Users/rakrpe/OneDrive%20-%20Roskilde%20Universitet/Documents/AdventOfCode2023/2023_Day25.ipynb#X21sZmlsZQ%3D%3D?line=27'>28</a>\u001b[0m     isConnected[curNode] \u001b[39m=\u001b[39m \u001b[39mTrue\u001b[39;00m\n",
      "\u001b[1;31mKeyboardInterrupt\u001b[0m: "
     ]
    }
   ],
   "source": [
    "isTesting = False\n",
    "conList = getAllPossibleConnections(test=isTesting)\n",
    "\n",
    "\n",
    "conDict = parseInputs(test=isTesting)\n",
    "allNodes = list(conDict.keys()) \n",
    "numNodes = len(allNodes)\n",
    "numConns = len(conList)\n",
    "\n",
    "for i in tqdm(range(numConns)):\n",
    "    # print(f'{i = }')\n",
    "    for j in range(i+1,numConns):\n",
    "        for k in range(j+1,numConns):\n",
    "            # print(i,j,k)\n",
    "\n",
    "            # conDict = ogDict.copy()\n",
    "            conDict = parseInputs(test=isTesting)\n",
    "\n",
    "            conToRemove = [conList[i],conList[j],conList[k]]\n",
    "            # print(conToRemove)\n",
    "            for con in conToRemove:\n",
    "                \n",
    "                conDict[con[0]].remove(con[1])\n",
    "                conDict[con[1]].remove(con[0])\n",
    "\n",
    "            conDict   \n",
    "\n",
    "            \n",
    "            startNode = allNodes[0]\n",
    "            isConnected = getAllConnected(conDict,startNode)\n",
    "\n",
    "            numNodes = len(isConnected.keys())\n",
    "            numInThisConnection = np.sum(list(isConnected.values()))\n",
    "            # print(numNodes)\n",
    "            # print(numInThisConnection)\n",
    "            if (numInThisConnection < numNodes):\n",
    "                # print(numInThisConnection,numNodes-numInThisConnection,numNodes)\n",
    "                sol1 = numInThisConnection * (numNodes - numInThisConnection)\n",
    "                print(f'{sol1 = }')\n",
    "                "
   ]
  },
  {
   "cell_type": "code",
   "execution_count": 25,
   "metadata": {},
   "outputs": [
    {
     "data": {
      "text/plain": [
       "1723"
      ]
     },
     "execution_count": 25,
     "metadata": {},
     "output_type": "execute_result"
    }
   ],
   "source": [
    "# print(sol1)\n",
    "k"
   ]
  },
  {
   "cell_type": "code",
   "execution_count": null,
   "metadata": {},
   "outputs": [],
   "source": [
    "asdfasdf"
   ]
  },
  {
   "cell_type": "code",
   "execution_count": null,
   "metadata": {},
   "outputs": [],
   "source": [
    "conDict = parseInputs(test=True)\n",
    "# conDict = parseInputs(test=False)\n",
    "\n",
    "conToRemove = [\n",
    "    ['hfx','pzl'],\n",
    "    ['bvb','cmg'],\n",
    "    ['nvd','jqt'],\n",
    "]\n",
    "\n",
    "for con in conToRemove:\n",
    "    \n",
    "    conDict[con[0]].remove(con[1])\n",
    "    conDict[con[1]].remove(con[0])\n",
    "\n",
    "    \n",
    "allNodes = list(conDict.keys())            \n",
    "startNode = allNodes[0]\n",
    "isConnected = getAllConnected(startNode)\n",
    "\n",
    "numNodes = len(isConnected.keys())\n",
    "numInThisConnection = np.sum(list(isConnected.values()))\n",
    "print(numNodes)\n",
    "print(numInThisConnection)\n"
   ]
  },
  {
   "cell_type": "code",
   "execution_count": null,
   "metadata": {},
   "outputs": [],
   "source": [
    "\n",
    "allNodes = list(conDict.keys())            \n",
    "startNode = allNodes[0]\n",
    "isConnected = getAllConnected(startNode)\n",
    "\n",
    "numNodes = len(isConnected.keys())\n",
    "numInThisConnection = np.sum(list(isConnected.values()))\n",
    "print(numNodes)\n",
    "print(numInThisConnection)\n"
   ]
  },
  {
   "cell_type": "code",
   "execution_count": null,
   "metadata": {},
   "outputs": [],
   "source": []
  },
  {
   "cell_type": "code",
   "execution_count": null,
   "metadata": {},
   "outputs": [],
   "source": [
    "# Determine connection between nodes\n",
    "allNodes = list(conDict.keys())\n",
    "startNode = allNodes[0]\n",
    "startNode\n",
    "\n",
    "isConnected = dict()\n",
    "for key in conDict.keys():\n",
    "    isConnected[key] = False \n",
    "    \n",
    "# lenFromStart = dict()\n",
    "# for key in conDict.keys():\n",
    "#     lenFromStart[key] = False \n",
    "\n",
    "\n",
    "\n",
    "####\n",
    "isConnected[startNode] = True \n",
    "# lenFromStart[startNode] = 0\n",
    "\n",
    "front = []\n",
    "alreadyChecked = [startNode]\n",
    "front.extend(conDict[startNode])\n",
    "# print(alreadyChecked,front)\n",
    "\n",
    "# for i in range(60):\n",
    "while len(front) > 0:\n",
    "\n",
    "    curNode = front.pop(0)\n",
    "    isConnected[curNode] = True\n",
    "    if curNode not in alreadyChecked:\n",
    "        alreadyChecked.append(curNode)\n",
    "        front.extend(conDict[curNode])\n",
    "    \n",
    "    # print(curNode in alreadyChecked)\n",
    "    # print(alreadyChecked,front)\n",
    "# print(alreadyChecked,front)\n",
    "\n",
    "# set(allKeys)\n",
    "# set(alreadyChecked)\n",
    "        \n",
    "numNodes = len(isConnected.keys())\n",
    "numInThisConnection = np.sum(list(isConnected.values()))\n",
    "print(numNodes)\n",
    "print(numInThisConnection)\n"
   ]
  },
  {
   "cell_type": "code",
   "execution_count": null,
   "metadata": {},
   "outputs": [],
   "source": []
  }
 ],
 "metadata": {
  "kernelspec": {
   "display_name": "main",
   "language": "python",
   "name": "python3"
  },
  "language_info": {
   "codemirror_mode": {
    "name": "ipython",
    "version": 3
   },
   "file_extension": ".py",
   "mimetype": "text/x-python",
   "name": "python",
   "nbconvert_exporter": "python",
   "pygments_lexer": "ipython3",
   "version": "3.10.0"
  }
 },
 "nbformat": 4,
 "nbformat_minor": 2
}
