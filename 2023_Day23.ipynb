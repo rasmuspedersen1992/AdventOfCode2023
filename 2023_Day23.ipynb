{
 "cells": [
  {
   "cell_type": "code",
   "execution_count": 1,
   "metadata": {},
   "outputs": [],
   "source": [
    "# Import packages\n",
    "import numpy as np\n",
    "from tqdm import tqdm\n",
    "\n",
    "np.set_printoptions(edgeitems=30, linewidth=100000, \n",
    "    formatter=dict(float=lambda x: \"%.3g\" % x))\n",
    "\n",
    "curDay = 23"
   ]
  },
  {
   "cell_type": "code",
   "execution_count": 2,
   "metadata": {},
   "outputs": [
    {
     "name": "stdout",
     "output_type": "stream",
     "text": [
      "Done loading input\n",
      "Done loading test-input\n"
     ]
    }
   ],
   "source": [
    "# Load input into workspace\n",
    "filename = f'inputs\\\\day{curDay}.txt'\n",
    "\n",
    "inputFile = open(filename)\n",
    "inputs = [s for s in inputFile.read().splitlines()]\n",
    "\n",
    "print('Done loading input')\n",
    "\n",
    "# Load test-input into workspace\n",
    "filenameTest = f'inputs\\\\day{curDay}_test.txt'\n",
    "\n",
    "inputFileTest = open(filenameTest)\n",
    "inputsTest = [s for s in inputFileTest.read().splitlines()]\n",
    "\n",
    "print('Done loading test-input') "
   ]
  },
  {
   "cell_type": "markdown",
   "metadata": {},
   "source": [
    "# Part 1\n",
    "\n",
    "Start by just taking the first possible path and determining the distance. If this works, then some type of depth-first search may be sufficient (and not too slow)"
   ]
  },
  {
   "cell_type": "code",
   "execution_count": 3,
   "metadata": {},
   "outputs": [],
   "source": [
    "# curMap = inputsTest.copy()\n",
    "\n",
    "# curMap = np.array([])\n",
    "\n",
    "curIn = inputsTest.copy()\n",
    "curIn = inputs.copy()\n",
    "curMap = []\n",
    "for li in curIn:\n",
    "    curMap.append(np.array(list(li)))\n",
    "curMap = np.array(curMap)\n",
    "ogMap = curMap.copy()\n"
   ]
  },
  {
   "cell_type": "code",
   "execution_count": null,
   "metadata": {},
   "outputs": [],
   "source": []
  },
  {
   "cell_type": "code",
   "execution_count": 4,
   "metadata": {},
   "outputs": [],
   "source": [
    "global curMax\n",
    "curMax = 0\n",
    "def traverseMap(curMap,curPos,numSteps):\n",
    "    global curMax\n",
    "\n",
    "    isStuck = False\n",
    "\n",
    "    while not isStuck:\n",
    "\n",
    "        curMap[curPos[1]][curPos[0]] = 'O'\n",
    "        numSteps +=1\n",
    "        # Get neighbours\n",
    "        x = curPos[0]\n",
    "        y = curPos[1]\n",
    "        posDirs = []\n",
    "\n",
    "        # Get all possible directions\n",
    "        if ((curMap[y][x-1]) == '.') | ((curMap[y][x-1]) == '<'):\n",
    "            posDirs.append([x-1,y])\n",
    "        if ((curMap[y][x+1]) == '.') | ((curMap[y][x+1]) == '>'):\n",
    "            posDirs.append([x+1,y])\n",
    "        if ((curMap[y-1][x]) == '.') | ((curMap[y-1][x]) == '^'):\n",
    "            posDirs.append([x,y-1])\n",
    "        if ((curMap[y+1][x]) == '.') | ((curMap[y+1][x]) == 'v'):\n",
    "            posDirs.append([x,y+1])\n",
    "        # if (curMap[y][x-1]) == '.':\n",
    "        #     posDirs.append([x-1,y])\n",
    "        # if (curMap[y][x+1]) == '.':\n",
    "        #     posDirs.append([x+1,y])\n",
    "        # if (curMap[y-1][x]) == '.':\n",
    "        #     posDirs.append([x,y-1])\n",
    "        # if (curMap[y+1][x]) == '.':\n",
    "        #     posDirs.append([x,y+1])\n",
    "\n",
    "        posDirs\n",
    "        # print(len(posDirs))\n",
    "        if len(posDirs) == 0:\n",
    "            isStuck = True\n",
    "            # print(f'Got stuck at {curPos}, after {numSteps} steps')\n",
    "            if (numSteps > curMax):\n",
    "                print(f'New maximum has been found, at {numSteps} steps')\n",
    "                curMax = numSteps\n",
    "        else:\n",
    "            # Get new position\n",
    "            # curPos = posDirs[-1]\n",
    "            # curPos = posDirs[0] \n",
    "            # numSteps += 1\n",
    "            if len(posDirs) == 1:\n",
    "                curPos = posDirs[0]\n",
    "            else:\n",
    "                # Traverse in all possible directions\n",
    "                for curPos in posDirs:\n",
    "                # for curPos in posDirs[::-1]:\n",
    "                    traverseMap(curMap.copy(),curPos,numSteps)\n",
    "\n"
   ]
  },
  {
   "cell_type": "code",
   "execution_count": 5,
   "metadata": {},
   "outputs": [
    {
     "name": "stdout",
     "output_type": "stream",
     "text": [
      "New maximum has been found, at 2314 steps\n"
     ]
    }
   ],
   "source": [
    "curMap = ogMap.copy()\n",
    "curPos = np.array([1,0])\n",
    "numSteps = 0\n",
    "\n",
    "# Do first step manually\n",
    "curMap[curPos[1]][curPos[0]] = 'S'\n",
    "# Set end to E to avoid stepping out\n",
    "curMap[-1][-2] = 'E'\n",
    "numSteps += 1 # Because last step isn't counted\n",
    "\n",
    "curPos = curPos + [0,1]\n",
    "# curMap[curPos[1]][curPos[0]] = 'O'\n",
    "# numSteps += 1 \n",
    "\n",
    "curMax = 0\n",
    "\n",
    "traverseMap(curMap.copy(),curPos,numSteps)"
   ]
  },
  {
   "cell_type": "markdown",
   "metadata": {},
   "source": [
    "# Part 2"
   ]
  },
  {
   "cell_type": "code",
   "execution_count": 6,
   "metadata": {},
   "outputs": [],
   "source": [
    "# curMap[4][1] in ['.','<','>','^','v']\n",
    "# curMap = inputsTest.copy()\n",
    "\n",
    "# curMap = np.array([])\n",
    "\n",
    "curIn = inputsTest.copy()\n",
    "curIn = inputs.copy()\n",
    "curMap = []\n",
    "for li in curIn:\n",
    "    curMap.append(np.array(list(li)))\n",
    "curMap = np.array(curMap)\n",
    "ogMap = curMap.copy()\n",
    "\n",
    "\n",
    "# curEnd = \n",
    "curW = len(curMap[0])\n",
    "curH = len(curMap)\n",
    "curMap[curH-2:][curW-2:]\n",
    "# curMap[curH-1][20:]\n",
    "curEnd = [curW-2,curH-2]\n",
    "# curMap[curEnd[1]][curEnd[0]] = 'B'\n",
    "# curMap\n",
    " \n"
   ]
  },
  {
   "cell_type": "code",
   "execution_count": null,
   "metadata": {},
   "outputs": [],
   "source": []
  },
  {
   "cell_type": "code",
   "execution_count": 14,
   "metadata": {},
   "outputs": [],
   "source": [
    "# curMap = []\n",
    "# for li in curIn:\n",
    "#     li = li.replace('^','.')\n",
    "#     li = li.replace('<','.')\n",
    "#     li = li.replace('>','.')\n",
    "#     li = li.replace('v','.')\n",
    "#     li = li.replace('V','.') \n",
    "#     curMap.append(li)\n",
    "curMap[curMap == 'v'] = '.'\n",
    "curMap[curMap == '^'] = '.'\n",
    "curMap[curMap == '<'] = '.'\n",
    "curMap[curMap == '>'] = '.'\n"
   ]
  },
  {
   "cell_type": "code",
   "execution_count": 108,
   "metadata": {},
   "outputs": [],
   "source": [
    "global curMax2\n",
    "curMax2 = 0\n",
    "def traverseMap2(curMap,curPos,numSteps):\n",
    "    global curMax2\n",
    "\n",
    "    isStuck = False\n",
    "\n",
    "    while not isStuck:\n",
    "\n",
    "        curMap[curPos[1]][curPos[0]] = 'O'\n",
    "        numSteps +=1\n",
    "        # Get neighbours\n",
    "        x = curPos[0]\n",
    "        y = curPos[1]\n",
    "        posDirs = []\n",
    "\n",
    "        # Get all possible directions\n",
    "        allFree = ['.','<','>','^','v','V']\n",
    "        if (curMap[y][x-1]) in allFree:\n",
    "            posDirs.append([x-1,y])\n",
    "        if (curMap[y][x+1]) in allFree:\n",
    "            posDirs.append([x+1,y])\n",
    "        if (curMap[y-1][x]) in allFree:\n",
    "            posDirs.append([x,y-1])\n",
    "        if (curMap[y+1][x]) in allFree:\n",
    "            posDirs.append([x,y+1])\n",
    "\n",
    "        # print(len(posDirs))\n",
    "        if len(posDirs) == 0:\n",
    "            isStuck = True\n",
    "            # print(f'Got stuck at {curPos}, after {numSteps} steps') \n",
    "            # if (np.sum(curPos == curEnd) == 2):\n",
    "            if (curPos[0] == curEnd[0]) & (curPos[1] == curEnd[1]):\n",
    "                # print('Which is the end-point')\n",
    "                    \n",
    "                if (numSteps > curMax2):\n",
    "                    print(f'New maximum has been found, at {numSteps} steps')\n",
    "                    curMax2 = numSteps\n",
    "                    # print(curMap)\n",
    "        else:\n",
    "            # Get new position\n",
    "            # curPos = posDirs[-1]\n",
    "            # curPos = posDirs[0] \n",
    "            # numSteps += 1\n",
    "            if len(posDirs) == 1:\n",
    "                curPos = posDirs[0]\n",
    "            else:\n",
    "                # Traverse in all possible directions\n",
    "                for curPos in posDirs:\n",
    "                # for curPos in posDirs[::-1]:\n",
    "                    traverseMap2(curMap.copy(),curPos,numSteps)\n",
    "\n",
    "                # print(curMap)\n",
    "\n"
   ]
  },
  {
   "cell_type": "code",
   "execution_count": 109,
   "metadata": {},
   "outputs": [],
   "source": [
    "# # curMap[4][1] in ['.','<','>','^','v']\n",
    "# # curMap = inputsTest.copy()\n",
    "\n",
    "# # curMap = np.array([])\n",
    "\n",
    "# curIn = inputsTest.copy()\n",
    "# # curIn = inputs.copy()\n",
    "# curMap = []\n",
    "# for li in curIn:\n",
    "#     curMap.append(np.array(list(li)))\n",
    "# curMap = np.array(curMap)\n",
    "# ogMap = curMap.copy()\n"
   ]
  },
  {
   "cell_type": "code",
   "execution_count": 110,
   "metadata": {},
   "outputs": [],
   "source": [
    "curMap = ogMap.copy()\n",
    "curPos = np.array([1,0])\n",
    "numSteps = 0\n",
    "\n"
   ]
  },
  {
   "cell_type": "code",
   "execution_count": 111,
   "metadata": {},
   "outputs": [
    {
     "name": "stdout",
     "output_type": "stream",
     "text": [
      "New maximum has been found, at 5410 steps\n",
      "New maximum has been found, at 5546 steps\n",
      "New maximum has been found, at 5662 steps\n",
      "New maximum has been found, at 5738 steps\n",
      "New maximum has been found, at 5818 steps\n",
      "New maximum has been found, at 5990 steps\n",
      "New maximum has been found, at 6070 steps\n",
      "New maximum has been found, at 6130 steps\n",
      "New maximum has been found, at 6166 steps\n",
      "New maximum has been found, at 6338 steps\n",
      "New maximum has been found, at 6358 steps\n",
      "New maximum has been found, at 6434 steps\n"
     ]
    }
   ],
   "source": [
    "curMap = ogMap.copy()\n",
    "curPos = np.array([1,0])\n",
    "numSteps = 0\n",
    "\n",
    "# Do first step manually\n",
    "curMap[curPos[1]][curPos[0]] = 'S'\n",
    "# Set end to E to avoid stepping out\n",
    "curMap[-1][-2] = 'E'\n",
    "numSteps += 1 # Because last step isn't counted\n",
    "\n",
    "curPos = curPos + [0,1]\n",
    "# curMap[curPos[1]][curPos[0]] = 'O'\n",
    "# numSteps += 1 \n",
    "\n",
    "# curMax = 0\n",
    "curMax2 = 0\n",
    "\n",
    "traverseMap2(curMap.copy(),curPos,numSteps)"
   ]
  },
  {
   "cell_type": "code",
   "execution_count": null,
   "metadata": {},
   "outputs": [],
   "source": [
    "# tried 6358 and 6434 \n",
    "# Gave up after 200 minutes..."
   ]
  },
  {
   "cell_type": "markdown",
   "metadata": {},
   "source": [
    "# Old below"
   ]
  },
  {
   "cell_type": "code",
   "execution_count": 80,
   "metadata": {},
   "outputs": [
    {
     "name": "stdout",
     "output_type": "stream",
     "text": [
      "Got stuck at [21, 21]\n"
     ]
    }
   ],
   "source": [
    "curMap = ogMap.copy()\n",
    "curPos = np.array([1,0])\n",
    "numSteps = 0\n",
    "\n",
    "# Do first step manually\n",
    "curMap[curPos[1]][curPos[0]] = 'S'\n",
    "# Set end to E to avoid stepping out\n",
    "curMap[-1][-2] = 'E'\n",
    "numSteps += 1 # Because last step isn't counted\n",
    "\n",
    "curPos = curPos + [0,1]\n",
    "# curMap[curPos[1]][curPos[0]] = 'O'\n",
    "# numSteps += 1 \n",
    "\n",
    "\n",
    "isStuck = False\n",
    "\n",
    "while not isStuck:\n",
    "\n",
    "    curMap[curPos[1]][curPos[0]] = 'O'\n",
    "    numSteps +=1\n",
    "    # Get neighbours\n",
    "    x = curPos[0]\n",
    "    y = curPos[1]\n",
    "    posDirs = []\n",
    "\n",
    "    # Get all possible directions\n",
    "    if ((curMap[y][x-1]) == '.') | ((curMap[y][x-1]) == '<'):\n",
    "        posDirs.append([x-1,y])\n",
    "    if ((curMap[y][x+1]) == '.') | ((curMap[y][x+1]) == '>'):\n",
    "        posDirs.append([x+1,y])\n",
    "    if ((curMap[y-1][x]) == '.') | ((curMap[y-1][x]) == '^'):\n",
    "        posDirs.append([x,y-1])\n",
    "    if ((curMap[y+1][x]) == '.') | ((curMap[y+1][x]) == 'v'):\n",
    "        posDirs.append([x,y+1])\n",
    "    # if (curMap[y][x-1]) == '.':\n",
    "    #     posDirs.append([x-1,y])\n",
    "    # if (curMap[y][x+1]) == '.':\n",
    "    #     posDirs.append([x+1,y])\n",
    "    # if (curMap[y-1][x]) == '.':\n",
    "    #     posDirs.append([x,y-1])\n",
    "    # if (curMap[y+1][x]) == '.':\n",
    "    #     posDirs.append([x,y+1])\n",
    "\n",
    "    posDirs\n",
    "    # print(len(posDirs))\n",
    "    if len(posDirs) == 0:\n",
    "        isStuck = True\n",
    "        print(f'Got stuck at {curPos}')\n",
    "    else:\n",
    "        # Get new position\n",
    "        curPos = posDirs[-1]\n",
    "        curPos = posDirs[0] \n",
    "        # numSteps += 1"
   ]
  },
  {
   "cell_type": "code",
   "execution_count": 77,
   "metadata": {},
   "outputs": [
    {
     "data": {
      "text/plain": [
       "82"
      ]
     },
     "execution_count": 77,
     "metadata": {},
     "output_type": "execute_result"
    }
   ],
   "source": [
    "\n",
    "numSteps"
   ]
  },
  {
   "cell_type": "code",
   "execution_count": 75,
   "metadata": {},
   "outputs": [
    {
     "data": {
      "text/plain": [
       "array([['#', 'S', '#', '#', '#', '#', '#', '#', '#', '#', '#', '#', '#', '#', '#', '#', '#', '#', '#', '#', '#', '#', '#'],\n",
       "       ['#', 'O', 'O', 'O', 'O', 'O', 'O', 'O', '#', '#', '#', '#', '#', '#', '#', '#', '#', 'O', 'O', 'O', '#', '#', '#'],\n",
       "       ['#', '#', '#', '#', '#', '#', '#', 'O', '#', '#', '#', '#', '#', '#', '#', '#', '#', 'O', '#', 'O', '#', '#', '#'],\n",
       "       ['#', '#', '#', 'O', 'O', 'O', 'O', 'O', '#', 'O', 'O', 'O', 'O', 'O', '#', '#', '#', 'O', '#', 'O', '#', '#', '#'],\n",
       "       ['#', '#', '#', 'O', '#', '#', '#', '#', '#', 'O', '#', 'v', '#', 'O', '#', '#', '#', 'O', '#', 'O', '#', '#', '#'],\n",
       "       ['#', '#', '#', 'O', 'O', 'O', 'O', 'O', '#', 'O', '#', '.', '#', 'O', 'O', 'O', 'O', 'O', '#', 'O', 'O', 'O', '#'],\n",
       "       ['#', '#', '#', 'v', '#', '#', '#', 'O', '#', 'O', '#', '.', '#', '#', '#', '#', '#', '#', '#', '#', '#', 'O', '#'],\n",
       "       ['#', '#', '#', '.', '.', '.', '#', 'O', '#', 'O', '#', '.', '.', '.', '.', '.', '.', '.', '#', 'O', 'O', 'O', '#'],\n",
       "       ['#', '#', '#', '#', '#', '.', '#', 'O', '#', 'O', '#', '#', '#', '#', '#', '#', '#', '.', '#', 'O', '#', '#', '#'],\n",
       "       ['#', '.', '.', '.', '.', '.', '#', 'O', '#', 'O', '#', '.', '.', '.', '.', '.', '.', '.', '#', 'O', 'O', 'O', '#'],\n",
       "       ['#', '.', '#', '#', '#', '#', '#', 'O', '#', 'O', '#', '.', '#', '#', '#', '#', '#', '#', '#', '#', '#', 'O', '#'],\n",
       "       ['#', '.', '#', '.', '.', '.', '#', 'O', 'O', 'O', '#', '.', '.', '.', '#', '#', '#', '.', '.', '.', '>', 'O', '#'],\n",
       "       ['#', '.', '#', '.', '#', 'v', '#', '#', '#', '#', '#', '#', '#', 'v', '#', '#', '#', '.', '#', '#', '#', 'O', '#'],\n",
       "       ['#', '.', '.', '.', '#', '.', '>', '.', '#', '.', '.', '.', '>', '.', '>', '.', '#', '.', '#', '#', '#', 'O', '#'],\n",
       "       ['#', '#', '#', '#', '#', 'v', '#', '.', '#', '.', '#', '#', '#', 'v', '#', '.', '#', '.', '#', '#', '#', 'O', '#'],\n",
       "       ['#', '.', '.', '.', '.', '.', '#', '.', '.', '.', '#', '.', '.', '.', '#', '.', '#', '.', '#', 'O', 'O', 'O', '#'],\n",
       "       ['#', '.', '#', '#', '#', '#', '#', '#', '#', '#', '#', '.', '#', '#', '#', '.', '#', '.', '#', 'O', '#', '#', '#'],\n",
       "       ['#', '.', '.', '.', '#', '#', '#', '.', '.', '.', '#', '.', '.', '.', '#', '.', '.', '.', '#', 'O', '#', '#', '#'],\n",
       "       ['#', '#', '#', '.', '#', '#', '#', '.', '#', '.', '#', '#', '#', 'v', '#', '#', '#', '#', '#', 'O', '#', '#', '#'],\n",
       "       ['#', '.', '.', '.', '#', '.', '.', '.', '#', '.', '#', '.', '>', '.', '>', '.', '#', '.', '>', 'O', '#', '#', '#'],\n",
       "       ['#', '.', '#', '#', '#', '.', '#', '#', '#', '.', '#', '.', '#', '#', '#', '.', '#', '.', '#', 'O', '#', '#', '#'],\n",
       "       ['#', '.', '.', '.', '.', '.', '#', '#', '#', '.', '.', '.', '#', '#', '#', '.', '.', '.', '#', 'O', 'O', 'O', '#'],\n",
       "       ['#', '#', '#', '#', '#', '#', '#', '#', '#', '#', '#', '#', '#', '#', '#', '#', '#', '#', '#', '#', '#', 'E', '#']], dtype='<U1')"
      ]
     },
     "execution_count": 75,
     "metadata": {},
     "output_type": "execute_result"
    }
   ],
   "source": [
    "curMap"
   ]
  }
 ],
 "metadata": {
  "kernelspec": {
   "display_name": "main",
   "language": "python",
   "name": "python3"
  },
  "language_info": {
   "codemirror_mode": {
    "name": "ipython",
    "version": 3
   },
   "file_extension": ".py",
   "mimetype": "text/x-python",
   "name": "python",
   "nbconvert_exporter": "python",
   "pygments_lexer": "ipython3",
   "version": "3.10.0"
  }
 },
 "nbformat": 4,
 "nbformat_minor": 2
}
