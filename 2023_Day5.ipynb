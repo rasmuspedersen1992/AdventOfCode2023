{
 "cells": [
  {
   "cell_type": "code",
   "execution_count": 1,
   "metadata": {},
   "outputs": [
    {
     "name": "stdout",
     "output_type": "stream",
     "text": [
      "Inputs already downloaded\n"
     ]
    }
   ],
   "source": [
    "# Import packages\n",
    "import numpy as np\n",
    "curDay = 5\n",
    "\n",
    "# Download input file\n",
    "from download_inputs import download_inputs\n",
    "from download_inputs import splitTwo\n",
    "\n",
    "\n",
    "import os\n",
    "filename = f'inputs\\\\day{curDay}.txt'\n",
    "if not os.path.exists(filename):\n",
    "    download_inputs(curDay)\n",
    "else:\n",
    "    print('Inputs already downloaded')"
   ]
  },
  {
   "cell_type": "code",
   "execution_count": 2,
   "metadata": {},
   "outputs": [
    {
     "name": "stdout",
     "output_type": "stream",
     "text": [
      "Done loading input\n"
     ]
    }
   ],
   "source": [
    "# Load input into workspace\n",
    "filename = f'inputs\\\\day{curDay}.txt'\n",
    "# curIn = np.loadtxt(filename)\n",
    "\n",
    "inputFile = open(filename)\n",
    "inputs = []\n",
    "inputs = [s for s in inputFile.read().splitlines()]\n",
    "\n",
    "print('Done loading input')"
   ]
  },
  {
   "cell_type": "code",
   "execution_count": 3,
   "metadata": {},
   "outputs": [
    {
     "name": "stdout",
     "output_type": "stream",
     "text": [
      "Done loading test-input\n"
     ]
    }
   ],
   "source": [
    "# Load test-input into workspace\n",
    "filenameTest = f'inputs\\\\day{curDay}_test.txt'\n",
    "\n",
    "inputFileTest = open(filenameTest)\n",
    "inputsTest = []\n",
    "inputsTest = [s for s in inputFileTest.read().splitlines()]\n",
    "\n",
    "print('Done loading test-input') "
   ]
  },
  {
   "cell_type": "code",
   "execution_count": null,
   "metadata": {},
   "outputs": [],
   "source": []
  },
  {
   "cell_type": "markdown",
   "metadata": {},
   "source": [
    "# Part 1"
   ]
  },
  {
   "cell_type": "code",
   "execution_count": 4,
   "metadata": {},
   "outputs": [],
   "source": [
    "curIn = inputsTest \n",
    "curIn = inputs"
   ]
  },
  {
   "cell_type": "code",
   "execution_count": 5,
   "metadata": {},
   "outputs": [],
   "source": [
    "seedNumbers = curIn[0].split(': ')[1].split(' ')\n",
    "seedNumbers = [int(x) for x in seedNumbers]\n",
    "\n",
    "\n",
    "allMaps = []\n",
    "nextMap = []\n",
    "for li in curIn:\n",
    "    if li == '':\n",
    "        allMaps.append(nextMap)\n",
    "        nextMap = []\n",
    "    elif ':' not in li:\n",
    "        toAdd = li.split(' ')\n",
    "        toAdd = [int(x) for x in toAdd]\n",
    "        nextMap.append(toAdd)\n",
    "\n",
    "\n",
    "allMaps.append(nextMap)\n",
    "allMaps = allMaps[1:]\n",
    "\n",
    "# print(allMaps)"
   ]
  },
  {
   "cell_type": "code",
   "execution_count": 6,
   "metadata": {},
   "outputs": [],
   "source": [
    "\n",
    "def checkMap(curVal,curMaps):\n",
    "\n",
    "    ## Start by initializing base-case: When not found, map to itself\n",
    "    curDest = curVal \n",
    "    for thisMap in curMaps:\n",
    "\n",
    "        # print('Current value:',curVal)\n",
    "\n",
    "        destS,sourS,rangeLen = thisMap\n",
    "        # print(thisMap)\n",
    "        # print(destS,sourS,rangeLen)\n",
    "        destE = destS + rangeLen\n",
    "        sourE = sourS + rangeLen\n",
    "\n",
    "\n",
    "        # Check if curVal is above range start\n",
    "        if curVal >= sourS:\n",
    "            # print('Above source start')\n",
    "            if (curVal < sourE):\n",
    "                # print('and below end of range')\n",
    "                # print(sourE)\n",
    "\n",
    "                curDiff = curVal - sourS\n",
    "                curDest = destS + curDiff\n",
    "        if sourS <= curVal < sourS+rangeLen:\n",
    "                curDest = curVal - sourS + destS \n",
    "\n",
    "    # print('Current destination:',curDest)\n",
    "                \n",
    "    return curDest "
   ]
  },
  {
   "cell_type": "code",
   "execution_count": 7,
   "metadata": {},
   "outputs": [
    {
     "data": {
      "text/plain": [
       "389056265"
      ]
     },
     "execution_count": 7,
     "metadata": {},
     "output_type": "execute_result"
    }
   ],
   "source": [
    "# curMaps = allMaps[0]\n",
    "# curVal = seedNumbers[0]\n",
    "\n",
    "sol1 = 99999999999999900000000000\n",
    "\n",
    "for initSeed in seedNumbers:\n",
    "    # print('Starting with',initSeed)\n",
    "\n",
    "    curVal = initSeed\n",
    "\n",
    "    for curMaps in allMaps:\n",
    "        curVal = checkMap(curVal,curMaps)\n",
    "    # print(curVal,sol1)\n",
    "    if curVal < sol1:\n",
    "        sol1 = curVal \n",
    "sol1"
   ]
  },
  {
   "cell_type": "markdown",
   "metadata": {},
   "source": [
    "# Part 2"
   ]
  },
  {
   "cell_type": "code",
   "execution_count": 8,
   "metadata": {},
   "outputs": [],
   "source": [
    "curIn = inputsTest \n",
    "# curIn = inputs"
   ]
  },
  {
   "cell_type": "code",
   "execution_count": 9,
   "metadata": {},
   "outputs": [],
   "source": [
    "seedNumbers = curIn[0].split(': ')[1].split(' ')\n",
    "seedNumbers = [int(x) for x in seedNumbers]\n",
    "\n",
    "\n",
    "allMaps = []\n",
    "nextMap = []\n",
    "for li in curIn:\n",
    "    if li == '':\n",
    "        allMaps.append(nextMap)\n",
    "        nextMap = []\n",
    "    elif ':' not in li:\n",
    "        toAdd = li.split(' ')\n",
    "        toAdd = [int(x) for x in toAdd]\n",
    "        nextMap.append(toAdd)\n",
    "\n",
    "\n",
    "allMaps.append(nextMap)\n",
    "allMaps = allMaps[1:]\n",
    "\n",
    "# print(allMaps)"
   ]
  },
  {
   "cell_type": "code",
   "execution_count": 10,
   "metadata": {},
   "outputs": [
    {
     "data": {
      "text/plain": [
       "[79, 14, 55, 13]"
      ]
     },
     "execution_count": 10,
     "metadata": {},
     "output_type": "execute_result"
    }
   ],
   "source": [
    "seedNumbers\n"
   ]
  },
  {
   "cell_type": "code",
   "execution_count": 11,
   "metadata": {},
   "outputs": [
    {
     "name": "stdout",
     "output_type": "stream",
     "text": [
      "Seed-range: 79 to 93\n",
      "Values\n",
      "98 to 100\n",
      "Maps to:\n",
      "50 to 52\n",
      "Start below\n",
      "End below\n"
     ]
    }
   ],
   "source": [
    "79+14\n",
    "seedID = 0\n",
    "mapID = 0\n",
    "curMaps = allMaps[0]\n",
    "# thisMap = curMaps[mapID]\n",
    "# thisMap = curMaps[1]\n",
    "\n",
    "\n",
    "\n",
    "curS = seedNumbers[seedID]\n",
    "curE = curS + seedNumbers[seedID + 1]\n",
    "\n",
    "thisMap = curMaps[mapID]\n",
    "\n",
    "# curS \n",
    "\n",
    "# curS = 47\n",
    "# curE = 52\n",
    "# curS = 86\n",
    "# curE = 152\n",
    "# # curS = 0\n",
    "# # curE = 4\n",
    "# # curS = 0\n",
    "# # curE = 210\n",
    "# curS = 0\n",
    "# curE = 600\n",
    "# curS = 5\n",
    "# curE = 98\n",
    "# curS = 51\n",
    "# curE = 120\n",
    "\n",
    "\n",
    "# print('Current value:',curVal)\n",
    "\n",
    "\n",
    "\n",
    "destS,sourS,rangeLen = thisMap\n",
    "# print(thisMap)\n",
    "# print(destS,sourS,rangeLen)\n",
    "destE = destS + rangeLen\n",
    "sourE = sourS + rangeLen\n",
    "\n",
    "\n",
    "\n",
    "print('Seed-range:',curS,'to',curE)\n",
    "\n",
    "print('Values')\n",
    "print(sourS,'to',sourE)\n",
    "print('Maps to:')\n",
    "print(destS,'to',destE)\n",
    "\n",
    "# There can be six cases for relation between incoming range and outgoing range\n",
    "if (curS < sourS):\n",
    "    print('Start below')\n",
    "    if (curE < sourS):\n",
    "        print('End below')\n",
    "        # Do nothing?\n",
    "        # Increase map-id and try again\n",
    "\n",
    "    elif (sourS <= curE <= sourE):\n",
    "        print('End in')\n",
    "        # Split in \"before range\" and \"in range\" ranges, re-run both\n",
    "        newS1 = curS \n",
    "        newE1 = sourS - 1\n",
    "        newS2 = sourS \n",
    "        newE2 = curE \n",
    "\n",
    "        print(newS1, newE1, newS2, newE2)\n",
    "\n",
    "    elif (sourE < curE):\n",
    "        print('End above')\n",
    "        # Split in \"below range\", \"above range\" and \"in range\" ranges, re-run all three\n",
    "        newS1 = curS \n",
    "        newE1 = sourS - 1\n",
    "        newS2 = sourS \n",
    "        newE2 = sourE\n",
    "        newS3 = sourE + 1\n",
    "        newE3 = curE\n",
    "\n",
    "        print(newS1,'-', newE1, newS2,'-', newE2,newS3,'-', newE3)\n",
    "    else:\n",
    "        print('Should not happen!')\n",
    "elif (sourS <= curS < sourE):\n",
    "    print('Start in')\n",
    "    if (curE <= sourE):\n",
    "        print('End in')\n",
    "        # If entirely in range, just map the start and end\n",
    "\n",
    "\n",
    "    elif (curE > sourE):\n",
    "        print('End above')\n",
    "        # Split in \"in range\" and \"after range\" ranges, re-run both\n",
    "        newS1 = curS\n",
    "        newE1 = sourE \n",
    "        newS2 = sourE + 1 \n",
    "        newE2 = curE \n",
    "\n",
    "        print(newS1, newE1, newS2, newE2)\n",
    "\n",
    "    else:\n",
    "        print('Should not happen!')\n",
    "elif (sourE < curS):\n",
    "    print('Starts above (and ends above)')\n",
    "    # Do nothing?\n",
    "    # Increase map-id and try again\n",
    "else:\n",
    "    print('Should not happen!')\n"
   ]
  },
  {
   "cell_type": "code",
   "execution_count": 12,
   "metadata": {},
   "outputs": [],
   "source": [
    "# curMaps = allMaps[0]\n",
    "# curMaps.append([0,0,1000])\n",
    "# curMaps"
   ]
  },
  {
   "cell_type": "code",
   "execution_count": 13,
   "metadata": {},
   "outputs": [],
   "source": [
    "curMaps = allMaps[0].copy()\n",
    "curMaps.append([0,0,100000000000])\n",
    "# thisMap = curMaps[mapID]\n"
   ]
  },
  {
   "cell_type": "code",
   "execution_count": 65,
   "metadata": {},
   "outputs": [],
   "source": [
    "\n",
    "def checkMapRange(curS,curE,mapID):\n",
    "\n",
    "    thisMap = curMaps[mapID]\n",
    "\n",
    "    destS,sourS,rangeLen = thisMap\n",
    "    # print(thisMap)\n",
    "    print('This map:',destS,sourS,rangeLen)\n",
    "    destE = destS + rangeLen - 1\n",
    "    sourE = sourS + rangeLen - 1\n",
    "\n",
    "\n",
    "\n",
    "    print('Seed-range:',curS,'to',curE)\n",
    "\n",
    "    print('Values')\n",
    "    print(sourS,'to',sourE)\n",
    "    print('Maps to:')\n",
    "    print(destS,'to',destE)\n",
    "\n",
    "    # There can be six cases for relation between incoming range and outgoing range\n",
    "    if (curS < sourS):\n",
    "        print('Start below')\n",
    "        if (curE < sourS):\n",
    "            print('End below')\n",
    "            # Do nothing?\n",
    "            # Increase map-id and try again\n",
    "            print('---Trying next map')\n",
    "            toReturn = checkMapRange(curS,curE,mapID + 1)\n",
    "\n",
    "        elif (sourS <= curE <= sourE):\n",
    "            print('End in')\n",
    "            # Split in \"before range\" and \"in range\" ranges, re-run both\n",
    "            newS1 = curS \n",
    "            newE1 = sourS - 1\n",
    "            newS2 = sourS \n",
    "            newE2 = curE \n",
    "\n",
    "            print(newS1,'-', newE1, newS2,'-', newE2)\n",
    "            toReturn1 = checkMapRange(newS1,newE1,mapID)\n",
    "            toReturn2 = checkMapRange(newS2,newE2,mapID)\n",
    "            print(toReturn1,toReturn2)\n",
    "            toReturn = [toReturn1,toReturn2]\n",
    "\n",
    "        elif (sourE < curE):\n",
    "            print('End above')\n",
    "            # Split in \"below range\", \"above range\" and \"in range\" ranges, re-run all three\n",
    "            newS1 = curS \n",
    "            newE1 = sourS - 1\n",
    "            newS2 = sourS \n",
    "            newE2 = sourE\n",
    "            newS3 = sourE + 1\n",
    "            newE3 = curE\n",
    "\n",
    "            print(newS1,'-', newE1, newS2,'-', newE2,newS3,'-', newE3)\n",
    "            toReturn1 = checkMapRange(newS1,newE1,mapID)\n",
    "            toReturn2 = checkMapRange(newS2,newE2,mapID)\n",
    "            toReturn3 = checkMapRange(newS3,newE3,mapID)\n",
    "            print(toReturn1,toReturn2,toReturn3)\n",
    "            toReturn = [toReturn1,toReturn2,toReturn3]\n",
    "        else:\n",
    "            print('Should not happen!')\n",
    "    elif (sourS <= curS < sourE):\n",
    "        print('Start in')\n",
    "        # print('asdf',sourE)\n",
    "        if (curE <= sourE):\n",
    "            print('End in')\n",
    "            # If entirely in range, map the start and end\n",
    "            \n",
    "            curLen = curE-curS \n",
    "            curLen\n",
    "            finS = destS + curS - sourS\n",
    "            finE = destS + curS - sourS + curLen\n",
    "            return finS,finE \n",
    "            # return curS,curE,sourS,sourE,destS,destE\n",
    "\n",
    "\n",
    "        elif (curE >= sourE):\n",
    "            print('End above')\n",
    "            # Split in \"in range\" and \"after range\" ranges, re-run both\n",
    "            newS1 = curS\n",
    "            newE1 = sourE \n",
    "            newS2 = sourE + 1 \n",
    "            newE2 = curE \n",
    "\n",
    "            print(newS1,'-', newE1, newS2,'-', newE2)\n",
    "            toReturn1 = checkMapRange(newS1,newE1,mapID)\n",
    "            toReturn2 = checkMapRange(newS2,newE2,mapID)\n",
    "            print(toReturn1,toReturn2)\n",
    "            toReturn = [toReturn1,toReturn2]\n",
    "\n",
    "        else:\n",
    "            print('Should not happen!')\n",
    "    elif (sourE < curS):\n",
    "        print('Starts above (and ends above)')\n",
    "        # Do nothing?\n",
    "        # Increase map-id and try again\n",
    "        print('---Trying next map')\n",
    "        toReturn = checkMapRange(curS,curE,mapID + 1)\n",
    "    else:\n",
    "        print('Should not happen!')\n",
    "    \n",
    "    return toReturn \n",
    "\n"
   ]
  },
  {
   "cell_type": "code",
   "execution_count": 66,
   "metadata": {},
   "outputs": [],
   "source": [
    "curMaps = allMaps[0].copy()\n",
    "curMaps = allMaps[1].copy()\n",
    "curMaps = allMaps[2].copy()\n",
    "curMaps = allMaps[3].copy()\n",
    "curMaps = allMaps[4].copy()\n",
    "curMaps = allMaps[5].copy()\n",
    "curMaps = allMaps[6].copy()\n",
    "curMaps.append([0,0,100000000000])"
   ]
  },
  {
   "cell_type": "code",
   "execution_count": 67,
   "metadata": {},
   "outputs": [
    {
     "name": "stdout",
     "output_type": "stream",
     "text": [
      "This map: 60 56 37\n",
      "Seed-range: 46 to 46\n",
      "Values\n",
      "56 to 92\n",
      "Maps to:\n",
      "60 to 96\n",
      "Start below\n",
      "End below\n",
      "---Trying next map\n",
      "This map: 56 93 4\n",
      "Seed-range: 46 to 46\n",
      "Values\n",
      "93 to 96\n",
      "Maps to:\n",
      "56 to 59\n",
      "Start below\n",
      "End below\n",
      "---Trying next map\n",
      "This map: 0 0 100000000000\n",
      "Seed-range: 46 to 46\n",
      "Values\n",
      "0 to 99999999999\n",
      "Maps to:\n",
      "0 to 99999999999\n",
      "Start in\n",
      "End in\n"
     ]
    },
    {
     "data": {
      "text/plain": [
       "(46, 46)"
      ]
     },
     "execution_count": 67,
     "metadata": {},
     "output_type": "execute_result"
    }
   ],
   "source": [
    "\n",
    "seedID = 0\n",
    "# seedID = 1\n",
    "curS = seedNumbers[2*seedID]\n",
    "curE = curS + seedNumbers[2*seedID + 1]\n",
    "\n",
    "# curS = 0\n",
    "# curE = 12000\n",
    "curS = 81\n",
    "curE = 95\n",
    "curS = 82\n",
    "curE = 82\n",
    "curS = 46\n",
    "curE = curS \n",
    "# curS,curE,sourS,sourE,destS,destE = checkMapRange(curS,curE,0)\n",
    "curResult = checkMapRange(curS,curE,0)\n",
    "curResult\n"
   ]
  },
  {
   "cell_type": "markdown",
   "metadata": {},
   "source": [
    "# Solution should work.\n",
    "I still have to include curMaps in recursive loop, and update for each new type of map\n",
    "\n",
    "And find some way to manage re-running results\n",
    "\n",
    "And then finally to check for the lowest position\n",
    "\n",
    "...\n",
    "\n",
    "But idea works!"
   ]
  },
  {
   "cell_type": "code",
   "execution_count": 26,
   "metadata": {},
   "outputs": [
    {
     "data": {
      "text/plain": [
       "(81, 95)"
      ]
     },
     "execution_count": 26,
     "metadata": {},
     "output_type": "execute_result"
    }
   ],
   "source": [
    "curResult"
   ]
  },
  {
   "cell_type": "code",
   "execution_count": 27,
   "metadata": {},
   "outputs": [
    {
     "data": {
      "text/plain": [
       "[[81, 95]]"
      ]
     },
     "execution_count": 27,
     "metadata": {},
     "output_type": "execute_result"
    }
   ],
   "source": [
    "allRanges = (str(curResult).replace('[','').replace(']','')).split('), (')\n",
    "allRanges = [x.replace('(','').replace(')','') for x in allRanges]\n",
    "allRanges = [x.split(',') for x in allRanges]\n",
    "for k in range(len(allRanges)):\n",
    "    allRanges[k] = [int(x) for x in allRanges[k]]\n",
    "    \n",
    "allRanges"
   ]
  },
  {
   "cell_type": "code",
   "execution_count": null,
   "metadata": {},
   "outputs": [],
   "source": [
    "\n",
    "curResult = checkMapRange(curS,curE,0)"
   ]
  },
  {
   "cell_type": "code",
   "execution_count": 16,
   "metadata": {},
   "outputs": [],
   "source": [
    "\n",
    "##  Doesn't work, forgot to take into account numbers that map to themselves..."
   ]
  },
  {
   "cell_type": "code",
   "execution_count": 17,
   "metadata": {},
   "outputs": [
    {
     "name": "stdout",
     "output_type": "stream",
     "text": [
      "55 68 98 100 50 52\n",
      "7 20\n"
     ]
    }
   ],
   "source": [
    "print(curS,curE,sourS,sourE,destS,destE)\n",
    "\n",
    "curLen = curE-curS \n",
    "curLen\n",
    "finS = destS + curS - sourS\n",
    "finE = destS + curS - sourS + curLen\n",
    "print(finS,finE)"
   ]
  },
  {
   "cell_type": "code",
   "execution_count": 18,
   "metadata": {},
   "outputs": [],
   "source": [
    "\n",
    "# # if entirely within range\n",
    "# if (curS >= sourS) & (curE <= sourE):\n",
    "#     print('Entirely in range')\n",
    "# # Start in range, end outside\n",
    "# elif (curS >= sourS) & (curE > sourE) & (curS < sourE):\n",
    "#     print('Starts in range, ends outside')\n",
    "# # Starts out, ends in\n",
    "# elif (curS < sourS) & (curE <= sourE) & (curE > sourS):\n",
    "#     print('Starts out, ends in')\n",
    "# else:\n",
    "#     print('Not in range')\n",
    "\n",
    "# # if curE > sourS:\n",
    "# #     print('End of seed-range is above start of source range')"
   ]
  },
  {
   "cell_type": "code",
   "execution_count": 19,
   "metadata": {},
   "outputs": [
    {
     "data": {
      "text/plain": [
       "[[[50, 98, 2], [52, 50, 48]],\n",
       " [[0, 15, 37], [37, 52, 2], [39, 0, 15]],\n",
       " [[49, 53, 8], [0, 11, 42], [42, 0, 7], [57, 7, 4]],\n",
       " [[88, 18, 7], [18, 25, 70]],\n",
       " [[45, 77, 23], [81, 45, 19], [68, 64, 13]],\n",
       " [[0, 69, 1], [1, 0, 69]],\n",
       " [[60, 56, 37], [56, 93, 4]]]"
      ]
     },
     "execution_count": 19,
     "metadata": {},
     "output_type": "execute_result"
    }
   ],
   "source": [
    "allMaps"
   ]
  },
  {
   "cell_type": "markdown",
   "metadata": {},
   "source": [
    "# Old "
   ]
  },
  {
   "cell_type": "code",
   "execution_count": 20,
   "metadata": {},
   "outputs": [],
   "source": [
    "\n",
    "def checkMap(curVal,curMaps):\n",
    "\n",
    "    ## Start by initializing base-case: When not found, map to itself\n",
    "    curDest = curVal \n",
    "    for thisMap in curMaps:\n",
    "\n",
    "        # print('Current value:',curVal)\n",
    "\n",
    "        destS,sourS,rangeLen = thisMap\n",
    "        # print(thisMap)\n",
    "        # print(destS,sourS,rangeLen)\n",
    "        destE = destS + rangeLen\n",
    "        sourE = sourS + rangeLen\n",
    "\n",
    "\n",
    "        # Check if curVal is above range start\n",
    "        if curVal >= sourS:\n",
    "            # print('Above source start')\n",
    "            if (curVal < sourE):\n",
    "                # print('and below end of range')\n",
    "                # print(sourE)\n",
    "\n",
    "                curDiff = curVal - sourS\n",
    "                curDest = destS + curDiff\n",
    "        if sourS <= curVal < sourS+rangeLen:\n",
    "                curDest = curVal - sourS + destS \n",
    "\n",
    "    # print('Current destination:',curDest)\n",
    "                \n",
    "    return curDest "
   ]
  },
  {
   "cell_type": "code",
   "execution_count": 21,
   "metadata": {},
   "outputs": [],
   "source": [
    "\n",
    "# def checkMap(curVal,curMaps):\n",
    "\n",
    "#     ## Start by initializing base-case: When not found, map to itself\n",
    "#     curDest = curVal \n",
    "#     for thisMap in curMaps:\n",
    "\n",
    "#         # print('Current value:',curVal)\n",
    "\n",
    "#         destS,sourS,rangeLen = thisMap\n",
    "#         # print(thisMap)\n",
    "#         print(destS,sourS,rangeLen)\n",
    "#         destE = destS + rangeLen\n",
    "#         sourE = sourS + rangeLen\n",
    "\n",
    "#         # Check if curVal is above range start\n",
    "#         if curVal >= sourS:\n",
    "#             # print('Above source start')\n",
    "#             if (curVal < sourE):\n",
    "#                 print('and below end of range')\n",
    "#                 # print(sourE)\n",
    "\n",
    "#                 curDiff = curVal - sourS\n",
    "#                 curDest = destS + curDiff\n",
    "\n",
    "#     print('Current destination:',curDest)\n",
    "                \n",
    "#     return curDest "
   ]
  }
 ],
 "metadata": {
  "kernelspec": {
   "display_name": "main",
   "language": "python",
   "name": "python3"
  },
  "language_info": {
   "codemirror_mode": {
    "name": "ipython",
    "version": 3
   },
   "file_extension": ".py",
   "mimetype": "text/x-python",
   "name": "python",
   "nbconvert_exporter": "python",
   "pygments_lexer": "ipython3",
   "version": "3.8.13"
  }
 },
 "nbformat": 4,
 "nbformat_minor": 2
}
