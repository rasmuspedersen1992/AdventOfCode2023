{
 "cells": [
  {
   "cell_type": "code",
   "execution_count": 61,
   "metadata": {},
   "outputs": [
    {
     "name": "stdout",
     "output_type": "stream",
     "text": [
      "Inputs already downloaded\n"
     ]
    }
   ],
   "source": [
    "# Import packages\n",
    "import numpy as np\n",
    "curDay = 5\n",
    "\n",
    "# Download input file\n",
    "from download_inputs import download_inputs\n",
    "from download_inputs import splitTwo\n",
    "\n",
    "\n",
    "import os\n",
    "filename = f'inputs\\\\day{curDay}.txt'\n",
    "if not os.path.exists(filename):\n",
    "    download_inputs(curDay)\n",
    "else:\n",
    "    print('Inputs already downloaded')"
   ]
  },
  {
   "cell_type": "code",
   "execution_count": 62,
   "metadata": {},
   "outputs": [
    {
     "name": "stdout",
     "output_type": "stream",
     "text": [
      "Done loading input\n"
     ]
    }
   ],
   "source": [
    "# Load input into workspace\n",
    "filename = f'inputs\\\\day{curDay}.txt'\n",
    "# curIn = np.loadtxt(filename)\n",
    "\n",
    "inputFile = open(filename)\n",
    "inputs = []\n",
    "inputs = [s for s in inputFile.read().splitlines()]\n",
    "\n",
    "print('Done loading input')"
   ]
  },
  {
   "cell_type": "code",
   "execution_count": 63,
   "metadata": {},
   "outputs": [
    {
     "name": "stdout",
     "output_type": "stream",
     "text": [
      "Done loading test-input\n"
     ]
    }
   ],
   "source": [
    "# Load test-input into workspace\n",
    "filenameTest = f'inputs\\\\day{curDay}_test.txt'\n",
    "\n",
    "inputFileTest = open(filenameTest)\n",
    "inputsTest = []\n",
    "inputsTest = [s for s in inputFileTest.read().splitlines()]\n",
    "\n",
    "print('Done loading test-input') "
   ]
  },
  {
   "cell_type": "code",
   "execution_count": null,
   "metadata": {},
   "outputs": [],
   "source": []
  },
  {
   "cell_type": "markdown",
   "metadata": {},
   "source": [
    "# Part 1"
   ]
  },
  {
   "cell_type": "code",
   "execution_count": 64,
   "metadata": {},
   "outputs": [],
   "source": [
    "curIn = inputsTest \n",
    "curIn = inputs"
   ]
  },
  {
   "cell_type": "code",
   "execution_count": 65,
   "metadata": {},
   "outputs": [],
   "source": [
    "seedNumbers = curIn[0].split(': ')[1].split(' ')\n",
    "seedNumbers = [int(x) for x in seedNumbers]\n",
    "\n",
    "\n",
    "allMaps = []\n",
    "nextMap = []\n",
    "for li in curIn:\n",
    "    if li == '':\n",
    "        allMaps.append(nextMap)\n",
    "        nextMap = []\n",
    "    elif ':' not in li:\n",
    "        toAdd = li.split(' ')\n",
    "        toAdd = [int(x) for x in toAdd]\n",
    "        nextMap.append(toAdd)\n",
    "\n",
    "\n",
    "allMaps.append(nextMap)\n",
    "allMaps = allMaps[1:]\n",
    "\n",
    "# print(allMaps)"
   ]
  },
  {
   "cell_type": "code",
   "execution_count": 66,
   "metadata": {},
   "outputs": [],
   "source": [
    "\n",
    "def checkMap(curVal,curMaps):\n",
    "\n",
    "    ## Start by initializing base-case: When not found, map to itself\n",
    "    curDest = curVal \n",
    "    for thisMap in curMaps:\n",
    "\n",
    "        # print('Current value:',curVal)\n",
    "\n",
    "        destS,sourS,rangeLen = thisMap\n",
    "        # print(thisMap)\n",
    "        # print(destS,sourS,rangeLen)\n",
    "        destE = destS + rangeLen\n",
    "        sourE = sourS + rangeLen\n",
    "\n",
    "\n",
    "        # Check if curVal is above range start\n",
    "        if curVal >= sourS:\n",
    "            # print('Above source start')\n",
    "            if (curVal < sourE):\n",
    "                # print('and below end of range')\n",
    "                # print(sourE)\n",
    "\n",
    "                curDiff = curVal - sourS\n",
    "                curDest = destS + curDiff\n",
    "        if sourS <= curVal < sourS+rangeLen:\n",
    "                curDest = curVal - sourS + destS \n",
    "\n",
    "    # print('Current destination:',curDest)\n",
    "                \n",
    "    return curDest "
   ]
  },
  {
   "cell_type": "code",
   "execution_count": 67,
   "metadata": {},
   "outputs": [
    {
     "data": {
      "text/plain": [
       "389056265"
      ]
     },
     "execution_count": 67,
     "metadata": {},
     "output_type": "execute_result"
    }
   ],
   "source": [
    "# curMaps = allMaps[0]\n",
    "# curVal = seedNumbers[0]\n",
    "\n",
    "sol1 = 99999999999999900000000000\n",
    "\n",
    "for initSeed in seedNumbers:\n",
    "    # print('Starting with',initSeed)\n",
    "\n",
    "    curVal = initSeed\n",
    "\n",
    "    for curMaps in allMaps:\n",
    "        curVal = checkMap(curVal,curMaps)\n",
    "    # print(curVal,sol1)\n",
    "    if curVal < sol1:\n",
    "        sol1 = curVal \n",
    "sol1"
   ]
  },
  {
   "cell_type": "markdown",
   "metadata": {},
   "source": [
    "# Part 2"
   ]
  },
  {
   "cell_type": "code",
   "execution_count": 215,
   "metadata": {},
   "outputs": [],
   "source": [
    "curIn = inputsTest \n",
    "curIn = inputs"
   ]
  },
  {
   "cell_type": "code",
   "execution_count": 216,
   "metadata": {},
   "outputs": [],
   "source": [
    "seedNumbers = curIn[0].split(': ')[1].split(' ')\n",
    "seedNumbers = [int(x) for x in seedNumbers]\n",
    "\n",
    "\n",
    "allMaps = []\n",
    "nextMap = []\n",
    "for li in curIn:\n",
    "    if li == '':\n",
    "        allMaps.append(nextMap)\n",
    "        nextMap = []\n",
    "    elif ':' not in li:\n",
    "        toAdd = li.split(' ')\n",
    "        toAdd = [int(x) for x in toAdd]\n",
    "        nextMap.append(toAdd)\n",
    "\n",
    "\n",
    "allMaps.append(nextMap)\n",
    "allMaps = allMaps[1:]\n",
    "\n",
    "# print(allMaps)"
   ]
  },
  {
   "cell_type": "code",
   "execution_count": 217,
   "metadata": {},
   "outputs": [
    {
     "data": {
      "text/plain": [
       "[4239267129,\n",
       " 20461805,\n",
       " 2775736218,\n",
       " 52390530,\n",
       " 3109225152,\n",
       " 741325372,\n",
       " 1633502651,\n",
       " 46906638,\n",
       " 967445712,\n",
       " 47092469,\n",
       " 2354891449,\n",
       " 237152885,\n",
       " 2169258488,\n",
       " 111184803,\n",
       " 2614747853,\n",
       " 123738802,\n",
       " 620098496,\n",
       " 291114156,\n",
       " 2072253071,\n",
       " 28111202]"
      ]
     },
     "execution_count": 217,
     "metadata": {},
     "output_type": "execute_result"
    }
   ],
   "source": [
    "seedNumbers\n"
   ]
  },
  {
   "cell_type": "code",
   "execution_count": 218,
   "metadata": {},
   "outputs": [
    {
     "name": "stdout",
     "output_type": "stream",
     "text": [
      "Seed-range: 4239267129 to 4259728934\n",
      "Values\n",
      "641364296 to 1773785333\n",
      "Maps to:\n",
      "803774611 to 1936195648\n",
      "Starts above (and ends above)\n"
     ]
    }
   ],
   "source": [
    "79+14\n",
    "seedID = 0\n",
    "mapID = 0\n",
    "curMaps = allMaps[0]\n",
    "# thisMap = curMaps[mapID]\n",
    "# thisMap = curMaps[1]\n",
    "\n",
    "\n",
    "\n",
    "curS = seedNumbers[seedID]\n",
    "curE = curS + seedNumbers[seedID + 1]\n",
    "\n",
    "thisMap = curMaps[mapID]\n",
    "\n",
    "# curS \n",
    "\n",
    "# curS = 47\n",
    "# curE = 52\n",
    "# curS = 86\n",
    "# curE = 152\n",
    "# # curS = 0\n",
    "# # curE = 4\n",
    "# # curS = 0\n",
    "# # curE = 210\n",
    "# curS = 0\n",
    "# curE = 600\n",
    "# curS = 5\n",
    "# curE = 98\n",
    "# curS = 51\n",
    "# curE = 120\n",
    "\n",
    "\n",
    "# print('Current value:',curVal)\n",
    "\n",
    "\n",
    "\n",
    "destS,sourS,rangeLen = thisMap\n",
    "# print(thisMap)\n",
    "# print(destS,sourS,rangeLen)\n",
    "destE = destS + rangeLen\n",
    "sourE = sourS + rangeLen\n",
    "\n",
    "\n",
    "\n",
    "print('Seed-range:',curS,'to',curE)\n",
    "\n",
    "print('Values')\n",
    "print(sourS,'to',sourE)\n",
    "print('Maps to:')\n",
    "print(destS,'to',destE)\n",
    "\n",
    "# There can be six cases for relation between incoming range and outgoing range\n",
    "if (curS < sourS):\n",
    "    print('Start below')\n",
    "    if (curE < sourS):\n",
    "        print('End below')\n",
    "        # Do nothing?\n",
    "        # Increase map-id and try again\n",
    "\n",
    "    elif (sourS <= curE <= sourE):\n",
    "        print('End in')\n",
    "        # Split in \"before range\" and \"in range\" ranges, re-run both\n",
    "        newS1 = curS \n",
    "        newE1 = sourS - 1\n",
    "        newS2 = sourS \n",
    "        newE2 = curE \n",
    "\n",
    "        print(newS1, newE1, newS2, newE2)\n",
    "\n",
    "    elif (sourE < curE):\n",
    "        print('End above')\n",
    "        # Split in \"below range\", \"above range\" and \"in range\" ranges, re-run all three\n",
    "        newS1 = curS \n",
    "        newE1 = sourS - 1\n",
    "        newS2 = sourS \n",
    "        newE2 = sourE\n",
    "        newS3 = sourE + 1\n",
    "        newE3 = curE\n",
    "\n",
    "        print(newS1,'-', newE1, newS2,'-', newE2,newS3,'-', newE3)\n",
    "    else:\n",
    "        print('Should not happen!')\n",
    "elif (sourS <= curS < sourE):\n",
    "    print('Start in')\n",
    "    if (curE <= sourE):\n",
    "        print('End in')\n",
    "        # If entirely in range, just map the start and end\n",
    "\n",
    "\n",
    "    elif (curE > sourE):\n",
    "        print('End above')\n",
    "        # Split in \"in range\" and \"after range\" ranges, re-run both\n",
    "        newS1 = curS\n",
    "        newE1 = sourE \n",
    "        newS2 = sourE + 1 \n",
    "        newE2 = curE \n",
    "\n",
    "        print(newS1, newE1, newS2, newE2)\n",
    "\n",
    "    else:\n",
    "        print('Should not happen!')\n",
    "elif (sourE < curS):\n",
    "    print('Starts above (and ends above)')\n",
    "    # Do nothing?\n",
    "    # Increase map-id and try again\n",
    "else:\n",
    "    print('Should not happen!')\n"
   ]
  },
  {
   "cell_type": "code",
   "execution_count": 219,
   "metadata": {},
   "outputs": [],
   "source": [
    "# curMaps = allMaps[0]\n",
    "# curMaps.append([0,0,1000])\n",
    "# curMaps"
   ]
  },
  {
   "cell_type": "code",
   "execution_count": 220,
   "metadata": {},
   "outputs": [],
   "source": [
    "curMaps = allMaps[0].copy()\n",
    "curMaps.append([0,0,100000000000])\n",
    "# thisMap = curMaps[mapID]\n"
   ]
  },
  {
   "cell_type": "code",
   "execution_count": 221,
   "metadata": {},
   "outputs": [],
   "source": [
    "\n",
    "def checkMapRange(curS,curE,mapID,mapArray):\n",
    "\n",
    "    thisMap = mapArray[mapID]\n",
    "\n",
    "    destS,sourS,rangeLen = thisMap\n",
    "    # print(thisMap)\n",
    "    # print('This map:',destS,sourS,rangeLen)\n",
    "    destE = destS + rangeLen - 1\n",
    "    sourE = sourS + rangeLen - 1\n",
    "\n",
    "\n",
    "\n",
    "    # print('Seed-range:',curS,'to',curE)\n",
    "\n",
    "    # print('Values')\n",
    "    # print(sourS,'to',sourE)\n",
    "    # print('Maps to:')\n",
    "    # print(destS,'to',destE)\n",
    "\n",
    "    # There can be six cases for relation between incoming range and outgoing range\n",
    "    if (curS < sourS):\n",
    "        # print('Start below')\n",
    "        if (curE < sourS):\n",
    "            # print('End below')\n",
    "            # Do nothing?\n",
    "            # Increase map-id and try again\n",
    "            # print('---Trying next map')\n",
    "            toReturn = checkMapRange(curS,curE,mapID + 1,mapArray)\n",
    "\n",
    "        elif (sourS <= curE <= sourE):\n",
    "            # print('End in')\n",
    "            # Split in \"before range\" and \"in range\" ranges, re-run both\n",
    "            newS1 = curS \n",
    "            newE1 = sourS - 1\n",
    "            newS2 = sourS \n",
    "            newE2 = curE \n",
    "\n",
    "            # print(newS1,'-', newE1, newS2,'-', newE2)\n",
    "            toReturn1 = checkMapRange(newS1,newE1,mapID,mapArray)\n",
    "            toReturn2 = checkMapRange(newS2,newE2,mapID,mapArray)\n",
    "            # print(toReturn1,toReturn2)\n",
    "            toReturn = [toReturn1,toReturn2]\n",
    "\n",
    "        elif (sourE < curE):\n",
    "            # print('End above')\n",
    "            # Split in \"below range\", \"above range\" and \"in range\" ranges, re-run all three\n",
    "            newS1 = curS \n",
    "            newE1 = sourS - 1\n",
    "            newS2 = sourS \n",
    "            newE2 = sourE\n",
    "            newS3 = sourE + 1\n",
    "            newE3 = curE\n",
    "\n",
    "            # print(newS1,'-', newE1, newS2,'-', newE2,newS3,'-', newE3)\n",
    "            toReturn1 = checkMapRange(newS1,newE1,mapID,mapArray)\n",
    "            toReturn2 = checkMapRange(newS2,newE2,mapID,mapArray)\n",
    "            toReturn3 = checkMapRange(newS3,newE3,mapID,mapArray)\n",
    "            # print(toReturn1,toReturn2,toReturn3)\n",
    "            toReturn = [toReturn1,toReturn2,toReturn3]\n",
    "        else:\n",
    "            # print('Should not happen!')\n",
    "            print('1 Should not happen!',curS,curE,sourS,sourE)\n",
    "    elif (sourS <= curS <= sourE):\n",
    "        # print('Start in')\n",
    "        # print('asdf',sourE)\n",
    "        if (curE <= sourE):\n",
    "            # print('End in')\n",
    "            # If entirely in range, map the start and end\n",
    "            \n",
    "            curLen = curE-curS \n",
    "            curLen\n",
    "            finS = destS + curS - sourS\n",
    "            finE = destS + curS - sourS + curLen\n",
    "            return finS,finE \n",
    "            # return curS,curE,sourS,sourE,destS,destE\n",
    "\n",
    "\n",
    "        elif (curE >= sourE):\n",
    "            # print('End above')\n",
    "            # Split in \"in range\" and \"after range\" ranges, re-run both\n",
    "            newS1 = curS\n",
    "            newE1 = sourE \n",
    "            newS2 = sourE + 1 \n",
    "            newE2 = curE \n",
    "\n",
    "            # print(newS1,'-', newE1, newS2,'-', newE2)\n",
    "            toReturn1 = checkMapRange(newS1,newE1,mapID,mapArray)\n",
    "            toReturn2 = checkMapRange(newS2,newE2,mapID,mapArray)\n",
    "            # print(toReturn1,toReturn2)\n",
    "            toReturn = [toReturn1,toReturn2]\n",
    "\n",
    "        else:\n",
    "            print('2 Should not happen!',curS,curE,sourS,sourE)\n",
    "    elif (sourE < curS):\n",
    "        # print('Starts above (and ends above)')\n",
    "        # Do nothing?\n",
    "        # Increase map-id and try again\n",
    "        # print('---Trying next map')\n",
    "        toReturn = checkMapRange(curS,curE,mapID + 1,mapArray)\n",
    "    else:\n",
    "        print('3 Should not happen!',curS,curE,sourS,sourE)\n",
    "    \n",
    "    return toReturn \n",
    "\n"
   ]
  },
  {
   "cell_type": "code",
   "execution_count": 222,
   "metadata": {},
   "outputs": [],
   "source": [
    "curS = 97\n",
    "curE = 97\n",
    "curResult = checkMapRange(curS,curE,0,allMapsExtra[0])"
   ]
  },
  {
   "cell_type": "code",
   "execution_count": 223,
   "metadata": {},
   "outputs": [
    {
     "data": {
      "text/plain": [
       "(41, 41)"
      ]
     },
     "execution_count": 223,
     "metadata": {},
     "output_type": "execute_result"
    }
   ],
   "source": [
    "curS = 52\n",
    "curE = 52\n",
    "curResult = checkMapRange(curS,curE,0,allMapsExtra[2])\n",
    "curResult"
   ]
  },
  {
   "cell_type": "code",
   "execution_count": 224,
   "metadata": {},
   "outputs": [],
   "source": [
    "curMaps = allMaps[0].copy()\n",
    "# curMaps = allMaps[1].copy()\n",
    "# curMaps = allMaps[2].copy()\n",
    "# curMaps = allMaps[3].copy()\n",
    "# curMaps = allMaps[4].copy()\n",
    "# curMaps = allMaps[5].copy()\n",
    "# curMaps = allMaps[6].copy()\n",
    "curMaps.append([0,0,100000000000])"
   ]
  },
  {
   "cell_type": "code",
   "execution_count": 225,
   "metadata": {},
   "outputs": [],
   "source": [
    "# allMaps"
   ]
  },
  {
   "cell_type": "code",
   "execution_count": 226,
   "metadata": {},
   "outputs": [
    {
     "data": {
      "text/plain": [
       "[[[803774611, 641364296, 1132421037],\n",
       "  [248421506, 1797371961, 494535345],\n",
       "  [1936195648, 2752993203, 133687519],\n",
       "  [2069883167, 2294485405, 458507798],\n",
       "  [2804145277, 283074539, 358289757],\n",
       "  [3162435034, 2886680722, 1132532262],\n",
       "  [2528390965, 4019212984, 275754312],\n",
       "  [766543479, 248421506, 34653033],\n",
       "  [742956851, 1773785333, 23586628],\n",
       "  [801196512, 2291907306, 2578099],\n",
       "  [0, 0, 100000000000]],\n",
       " [[2497067833, 718912393, 1047592994],\n",
       "  [3544660827, 4222700866, 72266430],\n",
       "  [770426288, 3365742958, 209338740],\n",
       "  [3698421476, 2775964622, 508284117],\n",
       "  [1441878450, 1818019282, 725791090],\n",
       "  [417593992, 265113557, 15217985],\n",
       "  [979765028, 3760587444, 462113422],\n",
       "  [2167669540, 2543810372, 143892547],\n",
       "  [3616927257, 3284248739, 81494219],\n",
       "  [4206705593, 2687702919, 88261703],\n",
       "  [2380194851, 3575081698, 116872982],\n",
       "  [0, 280331542, 15942291],\n",
       "  [718912393, 1766505387, 51513895],\n",
       "  [152480435, 0, 265113557],\n",
       "  [2311562087, 3691954680, 68632764],\n",
       "  [15942291, 296273833, 136538144],\n",
       "  [0, 0, 100000000000]],\n",
       " [[0, 402310798, 253353164],\n",
       "  [778924681, 2773042028, 194127973],\n",
       "  [2853824225, 2967170001, 585461563],\n",
       "  [3827117536, 3909653920, 385313376],\n",
       "  [4259877071, 3552631564, 35090225],\n",
       "  [973052654, 3635167948, 222704323],\n",
       "  [253353164, 0, 389964349],\n",
       "  [2230088185, 778924681, 571954391],\n",
       "  [1195756977, 1490392659, 342200935],\n",
       "  [2802042576, 3857872271, 51781649],\n",
       "  [643317513, 389964349, 12346449],\n",
       "  [4212430912, 3587721789, 47446159],\n",
       "  [3439285788, 2385210280, 387831748],\n",
       "  [1677471499, 1832593594, 552616686],\n",
       "  [1537957912, 1350879072, 139513587],\n",
       "  [0, 0, 100000000000]],\n",
       " [[1548505089, 767179152, 4433418],\n",
       "  [3833169479, 2956286720, 133538400],\n",
       "  [2966709060, 3309731935, 102304094],\n",
       "  [1552938507, 844050660, 203612289],\n",
       "  [4257043426, 3089825120, 37923870],\n",
       "  [2862957901, 3567999512, 28008008],\n",
       "  [127112704, 319767838, 4466599],\n",
       "  [840317941, 174506417, 34039792],\n",
       "  [2890965909, 3596007520, 40520529],\n",
       "  [15787022, 2007458428, 111325682],\n",
       "  [2398090681, 21771313, 152735104],\n",
       "  [1094590916, 1294380254, 4387553],\n",
       "  [517844904, 840169267, 3881393],\n",
       "  [2556445662, 1535118242, 8735340],\n",
       "  [1266005567, 2376897884, 172496096],\n",
       "  [874357733, 1314885059, 220233183],\n",
       "  [3696946976, 2820064217, 136222503],\n",
       "  [2271345339, 208546209, 111221629],\n",
       "  [703336145, 477538609, 136981796],\n",
       "  [389299157, 1710880680, 59057725],\n",
       "  [4183266377, 2766992510, 22982117],\n",
       "  [521726297, 324234437, 53105792],\n",
       "  [1438501663, 1881931289, 110003426],\n",
       "  [131579303, 1298767807, 16117252],\n",
       "  [2102535156, 614520405, 152658747],\n",
       "  [0, 2549393980, 15787022],\n",
       "  [1098978469, 1543853582, 167027098],\n",
       "  [3966707879, 2789974627, 30089590],\n",
       "  [2255193903, 0, 16151436],\n",
       "  [1756550796, 377340229, 100198380],\n",
       "  [574832089, 2360386712, 16511172],\n",
       "  [2382566968, 1991934715, 15523713],\n",
       "  [3069013154, 3636528049, 627933822],\n",
       "  [2766992510, 3178543922, 79332992],\n",
       "  [2931486438, 3274509313, 35222622],\n",
       "  [3996797469, 4264461871, 30505425],\n",
       "  [2846325502, 3257876914, 16632399],\n",
       "  [2033978459, 771612570, 68556697],\n",
       "  [4206248494, 3127748990, 50794932],\n",
       "  [2550825785, 16151436, 5619877],\n",
       "  [591343261, 1769938405, 111992884],\n",
       "  [448356882, 1047662949, 69488022],\n",
       "  [4027302894, 3412036029, 155963483],\n",
       "  [147696555, 2118784110, 241602602],\n",
       "  [1856749176, 1117150971, 177229283],\n",
       "  [0, 0, 100000000000]],\n",
       " [[2549521624, 1806050718, 400234502],\n",
       "  [1279003707, 1469066403, 336984315],\n",
       "  [2063720323, 2518736018, 367281175],\n",
       "  [4240496851, 236622733, 54470445],\n",
       "  [3737038415, 1201359870, 20798035],\n",
       "  [1170741345, 1222157905, 108262362],\n",
       "  [1925074187, 1330420267, 138646136],\n",
       "  [3757836450, 291093178, 323945285],\n",
       "  [3424587617, 2206285220, 312450798],\n",
       "  [236622733, 2886017193, 934118612],\n",
       "  [4138496410, 1042644754, 102000441],\n",
       "  [4081781735, 1144645195, 56714675],\n",
       "  [2431001498, 615038463, 118520126],\n",
       "  [1615988022, 733558589, 309086165],\n",
       "  [2949756126, 3820135805, 474831491],\n",
       "  [0, 0, 100000000000]],\n",
       " [[725888341, 86282489, 843183510],\n",
       "  [3782717746, 1630698708, 99613080],\n",
       "  [2529768467, 2786969418, 347392693],\n",
       "  [2195908552, 2059541517, 89214959],\n",
       "  [3062107482, 2168182310, 90554707],\n",
       "  [1730470902, 3134362111, 465437650],\n",
       "  [2964061476, 2688923412, 98046006],\n",
       "  [2285123511, 2358509211, 13167510],\n",
       "  [2877161160, 3875960109, 61807956],\n",
       "  [0, 929465999, 639605852],\n",
       "  [3484769060, 2148756476, 19425834],\n",
       "  [2298291021, 1730311788, 170053852],\n",
       "  [639605852, 0, 86282489],\n",
       "  [3504194894, 2371676721, 119346975],\n",
       "  [4275382932, 3599799761, 19584364],\n",
       "  [2468344873, 2491023696, 61423594],\n",
       "  [3623541869, 1900365640, 159175877],\n",
       "  [4138906810, 2552447290, 136476122],\n",
       "  [3918976473, 3656029772, 219930337],\n",
       "  [2938969116, 4269874936, 25092360],\n",
       "  [3882330826, 3619384125, 36645647],\n",
       "  [3152662189, 3937768065, 332106871],\n",
       "  [1630698708, 2258737017, 99772194],\n",
       "  [0, 0, 100000000000]],\n",
       " [[1426868383, 2786540732, 64165562],\n",
       "  [1639911414, 2027746720, 730664673],\n",
       "  [857589555, 0, 114197007],\n",
       "  [2370576087, 1887556908, 140189812],\n",
       "  [3396523523, 1265337150, 488817864],\n",
       "  [1491033945, 2850706294, 148877469],\n",
       "  [3885341387, 2999583763, 409625909],\n",
       "  [0, 114197007, 857589555],\n",
       "  [1293466489, 1754155014, 133401894],\n",
       "  [2510765899, 3409209672, 885757624],\n",
       "  [1265337150, 2758411393, 28129339],\n",
       "  [0, 0, 100000000000]]]"
      ]
     },
     "execution_count": 226,
     "metadata": {},
     "output_type": "execute_result"
    }
   ],
   "source": [
    "# for \n",
    "allMaps[0]\n",
    "\n",
    "allMapsExtra = []\n",
    "for i in range(len(allMaps)):\n",
    "    curMaps = allMaps[i].copy()\n",
    "    curMaps.append([0,0,100000000000])\n",
    "    allMapsExtra.append(curMaps)\n",
    "# allMapsExtra = allMaps.copy()\n",
    "# for \n",
    "# [x.append([0,0,10000]) for x in allMapsExtra]\n",
    "allMapsExtra"
   ]
  },
  {
   "cell_type": "code",
   "execution_count": 227,
   "metadata": {},
   "outputs": [
    {
     "name": "stdout",
     "output_type": "stream",
     "text": [
      "82\n",
      "82\n",
      "152480517\n",
      "405833681\n",
      "1785044248\n",
      "1594981552\n",
      "1594981552\n",
      "3726167925\n"
     ]
    }
   ],
   "source": [
    "# Check a single number\n",
    "curVal = 82\n",
    "\n",
    "print(curVal)\n",
    "for i in range(len(allMapsExtra)):\n",
    "    curVal,_ = checkMapRange(curVal,curVal,0,allMapsExtra[i])\n",
    "    print(curVal)\n"
   ]
  },
  {
   "cell_type": "code",
   "execution_count": 228,
   "metadata": {},
   "outputs": [
    {
     "name": "stdout",
     "output_type": "stream",
     "text": [
      "2775736218 2828126748\n",
      "(1958938663, 2011329193)\n",
      "[(4294738892, 4294967295), (3698421476, 3750583602)]\n",
      "(781618871, 834009401)\n",
      "[[(4192010085, 4206248493), (3966707879, 3996797468)], (3696946976, 3705009507)]\n",
      "(2320720523, 2373111053)\n",
      "[(3050874282, 3062107481), (2529768467, 2570925797)]\n",
      "[(1282661975, 1293466488), (1426868383, 1468454399)]\n"
     ]
    }
   ],
   "source": [
    "\n",
    "seedID = 0\n",
    "seedID = 1\n",
    "iniS = seedNumbers[2*seedID]\n",
    "iniE = iniS + seedNumbers[2*seedID + 1]\n",
    "\n",
    "curS = iniS \n",
    "curE = iniE \n",
    "\n",
    "# curS = 82 \n",
    "# curE = 82\n",
    "\n",
    "# # curS = 0\n",
    "# # curE = 12000\n",
    "# curS = 81\n",
    "# curE = 95\n",
    "# curS = 82\n",
    "# curE = 82\n",
    "# curS = 46\n",
    "# curE = curS \n",
    "# curS,curE,sourS,sourE,destS,destE = checkMapRange(curS,curE,0)\n",
    "\n",
    "print(curS,curE)\n",
    "\n",
    "curResult = checkMapRange(curS,curE,0,allMapsExtra[0])\n",
    "print(curResult)\n",
    "curResult = checkMapRange(curS,curE,0,allMapsExtra[1])\n",
    "print(curResult)\n",
    "curResult = checkMapRange(curS,curE,0,allMapsExtra[2])\n",
    "print(curResult)\n",
    "curResult = checkMapRange(curS,curE,0,allMapsExtra[3])\n",
    "print(curResult)\n",
    "curResult = checkMapRange(curS,curE,0,allMapsExtra[4])\n",
    "print(curResult)\n",
    "curResult = checkMapRange(curS,curE,0,allMapsExtra[5])\n",
    "print(curResult)\n",
    "curResult = checkMapRange(curS,curE,0,allMapsExtra[6])\n",
    "print(curResult)"
   ]
  },
  {
   "cell_type": "code",
   "execution_count": 229,
   "metadata": {},
   "outputs": [],
   "source": [
    "curS = 52\n",
    "curE = 56\n",
    "curResult = checkMapRange(curS,curE,0,allMapsExtra[2])"
   ]
  },
  {
   "cell_type": "code",
   "execution_count": 230,
   "metadata": {},
   "outputs": [],
   "source": [
    "def getAllRanges(curResult):\n",
    "    allRanges = (str(curResult).replace('[','').replace(']','')).split('), (')\n",
    "    allRanges = [x.replace('(','').replace(')','') for x in allRanges]\n",
    "    allRanges = [x.split(',') for x in allRanges]\n",
    "    for k in range(len(allRanges)):\n",
    "        allRanges[k] = [int(x) for x in allRanges[k]]\n",
    "        \n",
    "    return allRanges"
   ]
  },
  {
   "cell_type": "code",
   "execution_count": 231,
   "metadata": {},
   "outputs": [],
   "source": [
    "def rangeToRange(curS,curE,curMaps):\n",
    "        \n",
    "    # print(curS,curE)\n",
    "    curResult = checkMapRange(curS,curE,0,curMaps)\n",
    "    # print(curResult)\n",
    "    newRanges = getAllRanges(curResult)\n",
    "    # print(newRanges)\n",
    "    return newRanges\n",
    "\n",
    "mapsNum = 0\n",
    "newRanges = rangeToRange(48,51,allMapsExtra[mapsNum]) \n"
   ]
  },
  {
   "cell_type": "code",
   "execution_count": null,
   "metadata": {},
   "outputs": [],
   "source": []
  },
  {
   "cell_type": "code",
   "execution_count": 232,
   "metadata": {},
   "outputs": [
    {
     "name": "stdout",
     "output_type": "stream",
     "text": [
      "[[52, 56]]\n",
      "[[152480487, 152480491]]\n",
      "[[405833651, 405833655]]\n",
      "[[1785044218, 1785044222]]\n",
      "[[1594981522, 1594981526]]\n",
      "[[1594981522, 1594981526]]\n",
      "[[3726167895, 3726167899]]\n"
     ]
    }
   ],
   "source": [
    "def rangesToRanges(preRanges,mapsNum):\n",
    "    toReturn = []\n",
    "    for thisRange in preRanges:\n",
    "        # print('thisRange:',thisRange)\n",
    "        newRanges = rangeToRange(thisRange[0],thisRange[1],allMapsExtra[mapsNum]) \n",
    "        # print(newRanges)\n",
    "\n",
    "        for ran in newRanges:\n",
    "            toReturn.append(ran)\n",
    "    return toReturn\n",
    "\n",
    "mapsNum = 0\n",
    "\n",
    "# curRanges = rangeToRange(82,82,allMapsExtra[mapsNum]) \n",
    "curS = 52\n",
    "curE = 56\n",
    "curRanges = [[curS,curE]]\n",
    "\n",
    "for i in range(0,7):\n",
    "    curRanges = rangesToRanges(curRanges,i) \n",
    "\n",
    "    print(curRanges)\n",
    "\n",
    "# curRanges = rangesToRanges(curRanges,1) \n",
    "\n",
    "# print(curRanges)\n",
    "\n",
    "# curRanges = rangesToRanges(curRanges,2)\n",
    "# print(curRanges)\n",
    "# curRanges = rangesToRanges(curRanges,3)\n",
    "# print(curRanges)\n",
    "# curRanges = rangesToRanges(curRanges,4)\n",
    "# print(curRanges)\n",
    "# curRanges = rangesToRanges(curRanges,5)\n",
    "# print(curRanges)\n",
    "# curRanges = rangesToRanges(curRanges,6)\n",
    "# print(curRanges)"
   ]
  },
  {
   "cell_type": "code",
   "execution_count": null,
   "metadata": {},
   "outputs": [],
   "source": []
  },
  {
   "cell_type": "code",
   "execution_count": 238,
   "metadata": {},
   "outputs": [
    {
     "name": "stdout",
     "output_type": "stream",
     "text": [
      "896125601\n",
      "656988148\n",
      "170926001\n",
      "170926001\n",
      "170926001\n",
      "137516820\n",
      "137516820\n",
      "137516820\n",
      "137516820\n",
      "137516820\n"
     ]
    }
   ],
   "source": [
    "\n",
    "seedID = 0\n",
    "# seedID = 1\n",
    "\n",
    "curMin = 100000000000\n",
    "totNumSeeds = int(len(seedNumbers)/2)\n",
    "for seedID in range(totNumSeeds):\n",
    "    iniS = seedNumbers[2*seedID]\n",
    "    iniE = iniS + seedNumbers[2*seedID + 1]\n",
    "\n",
    "    curRanges = [[iniS,iniE]]\n",
    "\n",
    "    for i in range(0,7):\n",
    "        curRanges = rangesToRanges(curRanges,i) \n",
    "\n",
    "        # print(curRanges)\n",
    "\n",
    "    # curMin = 100000000000\n",
    "    for ran in curRanges:\n",
    "        ranIni = ran[0]\n",
    "        if ranIni < curMin:\n",
    "            curMin = ranIni \n",
    "    print(curMin)\n",
    "\n"
   ]
  },
  {
   "cell_type": "code",
   "execution_count": 239,
   "metadata": {},
   "outputs": [
    {
     "name": "stdout",
     "output_type": "stream",
     "text": [
      "Part 2 solution: 137516820\n"
     ]
    }
   ],
   "source": [
    "print('Part 2 solution:',curMin)"
   ]
  },
  {
   "cell_type": "markdown",
   "metadata": {},
   "source": [
    "# Old stuff and tests below"
   ]
  },
  {
   "cell_type": "code",
   "execution_count": 108,
   "metadata": {},
   "outputs": [
    {
     "name": "stdout",
     "output_type": "stream",
     "text": [
      "48 51\n",
      "[(48, 49), (52, 53)]\n",
      "[[48, 49], [52, 53]]\n"
     ]
    }
   ],
   "source": [
    "\n",
    "seedID = 0\n",
    "seedID = 1\n",
    "iniS = seedNumbers[2*seedID]\n",
    "iniE = iniS + seedNumbers[2*seedID + 1]\n",
    "\n",
    "curS = iniS \n",
    "curE = iniE \n",
    "curS = 48\n",
    "curE = 51\n",
    "\n",
    "# for mapsNum in range(len(allMapsExtra)):\n",
    "mapsNum = 0\n",
    "\n",
    "print(curS,curE)\n",
    "curResult = checkMapRange(curS,curE,0,allMapsExtra[mapsNum])\n",
    "print(curResult)\n",
    "curResult = getAllRanges(curResult)\n",
    "print(curResult)\n",
    "\n",
    "\n",
    "# for res in curResult:\n",
    "#     print(res)\n",
    "#     curS,curE = res\n",
    "    \n",
    "#     curResult = checkMapRange(curS,curE,0,allMapsExtra[mapsNum])\n",
    "#     print(curResult)\n",
    "#     # curS,curE = curResult\n",
    "    \n",
    "#     # print(len(curResult))"
   ]
  },
  {
   "cell_type": "code",
   "execution_count": 26,
   "metadata": {},
   "outputs": [
    {
     "data": {
      "text/plain": [
       "(81, 95)"
      ]
     },
     "execution_count": 26,
     "metadata": {},
     "output_type": "execute_result"
    }
   ],
   "source": [
    "curResult"
   ]
  },
  {
   "cell_type": "code",
   "execution_count": 27,
   "metadata": {},
   "outputs": [
    {
     "data": {
      "text/plain": [
       "[[81, 95]]"
      ]
     },
     "execution_count": 27,
     "metadata": {},
     "output_type": "execute_result"
    }
   ],
   "source": [
    "allRanges = (str(curResult).replace('[','').replace(']','')).split('), (')\n",
    "allRanges = [x.replace('(','').replace(')','') for x in allRanges]\n",
    "allRanges = [x.split(',') for x in allRanges]\n",
    "for k in range(len(allRanges)):\n",
    "    allRanges[k] = [int(x) for x in allRanges[k]]\n",
    "    \n",
    "allRanges"
   ]
  },
  {
   "cell_type": "code",
   "execution_count": null,
   "metadata": {},
   "outputs": [],
   "source": [
    "\n",
    "curResult = checkMapRange(curS,curE,0)"
   ]
  },
  {
   "cell_type": "code",
   "execution_count": 16,
   "metadata": {},
   "outputs": [],
   "source": [
    "\n",
    "##  Doesn't work, forgot to take into account numbers that map to themselves..."
   ]
  },
  {
   "cell_type": "code",
   "execution_count": 17,
   "metadata": {},
   "outputs": [
    {
     "name": "stdout",
     "output_type": "stream",
     "text": [
      "55 68 98 100 50 52\n",
      "7 20\n"
     ]
    }
   ],
   "source": [
    "print(curS,curE,sourS,sourE,destS,destE)\n",
    "\n",
    "curLen = curE-curS \n",
    "curLen\n",
    "finS = destS + curS - sourS\n",
    "finE = destS + curS - sourS + curLen\n",
    "print(finS,finE)"
   ]
  },
  {
   "cell_type": "code",
   "execution_count": 18,
   "metadata": {},
   "outputs": [],
   "source": [
    "\n",
    "# # if entirely within range\n",
    "# if (curS >= sourS) & (curE <= sourE):\n",
    "#     print('Entirely in range')\n",
    "# # Start in range, end outside\n",
    "# elif (curS >= sourS) & (curE > sourE) & (curS < sourE):\n",
    "#     print('Starts in range, ends outside')\n",
    "# # Starts out, ends in\n",
    "# elif (curS < sourS) & (curE <= sourE) & (curE > sourS):\n",
    "#     print('Starts out, ends in')\n",
    "# else:\n",
    "#     print('Not in range')\n",
    "\n",
    "# # if curE > sourS:\n",
    "# #     print('End of seed-range is above start of source range')"
   ]
  },
  {
   "cell_type": "code",
   "execution_count": 19,
   "metadata": {},
   "outputs": [
    {
     "data": {
      "text/plain": [
       "[[[50, 98, 2], [52, 50, 48]],\n",
       " [[0, 15, 37], [37, 52, 2], [39, 0, 15]],\n",
       " [[49, 53, 8], [0, 11, 42], [42, 0, 7], [57, 7, 4]],\n",
       " [[88, 18, 7], [18, 25, 70]],\n",
       " [[45, 77, 23], [81, 45, 19], [68, 64, 13]],\n",
       " [[0, 69, 1], [1, 0, 69]],\n",
       " [[60, 56, 37], [56, 93, 4]]]"
      ]
     },
     "execution_count": 19,
     "metadata": {},
     "output_type": "execute_result"
    }
   ],
   "source": [
    "allMaps"
   ]
  },
  {
   "cell_type": "markdown",
   "metadata": {},
   "source": [
    "# Old "
   ]
  },
  {
   "cell_type": "code",
   "execution_count": 20,
   "metadata": {},
   "outputs": [],
   "source": [
    "\n",
    "def checkMap(curVal,curMaps):\n",
    "\n",
    "    ## Start by initializing base-case: When not found, map to itself\n",
    "    curDest = curVal \n",
    "    for thisMap in curMaps:\n",
    "\n",
    "        # print('Current value:',curVal)\n",
    "\n",
    "        destS,sourS,rangeLen = thisMap\n",
    "        # print(thisMap)\n",
    "        # print(destS,sourS,rangeLen)\n",
    "        destE = destS + rangeLen\n",
    "        sourE = sourS + rangeLen\n",
    "\n",
    "\n",
    "        # Check if curVal is above range start\n",
    "        if curVal >= sourS:\n",
    "            # print('Above source start')\n",
    "            if (curVal < sourE):\n",
    "                # print('and below end of range')\n",
    "                # print(sourE)\n",
    "\n",
    "                curDiff = curVal - sourS\n",
    "                curDest = destS + curDiff\n",
    "        if sourS <= curVal < sourS+rangeLen:\n",
    "                curDest = curVal - sourS + destS \n",
    "\n",
    "    # print('Current destination:',curDest)\n",
    "                \n",
    "    return curDest "
   ]
  },
  {
   "cell_type": "code",
   "execution_count": 21,
   "metadata": {},
   "outputs": [],
   "source": [
    "\n",
    "# def checkMap(curVal,curMaps):\n",
    "\n",
    "#     ## Start by initializing base-case: When not found, map to itself\n",
    "#     curDest = curVal \n",
    "#     for thisMap in curMaps:\n",
    "\n",
    "#         # print('Current value:',curVal)\n",
    "\n",
    "#         destS,sourS,rangeLen = thisMap\n",
    "#         # print(thisMap)\n",
    "#         print(destS,sourS,rangeLen)\n",
    "#         destE = destS + rangeLen\n",
    "#         sourE = sourS + rangeLen\n",
    "\n",
    "#         # Check if curVal is above range start\n",
    "#         if curVal >= sourS:\n",
    "#             # print('Above source start')\n",
    "#             if (curVal < sourE):\n",
    "#                 print('and below end of range')\n",
    "#                 # print(sourE)\n",
    "\n",
    "#                 curDiff = curVal - sourS\n",
    "#                 curDest = destS + curDiff\n",
    "\n",
    "#     print('Current destination:',curDest)\n",
    "                \n",
    "#     return curDest "
   ]
  }
 ],
 "metadata": {
  "kernelspec": {
   "display_name": "main",
   "language": "python",
   "name": "python3"
  },
  "language_info": {
   "codemirror_mode": {
    "name": "ipython",
    "version": 3
   },
   "file_extension": ".py",
   "mimetype": "text/x-python",
   "name": "python",
   "nbconvert_exporter": "python",
   "pygments_lexer": "ipython3",
   "version": "3.10.0"
  }
 },
 "nbformat": 4,
 "nbformat_minor": 2
}
