{
 "cells": [
  {
   "cell_type": "code",
   "execution_count": 363,
   "metadata": {},
   "outputs": [
    {
     "name": "stdout",
     "output_type": "stream",
     "text": [
      "Inputs already downloaded\n"
     ]
    }
   ],
   "source": [
    "# Import packages\n",
    "import numpy as np\n",
    "curDay = 5\n",
    "\n",
    "# Download input file\n",
    "from download_inputs import download_inputs\n",
    "from download_inputs import splitTwo\n",
    "\n",
    "\n",
    "import os\n",
    "filename = f'inputs\\\\day{curDay}.txt'\n",
    "if not os.path.exists(filename):\n",
    "    download_inputs(curDay)\n",
    "else:\n",
    "    print('Inputs already downloaded')"
   ]
  },
  {
   "cell_type": "code",
   "execution_count": 364,
   "metadata": {},
   "outputs": [
    {
     "name": "stdout",
     "output_type": "stream",
     "text": [
      "Done loading input\n"
     ]
    }
   ],
   "source": [
    "# Load input into workspace\n",
    "filename = f'inputs\\\\day{curDay}.txt'\n",
    "# curIn = np.loadtxt(filename)\n",
    "\n",
    "inputFile = open(filename)\n",
    "inputs = []\n",
    "inputs = [s for s in inputFile.read().splitlines()]\n",
    "\n",
    "print('Done loading input')"
   ]
  },
  {
   "cell_type": "code",
   "execution_count": 365,
   "metadata": {},
   "outputs": [
    {
     "name": "stdout",
     "output_type": "stream",
     "text": [
      "Done loading test-input\n"
     ]
    }
   ],
   "source": [
    "# Load test-input into workspace\n",
    "filenameTest = f'inputs\\\\day{curDay}_test.txt'\n",
    "\n",
    "inputFileTest = open(filenameTest)\n",
    "inputsTest = []\n",
    "inputsTest = [s for s in inputFileTest.read().splitlines()]\n",
    "\n",
    "print('Done loading test-input') "
   ]
  },
  {
   "cell_type": "code",
   "execution_count": null,
   "metadata": {},
   "outputs": [],
   "source": []
  },
  {
   "cell_type": "markdown",
   "metadata": {},
   "source": [
    "# Part 1"
   ]
  },
  {
   "cell_type": "code",
   "execution_count": 366,
   "metadata": {},
   "outputs": [],
   "source": [
    "curIn = inputsTest \n",
    "curIn = inputs"
   ]
  },
  {
   "cell_type": "code",
   "execution_count": 367,
   "metadata": {},
   "outputs": [],
   "source": [
    "seedNumbers = curIn[0].split(': ')[1].split(' ')\n",
    "seedNumbers = [int(x) for x in seedNumbers]\n",
    "\n",
    "\n",
    "allMaps = []\n",
    "nextMap = []\n",
    "for li in curIn:\n",
    "    if li == '':\n",
    "        allMaps.append(nextMap)\n",
    "        nextMap = []\n",
    "    elif ':' not in li:\n",
    "        toAdd = li.split(' ')\n",
    "        toAdd = [int(x) for x in toAdd]\n",
    "        nextMap.append(toAdd)\n",
    "\n",
    "\n",
    "allMaps.append(nextMap)\n",
    "allMaps = allMaps[1:]\n",
    "\n",
    "# print(allMaps)"
   ]
  },
  {
   "cell_type": "code",
   "execution_count": 368,
   "metadata": {},
   "outputs": [],
   "source": [
    "# allMaps[6]"
   ]
  },
  {
   "cell_type": "code",
   "execution_count": 369,
   "metadata": {},
   "outputs": [],
   "source": [
    "\n",
    "def checkMap(curVal,curMaps):\n",
    "\n",
    "    ## Start by initializing base-case: When not found, map to itself\n",
    "    curDest = curVal \n",
    "    for thisMap in curMaps:\n",
    "\n",
    "        # print('Current value:',curVal)\n",
    "\n",
    "        destS,sourS,rangeLen = thisMap\n",
    "        # print(thisMap)\n",
    "        print(destS,sourS,rangeLen)\n",
    "        destE = destS + rangeLen\n",
    "        sourE = sourS + rangeLen\n",
    "\n",
    "        # Check if curVal is above range start\n",
    "        if curVal >= sourS:\n",
    "            # print('Above source start')\n",
    "            if (curVal < sourE):\n",
    "                print('and below end of range')\n",
    "                # print(sourE)\n",
    "\n",
    "                curDiff = curVal - sourS\n",
    "                curDest = destS + curDiff\n",
    "\n",
    "    print('Current destination:',curDest)\n",
    "                \n",
    "    return curDest "
   ]
  },
  {
   "cell_type": "code",
   "execution_count": 370,
   "metadata": {},
   "outputs": [],
   "source": [
    "\n",
    "def checkMap(curVal,curMaps):\n",
    "\n",
    "    ## Start by initializing base-case: When not found, map to itself\n",
    "    curDest = curVal \n",
    "    for thisMap in curMaps:\n",
    "\n",
    "        # print('Current value:',curVal)\n",
    "\n",
    "        destS,sourS,rangeLen = thisMap\n",
    "        # print(thisMap)\n",
    "        # print(destS,sourS,rangeLen)\n",
    "        destE = destS + rangeLen\n",
    "        sourE = sourS + rangeLen\n",
    "\n",
    "\n",
    "        # Check if curVal is above range start\n",
    "        if curVal >= sourS:\n",
    "            # print('Above source start')\n",
    "            if (curVal < sourE):\n",
    "                # print('and below end of range')\n",
    "                # print(sourE)\n",
    "\n",
    "                curDiff = curVal - sourS\n",
    "                curDest = destS + curDiff\n",
    "        if sourS <= curVal < sourS+rangeLen:\n",
    "                curDest = curVal - sourS + destS \n",
    "\n",
    "    # print('Current destination:',curDest)\n",
    "                \n",
    "    return curDest "
   ]
  },
  {
   "cell_type": "code",
   "execution_count": 371,
   "metadata": {},
   "outputs": [
    {
     "data": {
      "text/plain": [
       "[20461805,\n",
       " 52390530,\n",
       " 741325372,\n",
       " 46906638,\n",
       " 47092469,\n",
       " 237152885,\n",
       " 111184803,\n",
       " 123738802,\n",
       " 291114156,\n",
       " 28111202]"
      ]
     },
     "execution_count": 371,
     "metadata": {},
     "output_type": "execute_result"
    }
   ],
   "source": [
    "seedNumbers[1::2]"
   ]
  },
  {
   "cell_type": "code",
   "execution_count": 372,
   "metadata": {},
   "outputs": [
    {
     "data": {
      "text/plain": [
       "2748445110"
      ]
     },
     "execution_count": 372,
     "metadata": {},
     "output_type": "execute_result"
    }
   ],
   "source": [
    "curVal = seedNumbers[0]\n",
    "curMaps = allMaps[0]\n",
    "# curVal = 100\n",
    "checkMap(curVal,curMaps)"
   ]
  },
  {
   "cell_type": "code",
   "execution_count": 373,
   "metadata": {},
   "outputs": [],
   "source": [
    "# curVal >= 4019212984\n",
    "# curVal < (4019212984+275754312)\n",
    "\n",
    "# destS,sourS,rangeLen = [2528390965,4019212984,275754312]\n",
    "# destE = destS + rangeLen\n",
    "# sourE = sourS + rangeLen\n",
    "\n",
    "# curVal >= sourS \n",
    "# curVal < sourE\n",
    "# # curVal \n",
    "# curDiff = curVal - sourS\n",
    "# curDest = destS + curDiff\n"
   ]
  },
  {
   "cell_type": "code",
   "execution_count": 374,
   "metadata": {},
   "outputs": [
    {
     "name": "stdout",
     "output_type": "stream",
     "text": [
      "4239267129\n"
     ]
    },
    {
     "data": {
      "text/plain": [
       "2748445110"
      ]
     },
     "execution_count": 374,
     "metadata": {},
     "output_type": "execute_result"
    }
   ],
   "source": [
    "curMaps = allMaps[0]\n",
    "\n",
    "curVal = seedNumbers[0]\n",
    "\n",
    "print(curVal)\n",
    "checkMap(curVal,curMaps)"
   ]
  },
  {
   "cell_type": "code",
   "execution_count": 375,
   "metadata": {},
   "outputs": [],
   "source": [
    "# seedNumbers"
   ]
  },
  {
   "cell_type": "code",
   "execution_count": 376,
   "metadata": {},
   "outputs": [
    {
     "data": {
      "text/plain": [
       "896125601"
      ]
     },
     "execution_count": 376,
     "metadata": {},
     "output_type": "execute_result"
    }
   ],
   "source": [
    "# curVal = 2072253071\n",
    "\n",
    "for curMaps in allMaps:\n",
    "    curVal = checkMap(curVal,curMaps)\n",
    "curVal"
   ]
  },
  {
   "cell_type": "code",
   "execution_count": 377,
   "metadata": {},
   "outputs": [
    {
     "data": {
      "text/plain": [
       "389056265"
      ]
     },
     "execution_count": 377,
     "metadata": {},
     "output_type": "execute_result"
    }
   ],
   "source": [
    "# curMaps = allMaps[0]\n",
    "# curVal = seedNumbers[0]\n",
    "\n",
    "sol1 = 99999999999999900000000000\n",
    "\n",
    "for initSeed in seedNumbers:\n",
    "    # print('Starting with',initSeed)\n",
    "\n",
    "    curVal = initSeed\n",
    "\n",
    "    for curMaps in allMaps:\n",
    "        curVal = checkMap(curVal,curMaps)\n",
    "    # print(curVal,sol1)\n",
    "    if curVal < sol1:\n",
    "        sol1 = curVal \n",
    "sol1"
   ]
  },
  {
   "cell_type": "code",
   "execution_count": null,
   "metadata": {},
   "outputs": [],
   "source": []
  },
  {
   "cell_type": "code",
   "execution_count": null,
   "metadata": {},
   "outputs": [],
   "source": []
  }
 ],
 "metadata": {
  "kernelspec": {
   "display_name": "main",
   "language": "python",
   "name": "python3"
  },
  "language_info": {
   "codemirror_mode": {
    "name": "ipython",
    "version": 3
   },
   "file_extension": ".py",
   "mimetype": "text/x-python",
   "name": "python",
   "nbconvert_exporter": "python",
   "pygments_lexer": "ipython3",
   "version": "3.10.0"
  }
 },
 "nbformat": 4,
 "nbformat_minor": 2
}
