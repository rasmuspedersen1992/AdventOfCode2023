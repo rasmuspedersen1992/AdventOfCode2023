{
 "cells": [
  {
   "cell_type": "code",
   "execution_count": 200,
   "metadata": {},
   "outputs": [],
   "source": [
    "# Import packages\n",
    "import numpy as np\n",
    "curDay = 3\n",
    "\n",
    "# Download input file\n",
    "from download_inputs import download_inputs\n",
    "\n",
    "# download_inputs(curDay)"
   ]
  },
  {
   "cell_type": "code",
   "execution_count": 201,
   "metadata": {},
   "outputs": [
    {
     "name": "stdout",
     "output_type": "stream",
     "text": [
      "Done loading input\n"
     ]
    }
   ],
   "source": [
    "# Load input into workspace\n",
    "filename = f'inputs\\\\day{curDay}.txt'\n",
    "# curIn = np.loadtxt(filename)\n",
    "\n",
    "inputFile = open(filename)\n",
    "inputs = []\n",
    "inputs = [s for s in inputFile.read().splitlines()]\n",
    "\n",
    "print('Done loading input')"
   ]
  },
  {
   "cell_type": "code",
   "execution_count": 202,
   "metadata": {},
   "outputs": [
    {
     "name": "stdout",
     "output_type": "stream",
     "text": [
      "Done loading test-input\n"
     ]
    }
   ],
   "source": [
    "# Load test-input into workspace\n",
    "filenameTest = f'inputs\\\\day{curDay}_test.txt'\n",
    "\n",
    "inputFileTest = open(filenameTest)\n",
    "inputsTest = []\n",
    "inputsTest = [s for s in inputFileTest.read().splitlines()]\n",
    "\n",
    "print('Done loading test-input') "
   ]
  },
  {
   "cell_type": "markdown",
   "metadata": {},
   "source": [
    "# Part 1\n",
    "\n",
    "Plan:\n",
    "\n",
    "* Go through each line\n",
    "* When a number is found, check for symbols around it"
   ]
  },
  {
   "cell_type": "code",
   "execution_count": 203,
   "metadata": {},
   "outputs": [],
   "source": [
    "curIn = inputsTest\n",
    "curIn = inputs"
   ]
  },
  {
   "cell_type": "code",
   "execution_count": 204,
   "metadata": {},
   "outputs": [
    {
     "data": {
      "text/plain": [
       "535351"
      ]
     },
     "execution_count": 204,
     "metadata": {},
     "output_type": "execute_result"
    }
   ],
   "source": [
    "maxY = len(curIn)\n",
    "maxX = len(curIn[0])\n",
    "\n",
    "sol1 = 0\n",
    "\n",
    "# Go through all lines\n",
    "for y,li in enumerate(curIn):\n",
    "    \n",
    "    x = -1\n",
    "    # Go through each line\n",
    "    while x < (maxX-1):\n",
    "        x += 1\n",
    "        s = li[x]\n",
    "        isNumber = s.isnumeric()\n",
    "        \n",
    "        # print(x,y,s,isNumber)\n",
    "        # When a number has been found, determine the end of the number\n",
    "        if isNumber:\n",
    "            xStart = x \n",
    "\n",
    "            # Determine max X of number\n",
    "            x2 = x \n",
    "            # for x2 in range(x+1,maxX):\n",
    "            while x2 < maxX:\n",
    "            # while x2 < (maxX-1):\n",
    "                # print('x2',x2)\n",
    "                if x2 == (maxX-1):\n",
    "                    # print('Asdf',x2)\n",
    "                    xEnd = x2+1\n",
    "                    x2 = maxX\n",
    "                else:\n",
    "                    x2 += 1\n",
    "                    s2 = li[x2]\n",
    "                    isNumber2 = s2.isnumeric()\n",
    "                    # print(x2,s2,isNumber2)\n",
    "                    if (isNumber2 == False):\n",
    "                        # print('Stop at ',x2)\n",
    "                        xEnd = x2\n",
    "                        x2 = maxX\n",
    "\n",
    "            # Save the full number as an int\n",
    "            curNum = int(li[xStart:xEnd])\n",
    "\n",
    "            # print(curNum)\n",
    "            # print('cur number:',li[xStart:xEnd])\n",
    "\n",
    "            ### Check surroundings\n",
    "            allNeigh = ''\n",
    "\n",
    "            ## If x's are at the border add (or subtract) one\n",
    "            if xStart == 0:\n",
    "                xStart = 1\n",
    "            else:\n",
    "                allNeigh += curIn[y][xStart-1]\n",
    "            if xEnd == maxX:\n",
    "                xEnd = maxX-1 \n",
    "            else:\n",
    "                allNeigh += curIn[y][xEnd]\n",
    "\n",
    "            # Check above\n",
    "            if y > 0:\n",
    "                allNeigh += curIn[y-1][xStart-1:xEnd+1]\n",
    "\n",
    "            # allNeigh += '\\n'\n",
    "            # Check below\n",
    "            if y < (maxY-1):\n",
    "                allNeigh += curIn[y+1][xStart-1:xEnd+1]\n",
    "\n",
    "            # print(allNeigh)\n",
    "\n",
    "            neiNoDot = allNeigh.replace('.','')\n",
    "            numOthers = len(neiNoDot)\n",
    "            \n",
    "            # print(curNum,allNeigh,numOthers)\n",
    "\n",
    "            if numOthers != 0:\n",
    "                sol1 += curNum\n",
    "\n",
    "            # print(allNeigh.replace('.',''))\n",
    "            # print(len(allNeigh.replace('.','')))\n",
    "\n",
    "\n",
    "\n",
    "            # Set x to the end of the number\n",
    "            x = xEnd \n",
    "        \n",
    "\n",
    "sol1\n",
    "    # for x,s in enumerate(li):\n",
    "    # print(y,li)\n"
   ]
  },
  {
   "cell_type": "markdown",
   "metadata": {},
   "source": [
    "# Part 2"
   ]
  },
  {
   "cell_type": "code",
   "execution_count": 208,
   "metadata": {},
   "outputs": [
    {
     "data": {
      "text/plain": [
       "1606053"
      ]
     },
     "execution_count": 208,
     "metadata": {},
     "output_type": "execute_result"
    }
   ],
   "source": [
    "curIn = inputsTest\n",
    "curIn = inputs\n",
    "\n",
    "sol2 = 0\n",
    "\n",
    "maxY = len(curIn)\n",
    "maxX = len(curIn[0])\n",
    "\n",
    "# numToGear = dict()\n",
    "allNum = []\n",
    "# allGearX = []\n",
    "# allGearY = []\n",
    "allGearPos =[]\n",
    "\n",
    "for y,li in enumerate(curIn):\n",
    "    # print(y,li)\n",
    "    \n",
    "    x = -1\n",
    "    # for x in range(maxX):\n",
    "    while x < (maxX-1):\n",
    "        x += 1\n",
    "        s = li[x]\n",
    "        isNumber = s.isnumeric()\n",
    "        \n",
    "        # print(x,y,s,isNumber)\n",
    "        if isNumber:\n",
    "            xStart = x \n",
    "\n",
    "            # Determine max X of number\n",
    "            x2 = x \n",
    "            # for x2 in range(x+1,maxX):\n",
    "            while x2 < maxX:\n",
    "            # while x2 < (maxX-1):\n",
    "                # print('x2',x2)\n",
    "                if x2 == (maxX-1):\n",
    "                    # print('Asdf',x2)\n",
    "                    xEnd = x2+1\n",
    "                    x2 = maxX\n",
    "                else:\n",
    "                    x2 += 1\n",
    "                    s2 = li[x2]\n",
    "                    isNumber2 = s2.isnumeric()\n",
    "                    # print(x2,s2,isNumber2)\n",
    "                    if (isNumber2 == False):\n",
    "                        # print('Stop at ',x2)\n",
    "                        xEnd = x2\n",
    "                        x2 = maxX\n",
    "            curNum = int(li[xStart:xEnd])\n",
    "            # print(curNum)\n",
    "            # print('cur number:',li[xStart:xEnd])\n",
    "\n",
    "            ### Check surroundings\n",
    "            # allNeigh = ''\n",
    "            neiCorr = []\n",
    "            # neiX = []\n",
    "            # neiY = []\n",
    "\n",
    "            ## If x's are at the border add (or subtract) one\n",
    "            if xStart == 0:\n",
    "                xStart = 1\n",
    "            else:\n",
    "                # allNeigh += curIn[y][xStart-1]\n",
    "                neiCorr.append([xStart-1,y])\n",
    "\n",
    "            if xEnd == maxX:\n",
    "                xEnd = maxX-1 \n",
    "            else:\n",
    "                # allNeigh += curIn[y][xEnd]\n",
    "                # neiX.append(xEnd)\n",
    "                neiCorr.append([xEnd,y])\n",
    "\n",
    "            # Check above\n",
    "            if y > 0:\n",
    "                # allNeigh += curIn[y-1][xStart-1:xEnd+1]\n",
    "                for curX in range(xStart-1,xEnd+1):\n",
    "                    neiCorr.append([curX,y-1])\n",
    "                # neiX.append(list(np.arange(xStart-1,xEnd+1)))\n",
    "\n",
    "            # allNeigh += '\\n'\n",
    "            # Check below\n",
    "            if y < (maxY-1):\n",
    "                # allNeigh += curIn[y+1][xStart-1:xEnd+1]\n",
    "                for curX in range(xStart-1,xEnd+1):\n",
    "                    neiCorr.append([curX,y+1])\n",
    "                # neiX.append(list(np.arange(xStart-1,xEnd+1)))\n",
    "\n",
    "            # print(' pre:',allNeigh)\n",
    "            allNeigh = ''\n",
    "            for pos in neiCorr:\n",
    "                curSymbol = curIn[pos[1]][pos[0]] \n",
    "                if curSymbol == '*':\n",
    "                    allGearPos.append(pos)\n",
    "                allNeigh += curSymbol\n",
    "                # print(allNeigh)\n",
    "\n",
    "            # print('post:',allNeigh)\n",
    "            # print(neiX)\n",
    "            # print(neiCorr)\n",
    "\n",
    "            neiNoDot = allNeigh.replace('.','')\n",
    "            if neiNoDot == '*':\n",
    "                allNum.append(curNum)\n",
    "                # allGearX.append()\n",
    "                \n",
    "            numOthers = len(neiNoDot)\n",
    "            \n",
    "            # print(curNum,allNeigh,numOthers)\n",
    "\n",
    "            if numOthers != 0:\n",
    "                sol1 += curNum\n",
    "\n",
    "            # print(allNeigh.replace('.',''))\n",
    "            # print(len(allNeigh.replace('.','')))\n",
    "\n",
    "\n",
    "\n",
    "            # Set x to the end of the number\n",
    "            x = xEnd \n",
    "        \n",
    "\n",
    "sol1\n",
    "    # for x,s in enumerate(li):\n",
    "    # print(y,li)\n",
    "# allNum"
   ]
  },
  {
   "cell_type": "code",
   "execution_count": 209,
   "metadata": {},
   "outputs": [
    {
     "data": {
      "text/plain": [
       "87287096"
      ]
     },
     "execution_count": 209,
     "metadata": {},
     "output_type": "execute_result"
    }
   ],
   "source": [
    "# np.unique(allGearPos)\n",
    "sol2 = 0\n",
    "gearDict = dict()\n",
    "for i,gp in enumerate(allGearPos):\n",
    "# for gp in allGearPos:\n",
    "    curName = str(gp[0]) + ','+str(gp[1])\n",
    "    if (curName in gearDict.keys()):\n",
    "        gearDict[curName] = allNum[i] * gearDict[curName] \n",
    "        sol2 += gearDict[curName]\n",
    "    else:\n",
    "        gearDict[curName] = allNum[i]\n",
    "\n",
    "gearDict\n",
    "sol2"
   ]
  },
  {
   "cell_type": "code",
   "execution_count": 210,
   "metadata": {},
   "outputs": [],
   "source": [
    "# print(allNum)\n",
    "# print(allGearPos)"
   ]
  },
  {
   "cell_type": "code",
   "execution_count": null,
   "metadata": {},
   "outputs": [],
   "source": []
  }
 ],
 "metadata": {
  "kernelspec": {
   "display_name": "main",
   "language": "python",
   "name": "python3"
  },
  "language_info": {
   "codemirror_mode": {
    "name": "ipython",
    "version": 3
   },
   "file_extension": ".py",
   "mimetype": "text/x-python",
   "name": "python",
   "nbconvert_exporter": "python",
   "pygments_lexer": "ipython3",
   "version": "3.10.0"
  }
 },
 "nbformat": 4,
 "nbformat_minor": 2
}
