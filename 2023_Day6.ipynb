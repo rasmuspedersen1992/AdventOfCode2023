{
 "cells": [
  {
   "cell_type": "code",
   "execution_count": 1,
   "metadata": {},
   "outputs": [
    {
     "name": "stdout",
     "output_type": "stream",
     "text": [
      "Inputs already downloaded\n"
     ]
    }
   ],
   "source": [
    "# Import packages\n",
    "import numpy as np\n",
    "curDay = 6\n",
    "\n",
    "# Download input file\n",
    "from download_inputs import download_inputs\n",
    "from download_inputs import splitTwo\n",
    "\n",
    "\n",
    "import os\n",
    "filename = f'inputs\\\\day{curDay}.txt'\n",
    "if not os.path.exists(filename):\n",
    "    download_inputs(curDay)\n",
    "else:\n",
    "    print('Inputs already downloaded')"
   ]
  },
  {
   "cell_type": "code",
   "execution_count": 2,
   "metadata": {},
   "outputs": [
    {
     "name": "stdout",
     "output_type": "stream",
     "text": [
      "Done loading input\n"
     ]
    }
   ],
   "source": [
    "# Load input into workspace\n",
    "filename = f'inputs\\\\day{curDay}.txt'\n",
    "# curIn = np.loadtxt(filename)\n",
    "\n",
    "inputFile = open(filename)\n",
    "inputs = []\n",
    "inputs = [s for s in inputFile.read().splitlines()]\n",
    "\n",
    "print('Done loading input')"
   ]
  },
  {
   "cell_type": "code",
   "execution_count": 3,
   "metadata": {},
   "outputs": [
    {
     "name": "stdout",
     "output_type": "stream",
     "text": [
      "Done loading test-input\n"
     ]
    }
   ],
   "source": [
    "# Load test-input into workspace\n",
    "filenameTest = f'inputs\\\\day{curDay}_test.txt'\n",
    "\n",
    "inputFileTest = open(filenameTest)\n",
    "inputsTest = []\n",
    "inputsTest = [s for s in inputFileTest.read().splitlines()]\n",
    "\n",
    "print('Done loading test-input') "
   ]
  },
  {
   "cell_type": "markdown",
   "metadata": {},
   "source": [
    "# Part 1"
   ]
  },
  {
   "cell_type": "code",
   "execution_count": 4,
   "metadata": {},
   "outputs": [
    {
     "data": {
      "text/plain": [
       "['Time:        45     97     72     95',\n",
       " 'Distance:   305   1062   1110   1695']"
      ]
     },
     "execution_count": 4,
     "metadata": {},
     "output_type": "execute_result"
    }
   ],
   "source": [
    "curIn = inputsTest\n",
    "curIn = inputs \n",
    "inputs"
   ]
  },
  {
   "cell_type": "code",
   "execution_count": 5,
   "metadata": {},
   "outputs": [
    {
     "data": {
      "text/plain": [
       "[305, 1062, 1110, 1695]"
      ]
     },
     "execution_count": 5,
     "metadata": {},
     "output_type": "execute_result"
    }
   ],
   "source": [
    "allTimes = [int(x) for x in curIn[0].split()[1:]]\n",
    "allDist = [int(x) for x in curIn[1].split()[1:]]\n",
    "allTimes\n",
    "allDist"
   ]
  },
  {
   "cell_type": "code",
   "execution_count": 6,
   "metadata": {},
   "outputs": [
    {
     "name": "stdout",
     "output_type": "stream",
     "text": [
      "0 45 305\n",
      "1 97 1062\n",
      "2 72 1110\n",
      "3 95 1695\n"
     ]
    },
    {
     "data": {
      "text/plain": [
       "[28, 72, 27, 48]"
      ]
     },
     "execution_count": 6,
     "metadata": {},
     "output_type": "execute_result"
    }
   ],
   "source": [
    "allWon = []\n",
    "for raceID in range(len(allTimes)):\n",
    "    numWon = 0\n",
    "    print(raceID,allTimes[raceID],allDist[raceID])\n",
    "\n",
    "    raceTime = allTimes[raceID]\n",
    "    raceDist = allDist[raceID]\n",
    "    for t in range(raceTime):\n",
    "        tLeft = raceTime-t \n",
    "        distTraveled = tLeft * t \n",
    "        # print(t,tLeft,'Travelled:',distTraveled)\n",
    "        if (distTraveled > raceDist):\n",
    "            # print('won')\n",
    "            numWon += 1\n",
    "    allWon.append(numWon)\n",
    "allWon"
   ]
  },
  {
   "cell_type": "code",
   "execution_count": 7,
   "metadata": {},
   "outputs": [],
   "source": [
    "sol1 = np.prod(allWon)"
   ]
  },
  {
   "cell_type": "markdown",
   "metadata": {},
   "source": [
    "# Part 2"
   ]
  },
  {
   "cell_type": "code",
   "execution_count": 8,
   "metadata": {},
   "outputs": [
    {
     "name": "stdout",
     "output_type": "stream",
     "text": [
      "['Time:      7  15   30', 'Distance:  9  40  200']\n"
     ]
    },
    {
     "data": {
      "text/plain": [
       "['Time:        45     97     72     95',\n",
       " 'Distance:   305   1062   1110   1695']"
      ]
     },
     "execution_count": 8,
     "metadata": {},
     "output_type": "execute_result"
    }
   ],
   "source": [
    "curIn = inputsTest\n",
    "curIn = inputs \n",
    "print(inputsTest)\n",
    "inputs"
   ]
  },
  {
   "cell_type": "code",
   "execution_count": 9,
   "metadata": {},
   "outputs": [
    {
     "name": "stdout",
     "output_type": "stream",
     "text": [
      "71530 940200\n"
     ]
    }
   ],
   "source": [
    "curTime = int(inputsTest[0].replace(' ','').replace('Time:',''))\n",
    "curDist = int(inputsTest[1].replace(' ','').replace('Distance:',''))\n",
    "print(curTime,curDist)"
   ]
  },
  {
   "cell_type": "code",
   "execution_count": 10,
   "metadata": {},
   "outputs": [
    {
     "data": {
      "text/plain": [
       "71503"
      ]
     },
     "execution_count": 10,
     "metadata": {},
     "output_type": "execute_result"
    }
   ],
   "source": [
    "a = -1\n",
    "b = curTime \n",
    "c = -curDist \n",
    "\n",
    "d = b**2 - 4 * a * c \n",
    "endVal = (-b + np.sqrt(d))/2*a\n",
    "staVal = (-b - np.sqrt(d))/2*a\n",
    "\n",
    "int(np.floor(staVal) - np.ceil(endVal))\n",
    "int(np.ceil(staVal) - np.floor(endVal)) - 1\n",
    "\n",
    "[a,b] = np.roots([-1,curTime,-curDist])\n",
    "int(np.floor(a) - np.ceil(b)) + 1"
   ]
  },
  {
   "cell_type": "code",
   "execution_count": 11,
   "metadata": {},
   "outputs": [
    {
     "data": {
      "text/plain": [
       "71503"
      ]
     },
     "execution_count": 11,
     "metadata": {},
     "output_type": "execute_result"
    }
   ],
   "source": [
    "ts = np.arange(curTime)\n",
    "tls = curTime-ts \n",
    "dists = np.array(ts * tls)\n",
    "(dists > curDist).sum()"
   ]
  },
  {
   "cell_type": "code",
   "execution_count": 12,
   "metadata": {},
   "outputs": [
    {
     "data": {
      "text/plain": [
       "-71504.0"
      ]
     },
     "execution_count": 12,
     "metadata": {},
     "output_type": "execute_result"
    }
   ],
   "source": [
    "a = -1\n",
    "b = curTime \n",
    "c = -curDist \n",
    "\n",
    "d = b**2 - 4 * a * c \n",
    "endVal = (-b + np.sqrt(d))/2*a\n",
    "staVal = (-b - np.sqrt(d))/2*a\n",
    "\n",
    "np.floor(endVal) - np.ceil(staVal)"
   ]
  },
  {
   "cell_type": "code",
   "execution_count": 13,
   "metadata": {},
   "outputs": [
    {
     "data": {
      "text/plain": [
       "array([-940200, -868671, -797144, ..., -725619, -797144, -868671])"
      ]
     },
     "execution_count": 13,
     "metadata": {},
     "output_type": "execute_result"
    }
   ],
   "source": [
    "f = - ts**2 + ts*curTime - curDist\n",
    "\n",
    "\n",
    "\n",
    "# curDist > - ts**2 + ts*curTime \n",
    "curDist\n",
    "dists - curDist \n"
   ]
  },
  {
   "cell_type": "code",
   "execution_count": 14,
   "metadata": {},
   "outputs": [],
   "source": [
    "# fig,ax = plt.subplots()\n",
    "\n",
    "# ax.plot([x-curDist for x in dists[:40]])\n",
    "# # ax.plot(-ts * ts + ts*curTime - curDist)\n"
   ]
  },
  {
   "cell_type": "code",
   "execution_count": 15,
   "metadata": {},
   "outputs": [
    {
     "name": "stdout",
     "output_type": "stream",
     "text": [
      "45977295 305106211101695\n"
     ]
    }
   ],
   "source": [
    "curTime = int(curIn[0].replace(' ','').replace('Time:',''))\n",
    "curDist = int(curIn[1].replace(' ','').replace('Distance:',''))\n",
    "print(curTime,curDist)"
   ]
  },
  {
   "cell_type": "code",
   "execution_count": 16,
   "metadata": {},
   "outputs": [
    {
     "data": {
      "text/plain": [
       "45977295"
      ]
     },
     "execution_count": 16,
     "metadata": {},
     "output_type": "execute_result"
    }
   ],
   "source": [
    "curTime "
   ]
  },
  {
   "cell_type": "code",
   "execution_count": null,
   "metadata": {},
   "outputs": [],
   "source": []
  },
  {
   "cell_type": "code",
   "execution_count": 17,
   "metadata": {},
   "outputs": [
    {
     "data": {
      "text/plain": [
       "29891250"
      ]
     },
     "execution_count": 17,
     "metadata": {},
     "output_type": "execute_result"
    }
   ],
   "source": [
    "a = -1\n",
    "b = curTime \n",
    "c = -curDist \n",
    "\n",
    "d = b**2 - 4 * a * c \n",
    "endVal = (-b + np.sqrt(d))/2*a\n",
    "staVal = (-b - np.sqrt(d))/2*a\n",
    "\n",
    "int(np.floor(staVal) - np.ceil(endVal))\n",
    "int(np.ceil(staVal) - np.floor(endVal)) - 1"
   ]
  },
  {
   "cell_type": "code",
   "execution_count": 18,
   "metadata": {},
   "outputs": [
    {
     "data": {
      "text/plain": [
       "8043022.629237277"
      ]
     },
     "execution_count": 18,
     "metadata": {},
     "output_type": "execute_result"
    }
   ],
   "source": [
    "staVal \n",
    "endVal"
   ]
  },
  {
   "cell_type": "code",
   "execution_count": 19,
   "metadata": {},
   "outputs": [
    {
     "data": {
      "text/plain": [
       "29891250"
      ]
     },
     "execution_count": 19,
     "metadata": {},
     "output_type": "execute_result"
    }
   ],
   "source": [
    "[a,b] = np.roots([-1,curTime,-curDist])\n",
    "int(np.floor(a) - np.ceil(b)) + 1\n",
    "# print(int(np.floor(a)),int(np.ceil(b)))"
   ]
  },
  {
   "cell_type": "code",
   "execution_count": null,
   "metadata": {},
   "outputs": [],
   "source": []
  },
  {
   "cell_type": "code",
   "execution_count": 266,
   "metadata": {},
   "outputs": [
    {
     "data": {
      "text/plain": [
       "37934272"
      ]
     },
     "execution_count": 266,
     "metadata": {},
     "output_type": "execute_result"
    }
   ],
   "source": [
    "lastWon \n",
    "# a"
   ]
  },
  {
   "cell_type": "code",
   "execution_count": 267,
   "metadata": {},
   "outputs": [],
   "source": [
    "b1 = int(np.ceil(b))\n",
    "# b1 = int(np.floor(a))\n",
    "\n",
    "# b1 = b1 \n",
    "\n",
    "# # f = - ts**2 + ts*curTime - curDist\n",
    "# - b1 ** 2 + b1*curTime  - curDist"
   ]
  },
  {
   "cell_type": "code",
   "execution_count": 268,
   "metadata": {},
   "outputs": [
    {
     "data": {
      "text/plain": [
       "array([        0,         1,         4, ..., 821144433, 821287488,\n",
       "       821430545])"
      ]
     },
     "execution_count": 268,
     "metadata": {},
     "output_type": "execute_result"
    }
   ],
   "source": [
    "ts * ts"
   ]
  },
  {
   "cell_type": "code",
   "execution_count": 269,
   "metadata": {},
   "outputs": [],
   "source": [
    "# curTime = 71530\n"
   ]
  },
  {
   "cell_type": "code",
   "execution_count": 276,
   "metadata": {},
   "outputs": [
    {
     "data": {
      "text/plain": [
       "array([        0,  45977294,  91954586, ..., 137931876,  91954586,\n",
       "        45977294])"
      ]
     },
     "execution_count": 276,
     "metadata": {},
     "output_type": "execute_result"
    }
   ],
   "source": [
    "ts = np.arange(curTime)\n",
    "tls = curTime-ts \n",
    "dists = np.array(ts * tls)\n",
    "(dists > curDist).sum()\n",
    "\n",
    "dists"
   ]
  },
  {
   "cell_type": "code",
   "execution_count": 278,
   "metadata": {},
   "outputs": [
    {
     "ename": "KeyboardInterrupt",
     "evalue": "",
     "output_type": "error",
     "traceback": [
      "\u001b[1;31m---------------------------------------------------------------------------\u001b[0m",
      "\u001b[1;31mKeyboardInterrupt\u001b[0m                         Traceback (most recent call last)",
      "\u001b[1;32mc:\\Users\\rakrpe\\OneDrive - Roskilde Universitet\\Documents\\AdventOfCode2023\\2023_Day6.ipynb Cell 28\u001b[0m line \u001b[0;36m<module>\u001b[1;34m\u001b[0m\n\u001b[1;32m----> <a href='vscode-notebook-cell:/c%3A/Users/rakrpe/OneDrive%20-%20Roskilde%20Universitet/Documents/AdventOfCode2023/2023_Day6.ipynb#X54sZmlsZQ%3D%3D?line=0'>1</a>\u001b[0m tes \u001b[39m=\u001b[39m [x\u001b[39m/\u001b[39m\u001b[39m100000\u001b[39m \u001b[39mfor\u001b[39;00m x \u001b[39min\u001b[39;00m ts]\n\u001b[0;32m      <a href='vscode-notebook-cell:/c%3A/Users/rakrpe/OneDrive%20-%20Roskilde%20Universitet/Documents/AdventOfCode2023/2023_Day6.ipynb#X54sZmlsZQ%3D%3D?line=1'>2</a>\u001b[0m f \u001b[39m=\u001b[39m \u001b[39m-\u001b[39m tes\u001b[39m*\u001b[39m\u001b[39m*\u001b[39m\u001b[39m2\u001b[39m \u001b[39m+\u001b[39m tes\u001b[39m*\u001b[39mcurTime \u001b[39m-\u001b[39m curDist\n",
      "\u001b[1;32mc:\\Users\\rakrpe\\OneDrive - Roskilde Universitet\\Documents\\AdventOfCode2023\\2023_Day6.ipynb Cell 28\u001b[0m line \u001b[0;36m<listcomp>\u001b[1;34m(.0)\u001b[0m\n\u001b[1;32m----> <a href='vscode-notebook-cell:/c%3A/Users/rakrpe/OneDrive%20-%20Roskilde%20Universitet/Documents/AdventOfCode2023/2023_Day6.ipynb#X54sZmlsZQ%3D%3D?line=0'>1</a>\u001b[0m tes \u001b[39m=\u001b[39m [x\u001b[39m/\u001b[39m\u001b[39m100000\u001b[39m \u001b[39mfor\u001b[39;00m x \u001b[39min\u001b[39;00m ts]\n\u001b[0;32m      <a href='vscode-notebook-cell:/c%3A/Users/rakrpe/OneDrive%20-%20Roskilde%20Universitet/Documents/AdventOfCode2023/2023_Day6.ipynb#X54sZmlsZQ%3D%3D?line=1'>2</a>\u001b[0m f \u001b[39m=\u001b[39m \u001b[39m-\u001b[39m tes\u001b[39m*\u001b[39m\u001b[39m*\u001b[39m\u001b[39m2\u001b[39m \u001b[39m+\u001b[39m tes\u001b[39m*\u001b[39mcurTime \u001b[39m-\u001b[39m curDist\n",
      "\u001b[1;31mKeyboardInterrupt\u001b[0m: "
     ]
    }
   ],
   "source": [
    "tes = [x/100000 for x in ts]\n",
    "f = - tes**2 + tes*curTime - curDist\n",
    "\n",
    "f\n"
   ]
  },
  {
   "cell_type": "code",
   "execution_count": null,
   "metadata": {},
   "outputs": [],
   "source": [
    "curTime = int(curIn[0].replace(' ','').replace('Time:',''))\n",
    "curDist = int(curIn[1].replace(' ','').replace('Distance:',''))\n",
    "print(curTime,curDist)"
   ]
  },
  {
   "cell_type": "code",
   "execution_count": 271,
   "metadata": {},
   "outputs": [
    {
     "data": {
      "text/plain": [
       "91954586"
      ]
     },
     "execution_count": 271,
     "metadata": {},
     "output_type": "execute_result"
    }
   ],
   "source": [
    "t = 2\n",
    "(curTime - t) * t"
   ]
  },
  {
   "cell_type": "code",
   "execution_count": 272,
   "metadata": {},
   "outputs": [
    {
     "data": {
      "text/plain": [
       "528477913879256"
      ]
     },
     "execution_count": 272,
     "metadata": {},
     "output_type": "execute_result"
    }
   ],
   "source": [
    "t = int(curTime / 2 )\n",
    "tls = curTime - t\n",
    "tls * t\n",
    "\n"
   ]
  },
  {
   "cell_type": "code",
   "execution_count": 273,
   "metadata": {},
   "outputs": [
    {
     "data": {
      "text/plain": [
       "[<matplotlib.lines.Line2D at 0x1ad218c5210>]"
      ]
     },
     "execution_count": 273,
     "metadata": {},
     "output_type": "execute_result"
    },
    {
     "data": {
      "image/png": "[encoded data removed]",
      "text/plain": [
       "<Figure size 432x288 with 1 Axes>"
      ]
     },
     "metadata": {
      "needs_background": "light"
     },
     "output_type": "display_data"
    }
   ],
   "source": [
    "# dists[]\n",
    "import matplotlib.pyplot as plt \n",
    "\n",
    "fig,ax = plt.subplots()\n",
    "ax.plot(dists[:100])\n",
    "# ax.plot(dists)\n",
    "# ax.axhline(curDist,color='k')\n"
   ]
  },
  {
   "cell_type": "code",
   "execution_count": 102,
   "metadata": {},
   "outputs": [
    {
     "data": {
      "text/plain": [
       "8043023"
      ]
     },
     "execution_count": 102,
     "metadata": {},
     "output_type": "execute_result"
    }
   ],
   "source": [
    "t = 0\n",
    "# for t in range(curTime):\n",
    "while t < curTime:\n",
    "    t += 1\n",
    "    tLeft = curTime-t \n",
    "    distTraveled = tLeft * t \n",
    "    # print(t,tLeft,'Travelled:',distTraveled)\n",
    "    if (distTraveled > curDist):\n",
    "        # print('won')\n",
    "        firstWon = t \n",
    "        t = curTime + 1\n",
    "\n",
    "\n",
    "firstWon\n",
    "\n"
   ]
  },
  {
   "cell_type": "code",
   "execution_count": 103,
   "metadata": {},
   "outputs": [
    {
     "data": {
      "text/plain": [
       "29891249"
      ]
     },
     "execution_count": 103,
     "metadata": {},
     "output_type": "execute_result"
    }
   ],
   "source": [
    "\n",
    "t = curTime \n",
    "while t > 0:\n",
    "    t -= 1\n",
    "    tLeft = curTime-t \n",
    "    distTraveled = tLeft * t \n",
    "    \n",
    "    if (distTraveled > curDist):\n",
    "        # print('won')\n",
    "        lastWon = t \n",
    "        t = 0\n",
    "lastWon\n",
    "\n",
    "lastWon - firstWon"
   ]
  },
  {
   "cell_type": "code",
   "execution_count": 62,
   "metadata": {},
   "outputs": [
    {
     "data": {
      "text/plain": [
       "305106211101695"
      ]
     },
     "execution_count": 62,
     "metadata": {},
     "output_type": "execute_result"
    }
   ],
   "source": [
    "curDist"
   ]
  },
  {
   "cell_type": "code",
   "execution_count": 68,
   "metadata": {},
   "outputs": [
    {
     "data": {
      "text/plain": [
       "305106222184256"
      ]
     },
     "execution_count": 68,
     "metadata": {},
     "output_type": "execute_result"
    }
   ],
   "source": [
    "t = lastWon\n",
    "tLeft = curTime - t \n",
    "tLeft * t"
   ]
  },
  {
   "cell_type": "code",
   "execution_count": 80,
   "metadata": {},
   "outputs": [
    {
     "data": {
      "text/plain": [
       "0"
      ]
     },
     "execution_count": 80,
     "metadata": {},
     "output_type": "execute_result"
    }
   ],
   "source": [
    "ts = np.arange(curTime)\n",
    "tls = curTime-ts \n",
    "dists = np.array(ts * tls)\n",
    "(dists > curDist).sum()"
   ]
  },
  {
   "cell_type": "code",
   "execution_count": 72,
   "metadata": {},
   "outputs": [
    {
     "data": {
      "text/plain": [
       "305106252075504"
      ]
     },
     "execution_count": 72,
     "metadata": {},
     "output_type": "execute_result"
    }
   ],
   "source": [
    "t = firstWon + 1\n",
    "tLeft = curTime - t \n",
    "tLeft * t"
   ]
  },
  {
   "cell_type": "code",
   "execution_count": null,
   "metadata": {},
   "outputs": [],
   "source": [
    "# firstWon = curTime \n",
    "# lastWon = 0\n",
    "\n",
    "# for k in "
   ]
  }
 ],
 "metadata": {
  "kernelspec": {
   "display_name": "main",
   "language": "python",
   "name": "python3"
  },
  "language_info": {
   "codemirror_mode": {
    "name": "ipython",
    "version": 3
   },
   "file_extension": ".py",
   "mimetype": "text/x-python",
   "name": "python",
   "nbconvert_exporter": "python",
   "pygments_lexer": "ipython3",
   "version": "3.10.0"
  }
 },
 "nbformat": 4,
 "nbformat_minor": 2
}
