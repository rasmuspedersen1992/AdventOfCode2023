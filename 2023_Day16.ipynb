{
 "cells": [
  {
   "cell_type": "code",
   "execution_count": 1,
   "metadata": {},
   "outputs": [
    {
     "name": "stdout",
     "output_type": "stream",
     "text": [
      "Inputs already downloaded\n"
     ]
    }
   ],
   "source": [
    "# Import packages\n",
    "import numpy as np\n",
    "curDay = 16\n",
    "\n",
    "# Download input file\n",
    "from download_inputs import download_inputs\n",
    "\n",
    "\n",
    "from tqdm import tqdm\n",
    "\n",
    "\n",
    "import os\n",
    "filename = f'inputs\\\\day{curDay}.txt'\n",
    "if not os.path.exists(filename):\n",
    "    download_inputs(curDay)\n",
    "else:\n",
    "    print('Inputs already downloaded')"
   ]
  },
  {
   "cell_type": "code",
   "execution_count": 2,
   "metadata": {},
   "outputs": [
    {
     "name": "stdout",
     "output_type": "stream",
     "text": [
      "Done loading input\n"
     ]
    }
   ],
   "source": [
    "# Load input into workspace\n",
    "filename = f'inputs\\\\day{curDay}.txt'\n",
    "\n",
    "inputFile = open(filename)\n",
    "inputs = [s for s in inputFile.read().splitlines()]\n",
    "\n",
    "print('Done loading input')"
   ]
  },
  {
   "cell_type": "code",
   "execution_count": 3,
   "metadata": {},
   "outputs": [
    {
     "name": "stdout",
     "output_type": "stream",
     "text": [
      "Done loading test-input\n"
     ]
    }
   ],
   "source": [
    "# Load test-input into workspace\n",
    "filenameTest = f'inputs\\\\day{curDay}_test.txt'\n",
    "\n",
    "inputFileTest = open(filenameTest)\n",
    "inputsTest = [s for s in inputFileTest.read().splitlines()]\n",
    "\n",
    "print('Done loading test-input') "
   ]
  },
  {
   "cell_type": "markdown",
   "metadata": {},
   "source": [
    "# Parse input"
   ]
  },
  {
   "cell_type": "code",
   "execution_count": 4,
   "metadata": {},
   "outputs": [],
   "source": [
    "isTesting = True \n"
   ]
  },
  {
   "cell_type": "code",
   "execution_count": 5,
   "metadata": {},
   "outputs": [],
   "source": [
    "if isTesting:\n",
    "    curMap = inputsTest.copy()\n",
    "else:\n",
    "    curMap = inputs.copy()\n",
    "curMap = np.array(curMap)"
   ]
  },
  {
   "cell_type": "code",
   "execution_count": 6,
   "metadata": {},
   "outputs": [],
   "source": [
    "he = len(curMap)\n",
    "wi = len(curMap[0])\n",
    "newMap = np.empty((he,wi),dtype='str')\n",
    "for y,li in enumerate(curMap):\n",
    "    for x,s in enumerate(li):\n",
    "        newMap[y,x] = s\n",
    "\n",
    "\n"
   ]
  },
  {
   "cell_type": "code",
   "execution_count": 7,
   "metadata": {},
   "outputs": [],
   "source": [
    "newMap[newMap == '\\\\'] = 'Y'"
   ]
  },
  {
   "cell_type": "code",
   "execution_count": 8,
   "metadata": {},
   "outputs": [],
   "source": [
    "curMap = newMap"
   ]
  },
  {
   "cell_type": "markdown",
   "metadata": {},
   "source": [
    "# Part 1 \n",
    "Idea: Represent light on a tile with a binary value\n",
    "\n",
    "0000: No light\n",
    "\n",
    "0001: Right\n",
    "\n",
    "0010: Left\n",
    "\n",
    "0100: Up\n",
    "\n",
    "1000: Down\n",
    "\n",
    "So:\n",
    "value = 8 * down + 4 * up + 2* left + 1 * right"
   ]
  },
  {
   "cell_type": "code",
   "execution_count": 71,
   "metadata": {},
   "outputs": [],
   "source": [
    "lightVals = np.zeros(curMap.shape)\n",
    "\n",
    "# lightVals"
   ]
  },
  {
   "cell_type": "code",
   "execution_count": 84,
   "metadata": {},
   "outputs": [],
   "source": [
    "liR = np.zeros(curMap.shape)\n",
    "liL = np.zeros(curMap.shape)\n",
    "liU = np.zeros(curMap.shape)\n",
    "liD = np.zeros(curMap.shape)"
   ]
  },
  {
   "cell_type": "code",
   "execution_count": 89,
   "metadata": {},
   "outputs": [],
   "source": [
    "liR[0,0] = 1\n",
    "liR[0,7] = 1\n",
    "# liR[0,4] = 4"
   ]
  },
  {
   "cell_type": "code",
   "execution_count": 101,
   "metadata": {},
   "outputs": [
    {
     "name": "stdout",
     "output_type": "stream",
     "text": [
      "Checking 0 0\n",
      "Checking 7 0\n",
      "Checking 8 0\n",
      "Checking 9 0\n"
     ]
    }
   ],
   "source": [
    "\n",
    "ys,xs = np.where(liR)\n",
    "\n",
    "for i in range(len(ys)):\n",
    "    y = ys[i]\n",
    "    x = xs[i]\n",
    "\n",
    "    print('Checking',x,y)\n",
    "    \n",
    "    if (x < 0) & (x >= wi-1):\n",
    "        if curMap[y,x+1] == '.':\n",
    "            liR[y,x+1] = 1\n",
    "            print(x+1,y)\n",
    "\n",
    "        "
   ]
  },
  {
   "cell_type": "code",
   "execution_count": 103,
   "metadata": {},
   "outputs": [
    {
     "data": {
      "text/plain": [
       "array([[1., 0., 0., 0., 0., 0., 0., 1., 1., 1.],\n",
       "       [0., 0., 0., 0., 0., 0., 0., 0., 0., 0.],\n",
       "       [0., 0., 0., 0., 0., 0., 0., 0., 0., 0.],\n",
       "       [0., 0., 0., 0., 0., 0., 0., 0., 0., 0.],\n",
       "       [0., 0., 0., 0., 0., 0., 0., 0., 0., 0.],\n",
       "       [0., 0., 0., 0., 0., 0., 0., 0., 0., 0.],\n",
       "       [0., 0., 0., 0., 0., 0., 0., 0., 0., 0.],\n",
       "       [0., 0., 0., 0., 0., 0., 0., 0., 0., 0.],\n",
       "       [0., 0., 0., 0., 0., 0., 0., 0., 0., 0.],\n",
       "       [0., 0., 0., 0., 0., 0., 0., 0., 0., 0.]])"
      ]
     },
     "execution_count": 103,
     "metadata": {},
     "output_type": "execute_result"
    }
   ],
   "source": [
    "liR"
   ]
  },
  {
   "cell_type": "code",
   "execution_count": 70,
   "metadata": {},
   "outputs": [],
   "source": [
    "lightVals[0,0] = 1 \n",
    "\n",
    "# lightVals[8,4] = 1 \n"
   ]
  },
  {
   "cell_type": "code",
   "execution_count": 68,
   "metadata": {},
   "outputs": [
    {
     "name": "stdout",
     "output_type": "stream",
     "text": [
      "0 0\n"
     ]
    }
   ],
   "source": [
    "\n",
    "lightRight = (lightVals % 2) == True\n",
    "ys,xs = np.where(lightRight)\n",
    "\n",
    "\n",
    "for i in range(len(ys)):\n",
    "    y = ys[i]\n",
    "    x = xs[i]\n",
    "\n",
    "    print(x,y)\n",
    "    \n",
    "    if (x > 0) & (x <= wi):\n",
    "\n",
    "        "
   ]
  },
  {
   "cell_type": "code",
   "execution_count": null,
   "metadata": {},
   "outputs": [],
   "source": [
    "\n",
    "pos = np.array([0,0])\n",
    "dir = np.array([1,0])\n",
    "\n",
    "numSteps = 30\n",
    "tempMap = curMap.copy()\n",
    "\n",
    "for i in range(numSteps):\n",
    "\n",
    "    newPos = pos+dir\n",
    "    \n",
    "\n",
    "    if (newPos[0] < 0) | (newPos[1] < 0) | (newPos[0] >= wi) | (newPos[1] >= he):\n",
    "        print('Outside')\n",
    "        break\n",
    "        \n",
    "\n",
    "    newEnc = curMap[newPos[1],newPos[0]]\n",
    "\n",
    "    if newEnc == '.':\n",
    "        # pos = newPos \n",
    "        2+2\n",
    "    elif newEnc == '|':\n",
    "        if dir[0] == 0:\n",
    "            # Do nothing\n",
    "            # pos = newPos \n",
    "            2+2\n",
    "        else:\n",
    "            ### Split in two \n",
    "            ## TODO \n",
    "            # pos = newPos \n",
    "            dir = np.array([0,1])\n",
    "            \n",
    "    elif newEnc == '-':\n",
    "        if dir[1] == 0:\n",
    "            # Do nothing\n",
    "            pos = newPos \n",
    "        else:\n",
    "            ### Split in two \n",
    "            ## TODO \n",
    "            dir = np.array([1,0])\n",
    "\n",
    "    elif newEnc == '/':\n",
    "        # print(pos,dir)\n",
    "        if dir[1] == 0:\n",
    "            if dir[0] == 1: # Going right\n",
    "                dir = np.array([0,-1]) # going up\n",
    "            elif dir[0] == -1: # Going left\n",
    "                dir = np.array([0,1]) # going down\n",
    "        else:\n",
    "            if dir[1] == 1: # Going down\n",
    "                dir = np.array([-1,0]) # going left\n",
    "            elif dir[1] == -1: # Going up\n",
    "                dir = np.array([1,0]) # going right\n",
    "                \n",
    "        # print(pos,dir)\n",
    "\n",
    "    elif newEnc == 'Y':\n",
    "        if dir[1] == 0:\n",
    "            if dir[0] == 1: # Going right\n",
    "                dir = np.array([0,1]) # going down\n",
    "            elif dir[0] == -1: # Going left\n",
    "                dir = np.array([0,-1]) # going up\n",
    "        else:\n",
    "            if dir[1] == 1: # Going down\n",
    "                dir = np.array([1,0]) # going right\n",
    "            elif dir[1] == -1: # Going up\n",
    "                dir = np.array([-1,0]) # going left\n",
    "        \n",
    "    pos = newPos \n",
    "\n",
    "    tempMap[pos[1],pos[0]] = '*'\n",
    "\n",
    "\n",
    "    print(pos,dir)\n",
    "    # print(tempMap)\n"
   ]
  },
  {
   "cell_type": "markdown",
   "metadata": {},
   "source": [
    "# Old part 1 stuff"
   ]
  },
  {
   "cell_type": "code",
   "execution_count": 20,
   "metadata": {},
   "outputs": [
    {
     "data": {
      "text/plain": [
       "array([1, 0])"
      ]
     },
     "execution_count": 20,
     "metadata": {},
     "output_type": "execute_result"
    }
   ],
   "source": [
    "# # curX = 0\n",
    "# # curY = 0\n",
    "# pos = np.array([0,0])\n",
    "# # dir = np.array([1,0])\n",
    "\n",
    "# dd = {\n",
    "#     'U':np.array([0,-1]),\n",
    "#     'D':np.array([0,1]),\n",
    "#     'R':np.array([1,0]),\n",
    "#     'L':np.array([-1,0]),\n",
    "# }\n",
    "# dir = dd['R']\n"
   ]
  },
  {
   "cell_type": "code",
   "execution_count": 46,
   "metadata": {},
   "outputs": [
    {
     "name": "stdout",
     "output_type": "stream",
     "text": [
      "[1 0] [0 1]\n",
      "[1 1] [0 1]\n",
      "[1 2] [0 1]\n",
      "[1 3] [0 1]\n",
      "[1 4] [0 1]\n",
      "[1 5] [0 1]\n",
      "[1 6] [0 1]\n",
      "[1 7] [1 0]\n",
      "[2 7] [1 0]\n",
      "[3 7] [1 0]\n",
      "[4 7] [ 0 -1]\n",
      "[4 6] [1 0]\n",
      "[5 6] [1 0]\n",
      "[6 6] [0 1]\n",
      "[6 7] [0 1]\n",
      "[6 8] [1 0]\n",
      "[7 8] [0 1]\n",
      "[7 9] [0 1]\n",
      "Outside\n"
     ]
    }
   ],
   "source": [
    "\n",
    "pos = np.array([0,0])\n",
    "dir = np.array([1,0])\n",
    "\n",
    "numSteps = 30\n",
    "tempMap = curMap.copy()\n",
    "\n",
    "for i in range(numSteps):\n",
    "\n",
    "    newPos = pos+dir\n",
    "    \n",
    "\n",
    "    if (newPos[0] < 0) | (newPos[1] < 0) | (newPos[0] >= wi) | (newPos[1] >= he):\n",
    "        print('Outside')\n",
    "        break\n",
    "        \n",
    "\n",
    "    newEnc = curMap[newPos[1],newPos[0]]\n",
    "\n",
    "    if newEnc == '.':\n",
    "        # pos = newPos \n",
    "        2+2\n",
    "    elif newEnc == '|':\n",
    "        if dir[0] == 0:\n",
    "            # Do nothing\n",
    "            # pos = newPos \n",
    "            2+2\n",
    "        else:\n",
    "            ### Split in two \n",
    "            ## TODO \n",
    "            # pos = newPos \n",
    "            dir = np.array([0,1])\n",
    "            \n",
    "    elif newEnc == '-':\n",
    "        if dir[1] == 0:\n",
    "            # Do nothing\n",
    "            pos = newPos \n",
    "        else:\n",
    "            ### Split in two \n",
    "            ## TODO \n",
    "            dir = np.array([1,0])\n",
    "\n",
    "    elif newEnc == '/':\n",
    "        # print(pos,dir)\n",
    "        if dir[1] == 0:\n",
    "            if dir[0] == 1: # Going right\n",
    "                dir = np.array([0,-1]) # going up\n",
    "            elif dir[0] == -1: # Going left\n",
    "                dir = np.array([0,1]) # going down\n",
    "        else:\n",
    "            if dir[1] == 1: # Going down\n",
    "                dir = np.array([-1,0]) # going left\n",
    "            elif dir[1] == -1: # Going up\n",
    "                dir = np.array([1,0]) # going right\n",
    "                \n",
    "        # print(pos,dir)\n",
    "\n",
    "    elif newEnc == 'Y':\n",
    "        if dir[1] == 0:\n",
    "            if dir[0] == 1: # Going right\n",
    "                dir = np.array([0,1]) # going down\n",
    "            elif dir[0] == -1: # Going left\n",
    "                dir = np.array([0,-1]) # going up\n",
    "        else:\n",
    "            if dir[1] == 1: # Going down\n",
    "                dir = np.array([1,0]) # going right\n",
    "            elif dir[1] == -1: # Going up\n",
    "                dir = np.array([-1,0]) # going left\n",
    "        \n",
    "    pos = newPos \n",
    "\n",
    "    tempMap[pos[1],pos[0]] = '*'\n",
    "\n",
    "\n",
    "    print(pos,dir)\n",
    "    # print(tempMap)\n"
   ]
  },
  {
   "cell_type": "code",
   "execution_count": 42,
   "metadata": {},
   "outputs": [
    {
     "data": {
      "text/plain": [
       "array([ 7, 10])"
      ]
     },
     "execution_count": 42,
     "metadata": {},
     "output_type": "execute_result"
    }
   ],
   "source": []
  },
  {
   "cell_type": "code",
   "execution_count": 81,
   "metadata": {},
   "outputs": [
    {
     "data": {
      "text/plain": [
       "array([['.', '|', '.', '.', '.', 'Y', '.', '.', '.', '.'],\n",
       "       ['|', '.', '-', '.', 'Y', '.', '.', '.', '.', '.'],\n",
       "       ['.', '.', '.', '.', '.', '|', '-', '.', '.', '.'],\n",
       "       ['.', '.', '.', '.', '.', '.', '.', '.', '|', '.'],\n",
       "       ['.', '.', '.', '.', '.', '.', '.', '.', '.', '.'],\n",
       "       ['.', '.', '.', '.', '.', '.', '.', '.', '.', 'Y'],\n",
       "       ['.', '.', '.', '.', '/', '.', 'Y', 'Y', '.', '.'],\n",
       "       ['.', '-', '.', '-', '/', '.', '.', '|', '.', '.'],\n",
       "       ['.', '|', '.', '.', '.', '.', '-', '|', '.', 'Y'],\n",
       "       ['.', '.', '/', '/', '.', '|', '.', '.', '.', '.']], dtype='<U1')"
      ]
     },
     "execution_count": 81,
     "metadata": {},
     "output_type": "execute_result"
    }
   ],
   "source": [
    "curMap"
   ]
  },
  {
   "cell_type": "code",
   "execution_count": 28,
   "metadata": {},
   "outputs": [],
   "source": [
    "# np.array(curMap)[0,2]\n",
    "# np.hstack(np.array([[x for x in curMap]]))\n",
    "curMap = np.array([np.array(x) for x in curMap])\n"
   ]
  },
  {
   "cell_type": "code",
   "execution_count": 55,
   "metadata": {},
   "outputs": [
    {
     "data": {
      "text/plain": [
       "array([['.|...\\\\....'],\n",
       "       ['|.-.\\\\.....'],\n",
       "       ['.....|-...'],\n",
       "       ['........|.'],\n",
       "       ['..........'],\n",
       "       ['.........\\\\'],\n",
       "       ['..../.\\\\\\\\..'],\n",
       "       ['.-.-/..|..'],\n",
       "       ['.|....-|.\\\\'],\n",
       "       ['..//.|....']], dtype='<U10')"
      ]
     },
     "execution_count": 55,
     "metadata": {},
     "output_type": "execute_result"
    }
   ],
   "source": [
    "# x = np.array(curMap[2])\n",
    "# x.reshape((x.size,-1))\n",
    "\n",
    "# curMap.reshape((curMap.size,-1)) \n",
    "\n"
   ]
  }
 ],
 "metadata": {
  "kernelspec": {
   "display_name": "main",
   "language": "python",
   "name": "python3"
  },
  "language_info": {
   "codemirror_mode": {
    "name": "ipython",
    "version": 3
   },
   "file_extension": ".py",
   "mimetype": "text/x-python",
   "name": "python",
   "nbconvert_exporter": "python",
   "pygments_lexer": "ipython3",
   "version": "3.10.0"
  }
 },
 "nbformat": 4,
 "nbformat_minor": 2
}
