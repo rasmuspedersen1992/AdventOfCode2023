{
 "cells": [
  {
   "cell_type": "code",
   "execution_count": 2,
   "metadata": {},
   "outputs": [],
   "source": [
    "# Import packages\n",
    "import numpy as np\n",
    "curDay = 2\n",
    "\n",
    "# Download input file\n",
    "from download_inputs import download_inputs\n",
    "\n",
    "# download_inputs(curDay)"
   ]
  },
  {
   "cell_type": "code",
   "execution_count": 3,
   "metadata": {},
   "outputs": [
    {
     "name": "stdout",
     "output_type": "stream",
     "text": [
      "Done loading input\n"
     ]
    }
   ],
   "source": [
    "# Load input into workspace\n",
    "filename = f'inputs\\\\day{curDay}.txt'\n",
    "# curIn = np.loadtxt(filename)\n",
    "\n",
    "inputFile = open(filename)\n",
    "inputs = []\n",
    "inputs = [s for s in inputFile.read().splitlines()]\n",
    "\n",
    "print('Done loading input')"
   ]
  },
  {
   "cell_type": "code",
   "execution_count": 4,
   "metadata": {},
   "outputs": [
    {
     "name": "stdout",
     "output_type": "stream",
     "text": [
      "Done loading test-input\n"
     ]
    }
   ],
   "source": [
    "# Load test-input into workspace\n",
    "filenameTest = f'inputs\\\\day{curDay}_test.txt'\n",
    "\n",
    "inputFileTest = open(filenameTest)\n",
    "inputsTest = []\n",
    "inputsTest = [s for s in inputFileTest.read().splitlines()]\n",
    "\n",
    "print('Done loading test-input') "
   ]
  },
  {
   "cell_type": "markdown",
   "metadata": {},
   "source": [
    "# Part 1"
   ]
  },
  {
   "cell_type": "code",
   "execution_count": 23,
   "metadata": {},
   "outputs": [],
   "source": [
    "curIn = inputsTest\n",
    "curIn = inputs"
   ]
  },
  {
   "cell_type": "code",
   "execution_count": 24,
   "metadata": {},
   "outputs": [
    {
     "data": {
      "text/plain": [
       "2810"
      ]
     },
     "execution_count": 24,
     "metadata": {},
     "output_type": "execute_result"
    }
   ],
   "source": [
    "curIn\n",
    "\n",
    "allMax = {\n",
    "    'r':12,\n",
    "    'g':13,\n",
    "    'b':14\n",
    "}\n",
    "\n",
    "sol1 = 0\n",
    "\n",
    "for li in curIn:\n",
    "\n",
    "    # print(li)\n",
    "\n",
    "    \n",
    "\n",
    "    gID,allRounds = li.split(': ')\n",
    "\n",
    "    gID = gID.split('Game ')[1]\n",
    "    \n",
    "    curIsPossible = True\n",
    "    \n",
    "    allRounds = allRounds.split('; ')\n",
    "    for curR in allRounds:\n",
    "\n",
    "\n",
    "        allPulls = curR.split(', ')\n",
    "        for pu in allPulls:\n",
    "            num,col = pu.split(' ')\n",
    "\n",
    "            num = int(num)\n",
    "            col = col[0]\n",
    "\n",
    "            if num > allMax[col]:\n",
    "                curIsPossible = False\n",
    "\n",
    "    if curIsPossible:\n",
    "        sol1 += int(gID)\n",
    "            \n",
    "sol1"
   ]
  },
  {
   "cell_type": "markdown",
   "metadata": {},
   "source": [
    "# Part 2 \n",
    "\n",
    "2286"
   ]
  },
  {
   "cell_type": "code",
   "execution_count": 41,
   "metadata": {},
   "outputs": [],
   "source": [
    "curIn = inputsTest\n",
    "curIn = inputs"
   ]
  },
  {
   "cell_type": "code",
   "execution_count": 42,
   "metadata": {},
   "outputs": [
    {
     "data": {
      "text/plain": [
       "69110"
      ]
     },
     "execution_count": 42,
     "metadata": {},
     "output_type": "execute_result"
    }
   ],
   "source": [
    "curIn\n",
    "\n",
    "\n",
    "sol2 = 0\n",
    "\n",
    "for li in curIn:\n",
    "\n",
    "    # print(li)\n",
    "\n",
    "    \n",
    "\n",
    "    gID,allRounds = li.split(': ')\n",
    "\n",
    "    gID = gID.split('Game ')[1]\n",
    "    \n",
    "    allMax = {\n",
    "        'r':0,\n",
    "        'g':0,\n",
    "        'b':0\n",
    "    }\n",
    "\n",
    "    \n",
    "    allRounds = allRounds.split('; ')\n",
    "    for curR in allRounds:\n",
    "\n",
    "        allPulls = curR.split(', ')\n",
    "        for pu in allPulls:\n",
    "            num,col = pu.split(' ')\n",
    "\n",
    "            num = int(num)\n",
    "            col = col[0]\n",
    "\n",
    "            # print(num,col)\n",
    "            if num > allMax[col]:\n",
    "                allMax[col] = num\n",
    "            # print(allMax)\n",
    "    curPower = allMax['r']*allMax['g']*allMax['b']\n",
    "\n",
    "    sol2 += curPower\n",
    "    # if curIsPossible:\n",
    "    #     sol1 += int(gID)\n",
    "            \n",
    "sol2"
   ]
  },
  {
   "cell_type": "code",
   "execution_count": null,
   "metadata": {},
   "outputs": [],
   "source": []
  }
 ],
 "metadata": {
  "kernelspec": {
   "display_name": "main",
   "language": "python",
   "name": "python3"
  },
  "language_info": {
   "codemirror_mode": {
    "name": "ipython",
    "version": 3
   },
   "file_extension": ".py",
   "mimetype": "text/x-python",
   "name": "python",
   "nbconvert_exporter": "python",
   "pygments_lexer": "ipython3",
   "version": "3.10.0"
  }
 },
 "nbformat": 4,
 "nbformat_minor": 2
}
