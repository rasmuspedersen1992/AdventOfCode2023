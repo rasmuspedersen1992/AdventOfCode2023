{
 "cells": [
  {
   "cell_type": "code",
   "execution_count": 1,
   "metadata": {},
   "outputs": [
    {
     "name": "stdout",
     "output_type": "stream",
     "text": [
      "Inputs already downloaded\n"
     ]
    }
   ],
   "source": [
    "# Import packages\n",
    "import numpy as np\n",
    "curDay = 11\n",
    "\n",
    "# Download input file\n",
    "from download_inputs import download_inputs\n",
    "\n",
    "\n",
    "from tqdm import tqdm\n",
    "\n",
    "\n",
    "import os\n",
    "filename = f'inputs\\\\day{curDay}.txt'\n",
    "if not os.path.exists(filename):\n",
    "    download_inputs(curDay)\n",
    "else:\n",
    "    print('Inputs already downloaded')"
   ]
  },
  {
   "cell_type": "code",
   "execution_count": 2,
   "metadata": {},
   "outputs": [
    {
     "name": "stdout",
     "output_type": "stream",
     "text": [
      "Done loading input\n"
     ]
    }
   ],
   "source": [
    "# Load input into workspace\n",
    "filename = f'inputs\\\\day{curDay}.txt'\n",
    "\n",
    "inputFile = open(filename)\n",
    "inputs = [s for s in inputFile.read().splitlines()]\n",
    "\n",
    "print('Done loading input')"
   ]
  },
  {
   "cell_type": "code",
   "execution_count": 3,
   "metadata": {},
   "outputs": [
    {
     "name": "stdout",
     "output_type": "stream",
     "text": [
      "Done loading test-input\n"
     ]
    }
   ],
   "source": [
    "# Load test-input into workspace\n",
    "filenameTest = f'inputs\\\\day{curDay}_test.txt'\n",
    "\n",
    "inputFileTest = open(filenameTest)\n",
    "inputsTest = [s for s in inputFileTest.read().splitlines()]\n",
    "\n",
    "print('Done loading test-input') "
   ]
  },
  {
   "cell_type": "code",
   "execution_count": 4,
   "metadata": {},
   "outputs": [],
   "source": [
    "# def parseIn(curIn):\n",
    "\n",
    "    \n",
    "\n",
    "#     return parsed \n",
    "\n",
    "# # parseIn(inputs)\n",
    "# parseIn(inputsTest)"
   ]
  },
  {
   "cell_type": "markdown",
   "metadata": {},
   "source": [
    "# Part 1"
   ]
  },
  {
   "cell_type": "code",
   "execution_count": 5,
   "metadata": {},
   "outputs": [],
   "source": [
    "curIn = inputsTest.copy()\n",
    "curIn = inputs.copy()"
   ]
  },
  {
   "cell_type": "code",
   "execution_count": 6,
   "metadata": {},
   "outputs": [],
   "source": [
    "# curIn = inputsTest.copy()\n",
    "\n",
    "# Add vertical\n",
    "whereToAdd = []\n",
    "for i,li in enumerate(curIn):\n",
    "    \n",
    "    if '#' not in li:\n",
    "        whereToAdd.append(i)\n",
    "    #     print(li)\n",
    "    # print('#' in li)\n",
    "\n",
    "for i in whereToAdd[::-1]:\n",
    "    curIn = np.insert(curIn,i,curIn[i])\n",
    "\n",
    "# curIn.tolist()"
   ]
  },
  {
   "cell_type": "code",
   "execution_count": 7,
   "metadata": {},
   "outputs": [],
   "source": [
    "\n",
    "# Add horizontal\n",
    "whereToAdd = []\n",
    "for i in range(len(curIn[0])):\n",
    "    # print(i) \n",
    "    # print(curIn[i])\n",
    "    li = [x[i] for x in curIn]\n",
    "    if '#' not in li:\n",
    "        whereToAdd.append(i)\n",
    "whereToAdd\n",
    "\n",
    "curMap = []\n",
    "for j in range(len(curIn)):\n",
    "    li = np.array([x for x in curIn[j]])\n",
    "    for i in whereToAdd[::-1]:\n",
    "        # print(li)\n",
    "        li = np.insert(li,i,'.')\n",
    "    curMap.append(li)\n",
    "    "
   ]
  },
  {
   "cell_type": "code",
   "execution_count": 8,
   "metadata": {},
   "outputs": [],
   "source": [
    "xs = []\n",
    "ys = []\n",
    "for y,li in enumerate(curMap):\n",
    "\n",
    "    indexStar = np.where(li == '#')[0]\n",
    "    if len(indexStar) > 0:\n",
    "        for x in indexStar:\n",
    "            xs.append(x)\n",
    "            ys.append(y)\n",
    "            "
   ]
  },
  {
   "cell_type": "code",
   "execution_count": 9,
   "metadata": {},
   "outputs": [
    {
     "name": "stdout",
     "output_type": "stream",
     "text": [
      "Part 1 solution: 9522407\n"
     ]
    }
   ],
   "source": [
    "sol1 = 0\n",
    "numStars = len(xs)\n",
    "for s1 in range(numStars):\n",
    "    for s2 in range(s1,numStars):\n",
    "                \n",
    "        x1  = xs[s1]\n",
    "        y1 = ys[s1]\n",
    "        x2  = xs[s2]\n",
    "        y2 = ys[s2]\n",
    "        # print(s1,s2)\n",
    "        curDist = np.abs(x2-x1) + np.abs(y2-y1)\n",
    "\n",
    "        sol1 += curDist \n",
    "print('Part 1 solution:',sol1)"
   ]
  },
  {
   "cell_type": "markdown",
   "metadata": {},
   "source": [
    "# Part 2\n",
    "\n",
    "Don't insert, just count"
   ]
  },
  {
   "cell_type": "code",
   "execution_count": 10,
   "metadata": {},
   "outputs": [],
   "source": [
    "curIn = inputsTest.copy()\n",
    "curIn = inputs.copy()"
   ]
  },
  {
   "cell_type": "code",
   "execution_count": 11,
   "metadata": {},
   "outputs": [
    {
     "name": "stdout",
     "output_type": "stream",
     "text": [
      "[4, 57, 73, 74, 83, 90]\n",
      "[52, 54, 61, 70, 73, 74, 114]\n"
     ]
    }
   ],
   "source": [
    "\n",
    "# Add vertical\n",
    "extraVert = []\n",
    "for i,li in enumerate(curIn):\n",
    "    \n",
    "    if '#' not in li:\n",
    "        extraVert.append(i)\n",
    "    \n",
    "# Add horizontal\n",
    "extraHori = []\n",
    "for i in range(len(curIn[0])):\n",
    "    \n",
    "    li = [x[i] for x in curIn]\n",
    "    if '#' not in li:\n",
    "        extraHori.append(i)\n",
    "print(extraVert)\n",
    "print(extraHori)"
   ]
  },
  {
   "cell_type": "code",
   "execution_count": 12,
   "metadata": {},
   "outputs": [],
   "source": [
    "xs = []\n",
    "ys = []\n",
    "for y,li in enumerate(curIn):\n",
    "    indexStar = np.where(np.array([k for k in li]) == '#')[0]\n",
    "    if len(indexStar) > 0:\n",
    "        for x in indexStar:\n",
    "            xs.append(x)\n",
    "            ys.append(y)"
   ]
  },
  {
   "cell_type": "code",
   "execution_count": 13,
   "metadata": {},
   "outputs": [],
   "source": [
    "\n",
    "curMultiplier = 2 # Part 1\n",
    "curMultiplier = 10 \n",
    "curMultiplier = 100\n",
    "curMultiplier = 1000000\n",
    "\n",
    "def calcExtraDistX(x1,x2):\n",
    "    xma = np.max([x1,x2])\n",
    "    xmi = np.min([x1,x2]) \n",
    "    xra = np.arange(xmi,xma)\n",
    "\n",
    "    numInHori = np.sum([x in extraHori for x in xra])\n",
    "    \n",
    "    multToAdd = numInHori * (curMultiplier-1)\n",
    "    return multToAdd\n",
    "\n",
    "def calcExtraDistY(y1,y2):\n",
    "    yma = np.max([y1,y2])\n",
    "    ymi = np.min([y1,y2]) \n",
    "    yra = np.arange(ymi,yma)\n",
    "    \n",
    "    numInVert = np.sum([y in extraVert for y in yra])\n",
    "    multToAdd = numInVert * (curMultiplier-1)\n",
    "    return multToAdd\n",
    "\n"
   ]
  },
  {
   "cell_type": "code",
   "execution_count": 14,
   "metadata": {},
   "outputs": [
    {
     "name": "stderr",
     "output_type": "stream",
     "text": [
      "  1%|          | 4/436 [00:00<01:17,  5.57it/s]"
     ]
    },
    {
     "name": "stderr",
     "output_type": "stream",
     "text": [
      "100%|██████████| 436/436 [00:38<00:00, 11.42it/s] "
     ]
    },
    {
     "name": "stdout",
     "output_type": "stream",
     "text": [
      "Part 2 solution: 544723432977\n"
     ]
    },
    {
     "name": "stderr",
     "output_type": "stream",
     "text": [
      "\n"
     ]
    }
   ],
   "source": [
    "sol2 = 0\n",
    "numStars = len(xs)\n",
    "for s1 in tqdm(range(numStars)):\n",
    "    for s2 in range(s1+1,numStars):\n",
    "        \n",
    "                \n",
    "        x1  = xs[s1]\n",
    "        y1 = ys[s1]\n",
    "        x2  = xs[s2]\n",
    "        y2 = ys[s2]\n",
    "        curDist = np.abs(x2-x1) + np.abs(y2-y1) \n",
    "        # curDist = np.abs(x2-x1) + np.abs(y2-y1) \n",
    "        # print(curDist) \n",
    "\n",
    "        sol2 += curDist \n",
    "\n",
    "        extraX = calcExtraDistX(x1,x2)\n",
    "        extraY = calcExtraDistY(y1,y2)\n",
    "\n",
    "        # print(s1+1,s2+1,curDist,extraX+extraY,curDist+extraX+extraY)\n",
    "\n",
    "        sol2 += extraX+extraY\n",
    "print('Part 2 solution:',int(sol2))\n",
    "#         sol2 += extraX+extraY - 2\n",
    "#     sol2 -= 1\n",
    "# int(sol2 - 1)\n",
    "\n",
    "#         sol2 += extraX+extraY - 2\n",
    "# int(sol2 - numStars - 1)\n"
   ]
  },
  {
   "cell_type": "markdown",
   "metadata": {},
   "source": [
    "# Part 2 improved"
   ]
  },
  {
   "cell_type": "code",
   "execution_count": 22,
   "metadata": {},
   "outputs": [],
   "source": [
    "def getStarPos(curIn):\n",
    "    xs = []\n",
    "    ys = []\n",
    "    for y,li in enumerate(curIn):\n",
    "        indexStar = np.where(np.array([k for k in li]) == '#')[0]\n",
    "        if len(indexStar) > 0:\n",
    "            for x in indexStar:\n",
    "                xs.append(x)\n",
    "                ys.append(y)\n",
    "    return xs,ys"
   ]
  },
  {
   "cell_type": "code",
   "execution_count": 73,
   "metadata": {},
   "outputs": [],
   "source": [
    "curIn = inputsTest.copy()\n",
    "curIn = inputs.copy()\n",
    "\n",
    "xs,ys = getStarPos(curIn)"
   ]
  },
  {
   "cell_type": "code",
   "execution_count": 74,
   "metadata": {},
   "outputs": [],
   "source": [
    "curMap = []\n",
    "for li in curIn:\n",
    "    \n",
    "    toAdd = np.array([x for x in li])\n",
    "    curMap.append(toAdd)\n",
    "curMap = np.array(curMap)"
   ]
  },
  {
   "cell_type": "code",
   "execution_count": 75,
   "metadata": {},
   "outputs": [],
   "source": [
    "# Replaces dots in repeated areas with -, | or +\n",
    "# Horizontal\n",
    "for i,li in enumerate(curMap):\n",
    "    if '#' not in li:\n",
    "        \n",
    "        curMap[i] = ['-' for x in curMap[i]]\n",
    "\n",
    "# Vertical\n",
    "for i in range(len(curMap[0])):\n",
    "    li = [x[i] for x in curMap]\n",
    "    if '#' not in li:\n",
    "        for x in range(len(li)):\n",
    "            curMap[x][i] = curMap[x][i].replace('.','|').replace('-','+')"
   ]
  },
  {
   "cell_type": "code",
   "execution_count": 77,
   "metadata": {},
   "outputs": [
    {
     "name": "stderr",
     "output_type": "stream",
     "text": [
      " 66%|██████▋   | 289/436 [00:10<00:02, 69.19it/s]"
     ]
    }
   ],
   "source": [
    "allDist = 0\n",
    "\n",
    "curExtra = 2 # Part 1\n",
    "curExtra = 10\n",
    "curExtra = 100\n",
    "curExtra = 1000000\n",
    "\n",
    "numStars = len(xs)\n",
    "for s1 in tqdm(range(numStars)):\n",
    "    for s2 in range(s1+1,numStars):\n",
    "        \n",
    "                \n",
    "        x1  = xs[s1]\n",
    "        y1 = ys[s1]\n",
    "        x2  = xs[s2]\n",
    "        y2 = ys[s2]\n",
    "\n",
    "\n",
    "\n",
    "        dx = np.sign(x2-x1)\n",
    "        dy = np.sign(y2-y1)\n",
    "\n",
    "\n",
    "        curDist = 0\n",
    "\n",
    "        cx = x1 \n",
    "        cy = y1 \n",
    "\n",
    "        while cx != x2:\n",
    "            cx = cx + dx \n",
    "\n",
    "\n",
    "            thisMap = curMap[cy,cx]\n",
    "            if thisMap in ['+','|']:\n",
    "                curDist += curExtra \n",
    "            else:\n",
    "                curDist += 1\n",
    "\n",
    "        cx = x1 \n",
    "        cy = y1 \n",
    "        while cy != y2:\n",
    "            cy = cy + dy \n",
    "\n",
    "\n",
    "            thisMap = curMap[cy,cx]\n",
    "            if thisMap in ['+','-']:\n",
    "                curDist += curExtra \n",
    "            else:\n",
    "                curDist += 1\n",
    "\n",
    "\n",
    "        allDist += curDist\n",
    "\n",
    "allDist\n"
   ]
  },
  {
   "cell_type": "code",
   "execution_count": 21,
   "metadata": {},
   "outputs": [],
   "source": [
    "# startID = 2\n",
    "# endID = 5\n",
    "# x1  = xs[startID]\n",
    "# y1 = ys[startID]\n",
    "# x2  = xs[endID]\n",
    "# y2 = ys[endID]\n",
    "# print(x1,y1)\n",
    "# print(x2,y2)\n",
    "\n",
    "# curDist = np.abs(x2-x1) + np.abs(y2-y1) \n",
    "# print(curDist)\n",
    "# extraX = calcExtraDistX(x1,x2)\n",
    "# extraY = calcExtraDistY(y1,y2)\n",
    "# print(extraX,extraY)"
   ]
  }
 ],
 "metadata": {
  "kernelspec": {
   "display_name": "main",
   "language": "python",
   "name": "python3"
  },
  "language_info": {
   "codemirror_mode": {
    "name": "ipython",
    "version": 3
   },
   "file_extension": ".py",
   "mimetype": "text/x-python",
   "name": "python",
   "nbconvert_exporter": "python",
   "pygments_lexer": "ipython3",
   "version": "3.10.0"
  }
 },
 "nbformat": 4,
 "nbformat_minor": 2
}
