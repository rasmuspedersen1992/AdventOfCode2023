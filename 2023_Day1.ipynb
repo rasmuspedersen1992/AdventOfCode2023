{
 "cells": [
  {
   "cell_type": "code",
   "execution_count": 1,
   "metadata": {},
   "outputs": [],
   "source": [
    "# Import packages\n",
    "import numpy as np\n",
    "curDay = 1\n",
    "\n",
    "# Download input file\n",
    "from download_inputs import download_inputs\n",
    "\n",
    "# download_inputs(curDay)"
   ]
  },
  {
   "cell_type": "code",
   "execution_count": 4,
   "metadata": {},
   "outputs": [
    {
     "name": "stdout",
     "output_type": "stream",
     "text": [
      "Done loading input\n"
     ]
    }
   ],
   "source": [
    "# Load input into workspace\n",
    "filename = f'inputs\\\\day{curDay}.txt'\n",
    "# curIn = np.loadtxt(filename)\n",
    "\n",
    "inputFile = open(filename)\n",
    "inputs = []\n",
    "inputs = [s for s in inputFile.read().splitlines()]\n",
    "\n",
    "print('Done loading input')"
   ]
  },
  {
   "cell_type": "code",
   "execution_count": 21,
   "metadata": {},
   "outputs": [
    {
     "name": "stdout",
     "output_type": "stream",
     "text": [
      "Done loading test-input\n"
     ]
    }
   ],
   "source": [
    "# Load test-input into workspace\n",
    "filenameTest = f'inputs\\\\day{curDay}_test.txt'\n",
    "\n",
    "inputFileTest = open(filenameTest)\n",
    "inputsTest = []\n",
    "inputsTest = [s for s in inputFileTest.read().splitlines()]\n",
    "\n",
    "print('Done loading test-input') "
   ]
  },
  {
   "cell_type": "code",
   "execution_count": 22,
   "metadata": {},
   "outputs": [
    {
     "name": "stdout",
     "output_type": "stream",
     "text": [
      "Done loading test-input\n"
     ]
    }
   ],
   "source": [
    "# Load test-input into workspace\n",
    "filenameTest2 = f'inputs\\\\day{curDay}_test2.txt'\n",
    "\n",
    "inputFileTest2 = open(filenameTest2)\n",
    "inputsTest2 = []\n",
    "inputsTest2 = [s for s in inputFileTest2.read().splitlines()]\n",
    "\n",
    "print('Done loading test-input') "
   ]
  },
  {
   "cell_type": "code",
   "execution_count": 23,
   "metadata": {},
   "outputs": [
    {
     "name": "stdout",
     "output_type": "stream",
     "text": [
      "54338\n"
     ]
    }
   ],
   "source": [
    "curIn = inputsTest\n",
    "curIn = inputs\n",
    "\n",
    "sol1 = 0\n",
    "\n",
    "for li in curIn:\n",
    "    # print(li)\n",
    "\n",
    "    # Get last\n",
    "    for s in li:\n",
    "        if s.isnumeric():\n",
    "            d2 = s\n",
    "\n",
    "    \n",
    "    # Get first\n",
    "    for s in li[::-1]:\n",
    "        if s.isnumeric():\n",
    "            d1 = s\n",
    "\n",
    "    curNum = int(str(d1) + str(d2)) \n",
    "    \n",
    "    \n",
    "    sol1 += curNum\n",
    "print(sol1)"
   ]
  },
  {
   "cell_type": "markdown",
   "metadata": {},
   "source": [
    "# Part 2"
   ]
  },
  {
   "cell_type": "code",
   "execution_count": 26,
   "metadata": {},
   "outputs": [],
   "source": [
    "# Idea: Put the number in the middle of the string\n",
    "\n",
    "def frep(s):\n",
    "    s = s.replace('one','on1ne')\n",
    "    s = s.replace('two','tw2wo')\n",
    "    s = s.replace('three','thr3ee')\n",
    "    s = s.replace('four','fo4ur')\n",
    "    s = s.replace('five','fi5ve')\n",
    "    s = s.replace('six','si6x')\n",
    "    s = s.replace('seven','sev7en')\n",
    "    s = s.replace('eight','eig8ht')\n",
    "    s = s.replace('nine','ni9ne')\n",
    "\n",
    "    return s"
   ]
  },
  {
   "cell_type": "code",
   "execution_count": 28,
   "metadata": {},
   "outputs": [
    {
     "name": "stdout",
     "output_type": "stream",
     "text": [
      "53389\n"
     ]
    }
   ],
   "source": [
    "curIn = inputsTest\n",
    "curIn = inputsTest2\n",
    "curIn = inputs\n",
    "\n",
    "\n",
    "sol1 = 0\n",
    "\n",
    "for li in curIn:\n",
    "    # print(li)\n",
    "\n",
    "    li = frep(li)\n",
    "\n",
    "    # Get last\n",
    "    for s in li:\n",
    "        if s.isnumeric():\n",
    "            d2 = s\n",
    "\n",
    "    \n",
    "    # Get first\n",
    "    for s in li[::-1]:\n",
    "        if s.isnumeric():\n",
    "            d1 = s\n",
    "\n",
    "    curNum = int(str(d1) + str(d2)) \n",
    "    \n",
    "    \n",
    "    sol1 += curNum\n",
    "print(sol1)"
   ]
  }
 ],
 "metadata": {
  "kernelspec": {
   "display_name": "main",
   "language": "python",
   "name": "python3"
  },
  "language_info": {
   "codemirror_mode": {
    "name": "ipython",
    "version": 3
   },
   "file_extension": ".py",
   "mimetype": "text/x-python",
   "name": "python",
   "nbconvert_exporter": "python",
   "pygments_lexer": "ipython3",
   "version": "3.10.0"
  }
 },
 "nbformat": 4,
 "nbformat_minor": 2
}
