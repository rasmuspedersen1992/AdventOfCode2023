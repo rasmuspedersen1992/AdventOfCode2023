{
 "cells": [
  {
   "cell_type": "code",
   "execution_count": 1,
   "metadata": {},
   "outputs": [],
   "source": [
    "# Import packages\n",
    "import numpy as np\n",
    "from tqdm import tqdm\n",
    "\n",
    "curDay = 24"
   ]
  },
  {
   "cell_type": "code",
   "execution_count": 2,
   "metadata": {},
   "outputs": [
    {
     "name": "stdout",
     "output_type": "stream",
     "text": [
      "Done loading input\n",
      "Done loading test-input\n"
     ]
    }
   ],
   "source": [
    "# Load input into workspace\n",
    "filename = f'inputs\\\\day{curDay}.txt'\n",
    "\n",
    "inputFile = open(filename)\n",
    "inputs = [s for s in inputFile.read().splitlines()]\n",
    "\n",
    "print('Done loading input')\n",
    "\n",
    "# Load test-input into workspace\n",
    "filenameTest = f'inputs\\\\day{curDay}_test.txt'\n",
    "\n",
    "inputFileTest = open(filenameTest)\n",
    "inputsTest = [s for s in inputFileTest.read().splitlines()]\n",
    "\n",
    "print('Done loading test-input') "
   ]
  },
  {
   "cell_type": "markdown",
   "metadata": {},
   "source": [
    "# Input parsing"
   ]
  },
  {
   "cell_type": "code",
   "execution_count": 3,
   "metadata": {},
   "outputs": [],
   "source": [
    "def parseInputs(test=False):\n",
    "            \n",
    "    if test:\n",
    "        curIn = inputsTest \n",
    "    else:\n",
    "        curIn = inputs \n",
    "            \n",
    "        \n",
    "    allPs = []\n",
    "    allVs = []\n",
    "\n",
    "    for li in curIn:\n",
    "        # print(li.split(' @ '))\n",
    "        lip,liv = li.split(' @ ')\n",
    "        ps = [int(x) for x in lip.split(',')]\n",
    "        vs = [int(x) for x in liv.split(',')]\n",
    "\n",
    "        allPs.append(ps)\n",
    "        allVs.append(vs)\n",
    "    return allPs,allVs \n",
    "\n"
   ]
  },
  {
   "cell_type": "markdown",
   "metadata": {},
   "source": [
    "# Part 1"
   ]
  },
  {
   "cell_type": "code",
   "execution_count": 4,
   "metadata": {},
   "outputs": [],
   "source": [
    "allPs,allVs = parseInputs(test=True)\n",
    "minBox = 7\n",
    "maxBox = 27\n",
    "allPs,allVs = parseInputs(test=False)\n",
    "minBox = 200000000000000\n",
    "maxBox = 400000000000000"
   ]
  },
  {
   "cell_type": "code",
   "execution_count": 14,
   "metadata": {},
   "outputs": [],
   "source": [
    "\n",
    "countInBox = 0\n",
    "\n",
    "numHail = len(allPs)\n",
    "for i in range(numHail):\n",
    "\n",
    "    curP1 = allPs[i]\n",
    "    curV1 = allVs[i]\n",
    "\n",
    "    a1 = curV1[1]/curV1[0]\n",
    "    b1 = curP1[1] - a1 * curP1[0]\n",
    "\n",
    "    for j in range(i+1,numHail):\n",
    "        curP2 = allPs[j]\n",
    "        curV2 = allVs[j]\n",
    "        a2 = curV2[1]/curV2[0]\n",
    "        b2 = curP2[1] - a2 * curP2[0]\n",
    "\n",
    "        # print('---')\n",
    "        # print('Hailstone A:',curP1,curV1)\n",
    "        # print('Hailstone B:',curP2,curV2)\n",
    "\n",
    "        # print('---')\n",
    "        if (a1 != a2):\n",
    "            xintersept = (b2-b1)/(a1-a2)\n",
    "            yintersept = a1 * xintersept + b1 \n",
    "            # print(f'Line 1 = {a1:0.2f}*x+{b1:0.2f}')\n",
    "            # print(f'Line 2 = {a2:0.2f}*x+{b2:0.2f}')\n",
    "            # print('Slopes:',a1,a2)\n",
    "            # print('Intercepts: ',xintersept,yintersept)\n",
    "            \n",
    "            interceptRight1 = xintersept > curP1[0] \n",
    "            movingRight1 = curV1[0] > 0\n",
    "            interceptRight2 = xintersept > curP2[0] \n",
    "            movingRight2 = curV2[0] > 0 \n",
    "\n",
    "            inFuture = True \n",
    "\n",
    "            if interceptRight1 & movingRight1:\n",
    "                # print('Future of A')\n",
    "                2+2\n",
    "            elif (not interceptRight1) & (not movingRight1):\n",
    "                # print('Future of A')\n",
    "                2+2\n",
    "            else:\n",
    "                # print('In the past for A')\n",
    "                2+2\n",
    "                inFuture = False\n",
    "            if interceptRight2 & movingRight2:\n",
    "                # print('Future of B')\n",
    "                2+2\n",
    "            elif (not interceptRight2) & (not movingRight2):\n",
    "                # print('Future of B')\n",
    "                2+2\n",
    "            else:\n",
    "                # print('In the past for B')\n",
    "                2+2\n",
    "                inFuture = False\n",
    "\n",
    "            if inFuture:\n",
    "                if  minBox <= xintersept <= maxBox:\n",
    "                    # print('X in box')\n",
    "                    if  minBox <= yintersept <= maxBox:\n",
    "                        # print('And y in box')\n",
    "                        countInBox += 1\n",
    "\n",
    "            # print(f'SignDiffs: {np.sign(curP1[0] - xintersept)} and {np.sign(curP2[0]- xintersept)}')\n",
    "        else:\n",
    "            # print('Same slope')\n",
    "            2+2\n",
    "\n",
    "# print(countInBox)"
   ]
  },
  {
   "cell_type": "code",
   "execution_count": 15,
   "metadata": {},
   "outputs": [
    {
     "name": "stdout",
     "output_type": "stream",
     "text": [
      "Part 1 solution: 13149\n"
     ]
    }
   ],
   "source": [
    "print('Part 1 solution:',countInBox)"
   ]
  },
  {
   "cell_type": "markdown",
   "metadata": {},
   "source": [
    "# Part 2\n"
   ]
  },
  {
   "cell_type": "code",
   "execution_count": 68,
   "metadata": {},
   "outputs": [],
   "source": [
    "allPs,allVs = parseInputs(test=True)\n",
    "# allPs,allVs = parseInputs(test=False)\n",
    "# "
   ]
  },
  {
   "cell_type": "code",
   "execution_count": 103,
   "metadata": {},
   "outputs": [
    {
     "name": "stdout",
     "output_type": "stream",
     "text": [
      "Hailstone A: [19 13 30] [-2  1 -2]\n",
      "Hailstone B: [18 19 22] [-1 -1 -2]\n",
      "Hailstone C: [20 25 34] [-2 -2 -4]\n",
      "[ -4   3 -14]\n",
      "[ -7   4 -12]\n",
      "[ 9 18 20] [15 16 16] [12 17 18]\n"
     ]
    }
   ],
   "source": [
    "curP1 = np.array(allPs[0])\n",
    "curV1 = np.array(allVs[0])\n",
    "print('Hailstone A:',curP1,curV1)\n",
    "\n",
    "t1 = 5\n",
    "thisP1 = curP1 + t1 * curV1\n",
    "\n",
    "\n",
    "curP2 = np.array(allPs[1])\n",
    "curV2 = np.array(allVs[1])\n",
    "print('Hailstone B:',curP2,curV2)\n",
    "curP3 = np.array(allPs[2])\n",
    "curV3 = np.array(allVs[2])\n",
    "print('Hailstone C:',curP3,curV3)\n",
    "\n",
    "t2 = 3\n",
    "t3 = 4\n",
    "thisP2 = curP2 + t2 * curV2 \n",
    "thisP3 = curP3 + t3 * curV3 \n",
    "\n",
    "print(thisP2 - curP1)\n",
    "print(thisP3 - curP1)\n",
    "\n",
    "print(thisP1,thisP2,thisP3)"
   ]
  },
  {
   "cell_type": "code",
   "execution_count": null,
   "metadata": {},
   "outputs": [],
   "source": [
    "\n",
    "\n",
    "# Describe the line between them \n",
    "t = 0\n",
    "thisP1 = curP1 + t * curV1 \n",
    "thisP2 = curP2 + t * curV2 \n",
    "print(thisP1,thisP2)\n",
    "# i = thisP1[0] - thisP2[0]\n",
    "# j = thisP1[1] - thisP2[1]\n",
    "# k = thisP1[2] - thisP2[2]\n",
    "# stoneDir = np.array([i,j,k])\n",
    "stoneDir = thisP1-thisP2 \n",
    "print(f'{stoneDir = }')\n",
    "\n",
    "\n",
    "thisP3 = curP3 + t * curV3 \n",
    "\n",
    "\n",
    "# stoneDir\n",
    "# curP1 - curP2\n",
    "thisP1 - thisP2\n",
    "(thisP1 - thisP3) / stoneDir"
   ]
  },
  {
   "cell_type": "code",
   "execution_count": 87,
   "metadata": {},
   "outputs": [
    {
     "name": "stdout",
     "output_type": "stream",
     "text": [
      "[[ 4  3  0]\n",
      " [ 3  3  0]\n",
      " [-4  3  0]\n",
      " [-3  3  0]]\n"
     ]
    },
    {
     "data": {
      "text/plain": [
       "array([[-207, -156,  201,  150],\n",
       "       [-115, -114, -107, -108],\n",
       "       [  -7,   -6,    1,    0]])"
      ]
     },
     "execution_count": 87,
     "metadata": {},
     "output_type": "execute_result"
    }
   ],
   "source": [
    "curP1 = np.array(allPs[0])\n",
    "curV1 = np.array(allVs[0])\n",
    "curP2 = curP1 + np.array([2,0,0])\n",
    "curV2 = curV2 + np.array([-1,0,0])\n",
    "\n",
    "\n",
    "curP1 = np.array([4,3,0])\n",
    "curV1 = np.array([-1,0,0])\n",
    "curP2 = np.array([-4,3,0])\n",
    "curV2 = np.array([1,0,0])\n",
    "\n",
    "curP1 + curV1\n",
    "\n",
    "matA = np.array([curP1,curP1+curV1,curP2,curP2+curV2])\n",
    "print(matA)\n",
    "np.matmul(np.invert(np.matmul(matA.T,matA)) , matA.T)"
   ]
  },
  {
   "cell_type": "code",
   "execution_count": 89,
   "metadata": {},
   "outputs": [
    {
     "data": {
      "text/plain": [
       "2"
      ]
     },
     "execution_count": 89,
     "metadata": {},
     "output_type": "execute_result"
    }
   ],
   "source": [
    "np.linalg.matrix_rank(matA)"
   ]
  },
  {
   "cell_type": "markdown",
   "metadata": {},
   "source": [
    "# Part 2, wrong solution\n",
    "\n",
    "Initial idea:\n",
    "\n",
    "Start with two hailstones. Determine the line that goes through them at time 0, see if it hits a third hailstone at time 0. If none are found, check at time 1,2,3,4,...\n",
    "\n",
    "Doesn't work, requires the stones to be hit at the same time"
   ]
  },
  {
   "cell_type": "code",
   "execution_count": 67,
   "metadata": {},
   "outputs": [
    {
     "name": "stdout",
     "output_type": "stream",
     "text": [
      "Hailstone A: [19 13 30] [-2  1 -2]\n",
      "Hailstone B: [18 19 22] [-1 -1 -2]\n",
      "[ 9 18 20] [13 14 12]\n",
      "stoneDir = array([-4,  4,  8])\n",
      "Hailstone C: [20 25 34] [-2 -2 -4]\n"
     ]
    },
    {
     "data": {
      "text/plain": [
       "array([0.25, 0.75, 0.75])"
      ]
     },
     "execution_count": 67,
     "metadata": {},
     "output_type": "execute_result"
    }
   ],
   "source": [
    "curP1 = np.array(allPs[0])\n",
    "curV1 = np.array(allVs[0])\n",
    "curP2 = np.array(allPs[1])\n",
    "curV2 = np.array(allVs[1])\n",
    "print('Hailstone A:',curP1,curV1)\n",
    "print('Hailstone B:',curP2,curV2)\n",
    "\n",
    "# Describe the line between them \n",
    "t = 5\n",
    "thisP1 = curP1 + t * curV1 \n",
    "thisP2 = curP2 + t * curV2 \n",
    "print(thisP1,thisP2)\n",
    "# i = thisP1[0] - thisP2[0]\n",
    "# j = thisP1[1] - thisP2[1]\n",
    "# k = thisP1[2] - thisP2[2]\n",
    "# stoneDir = np.array([i,j,k])\n",
    "stoneDir = thisP1-thisP2 \n",
    "print(f'{stoneDir = }')\n",
    "\n",
    "\n",
    "curP3 = np.array(allPs[2])\n",
    "curV3 = np.array(allVs[2])\n",
    "thisP3 = curP3 + t * curV3 \n",
    "\n",
    "print('Hailstone C:',curP3,curV3)\n",
    "\n",
    "# stoneDir\n",
    "# curP1 - curP2\n",
    "thisP1 - thisP2\n",
    "(thisP1 - thisP3) / stoneDir"
   ]
  },
  {
   "cell_type": "code",
   "execution_count": 30,
   "metadata": {},
   "outputs": [
    {
     "data": {
      "image/png": "[encoded data removed]",
      "text/plain": [
       "<Figure size 432x288 with 1 Axes>"
      ]
     },
     "metadata": {
      "needs_background": "light"
     },
     "output_type": "display_data"
    }
   ],
   "source": [
    "import matplotlib.pyplot as plt \n",
    "\n",
    "xRange = np.arange(-25,25)\n",
    "# fig,ax = plt.subplots()\n",
    "\n",
    "fig = plt.figure()\n",
    "ax = fig.add_subplot(projection='3d')\n",
    "\n",
    "numHail = len(allPs)\n",
    "for i in range(numHail):\n",
    "\n",
    "    curP = allPs[i]\n",
    "    curV = allVs[i]\n",
    "\n",
    "    a1 = curV[1]/curV[0]\n",
    "    b1 = curP[1] - a1 * curP[0]\n",
    "\n",
    "    # ax.plot(xRange,a1*xRange + b1)\n",
    "    ax.scatter(curP[0],curP[1],curP[2])"
   ]
  },
  {
   "cell_type": "markdown",
   "metadata": {},
   "source": [
    "# Old below"
   ]
  },
  {
   "cell_type": "code",
   "execution_count": 7,
   "metadata": {},
   "outputs": [
    {
     "name": "stdout",
     "output_type": "stream",
     "text": [
      "xinter: 424751266182821.0\n",
      "Pos 359290360054469 394969290711776\n",
      "Vel -60 -223\n"
     ]
    }
   ],
   "source": [
    "print('xinter:',xintersept)\n",
    "print('Pos',curP1[0],curP1[1])\n",
    "print('Vel',curV1[0],curV1[1])\n",
    "\n",
    "# curV1[0],curV1[1]\n",
    "# curP1[0] - xintersept\n",
    "# a1\n",
    "# if curV1[0] > 0:\n",
    "#     # Moving right\n",
    "#     2+2\n",
    "interceptRight1 = xintersept > curP1[0] \n",
    "movingRight1 = curV1[0] > 0\n",
    "# xintersept > curP1[0]\n",
    "\n"
   ]
  },
  {
   "cell_type": "code",
   "execution_count": 8,
   "metadata": {},
   "outputs": [
    {
     "data": {
      "text/plain": [
       "(276322991487281.84, 223467803882884.56)"
      ]
     },
     "execution_count": 8,
     "metadata": {},
     "output_type": "execute_result"
    }
   ],
   "source": [
    "i = 0\n",
    "curP = allPs[i]\n",
    "curV = allVs[i]\n",
    "\n",
    "a1 = curV[1]/curV[0]\n",
    "\n",
    "a1\n",
    "b1 = curP[1] - a1 * curP[0]\n",
    "\n",
    "j=1\n",
    "curP = allPs[j]\n",
    "curV = allVs[j]\n",
    "a2 = curV[1]/curV[0]\n",
    "b2 = curP[1] - a2 * curP[0]\n",
    "\n",
    "\n",
    "xintersept = (b2-b1)/(a1-a2)\n",
    "yintersept = a1 * xintersept + b1 \n",
    "xintersept,yintersept"
   ]
  },
  {
   "cell_type": "code",
   "execution_count": 9,
   "metadata": {},
   "outputs": [
    {
     "name": "stdout",
     "output_type": "stream",
     "text": [
      "[225004689740965, 150875733412640, 116049940893518] [275, 389, 375]\n"
     ]
    }
   ],
   "source": [
    "i = 0\n",
    "curP = allPs[i]\n",
    "curV = allVs[i]\n",
    "print(curP,curV)\n",
    "slope = curV[1]/curV[0]\n",
    "\n",
    "# 13 = slope * 19 + yinter \n",
    "13 - slope * 19\n",
    "\n",
    "slope\n",
    "yintercept = curP[1] - slope * curP[0]\n"
   ]
  },
  {
   "cell_type": "code",
   "execution_count": null,
   "metadata": {},
   "outputs": [],
   "source": []
  },
  {
   "cell_type": "code",
   "execution_count": null,
   "metadata": {},
   "outputs": [],
   "source": []
  },
  {
   "cell_type": "code",
   "execution_count": 10,
   "metadata": {},
   "outputs": [
    {
     "data": {
      "text/plain": [
       "[<matplotlib.lines.Line2D at 0x2eadd2d9db0>]"
      ]
     },
     "execution_count": 10,
     "metadata": {},
     "output_type": "execute_result"
    },
    {
     "data": {
      "image/png": "[encoded data removed]",
      "text/plain": [
       "<Figure size 432x288 with 1 Axes>"
      ]
     },
     "metadata": {
      "needs_background": "light"
     },
     "output_type": "display_data"
    }
   ],
   "source": [
    "import matplotlib.pyplot as plt \n",
    "\n",
    "fig,ax = plt.subplots()\n",
    "xs =np.arange(-4,25,1)\n",
    "ys = slope  * xs + yintercept\n",
    "ax.plot(xs,ys)\n",
    "ax.plot(19,13,'*')"
   ]
  }
 ],
 "metadata": {
  "kernelspec": {
   "display_name": "main",
   "language": "python",
   "name": "python3"
  },
  "language_info": {
   "codemirror_mode": {
    "name": "ipython",
    "version": 3
   },
   "file_extension": ".py",
   "mimetype": "text/x-python",
   "name": "python",
   "nbconvert_exporter": "python",
   "pygments_lexer": "ipython3",
   "version": "3.10.0"
  }
 },
 "nbformat": 4,
 "nbformat_minor": 2
}
