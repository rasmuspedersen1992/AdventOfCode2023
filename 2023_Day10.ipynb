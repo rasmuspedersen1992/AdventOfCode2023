{
 "cells": [
  {
   "cell_type": "code",
   "execution_count": 101,
   "metadata": {},
   "outputs": [
    {
     "name": "stdout",
     "output_type": "stream",
     "text": [
      "Inputs already downloaded\n"
     ]
    }
   ],
   "source": [
    "# Import packages\n",
    "import numpy as np\n",
    "curDay = 10\n",
    "\n",
    "# Download input file\n",
    "from download_inputs import download_inputs\n",
    "\n",
    "\n",
    "import os\n",
    "filename = f'inputs\\\\day{curDay}.txt'\n",
    "if not os.path.exists(filename):\n",
    "    download_inputs(curDay)\n",
    "else:\n",
    "    print('Inputs already downloaded')"
   ]
  },
  {
   "cell_type": "code",
   "execution_count": 102,
   "metadata": {},
   "outputs": [
    {
     "name": "stdout",
     "output_type": "stream",
     "text": [
      "Done loading input\n"
     ]
    }
   ],
   "source": [
    "# Load input into workspace\n",
    "filename = f'inputs\\\\day{curDay}.txt'\n",
    "\n",
    "inputFile = open(filename)\n",
    "inputs = [s for s in inputFile.read().splitlines()]\n",
    "\n",
    "print('Done loading input')"
   ]
  },
  {
   "cell_type": "code",
   "execution_count": 103,
   "metadata": {},
   "outputs": [
    {
     "name": "stdout",
     "output_type": "stream",
     "text": [
      "Done loading test-input\n"
     ]
    }
   ],
   "source": [
    "# Load test-input into workspace\n",
    "filenameTest = f'inputs\\\\day{curDay}_test.txt'\n",
    "\n",
    "inputFileTest = open(filenameTest)\n",
    "inputsTest = [s for s in inputFileTest.read().splitlines()]\n",
    "\n",
    "print('Done loading test-input') "
   ]
  },
  {
   "cell_type": "code",
   "execution_count": null,
   "metadata": {},
   "outputs": [],
   "source": []
  },
  {
   "cell_type": "markdown",
   "metadata": {},
   "source": [
    "# Input parsing"
   ]
  },
  {
   "cell_type": "code",
   "execution_count": 104,
   "metadata": {},
   "outputs": [],
   "source": [
    "# def parseIn(curIn):\n",
    "\n",
    "    \n",
    "\n",
    "#     return parsed \n",
    "\n",
    "# # parseIn(inputs)\n",
    "# parseIn(inputsTest)"
   ]
  },
  {
   "cell_type": "markdown",
   "metadata": {},
   "source": [
    "# Part 1"
   ]
  },
  {
   "cell_type": "code",
   "execution_count": 105,
   "metadata": {},
   "outputs": [
    {
     "data": {
      "text/plain": [
       "True"
      ]
     },
     "execution_count": 105,
     "metadata": {},
     "output_type": "execute_result"
    }
   ],
   "source": [
    "isTesting = True \n",
    "# isTesting = False\n",
    "\n",
    "if isTesting:\n",
    "    curIn = inputsTest\n",
    "else:\n",
    "    curIn = inputs\n",
    "isTesting"
   ]
  },
  {
   "cell_type": "code",
   "execution_count": 106,
   "metadata": {},
   "outputs": [
    {
     "name": "stdout",
     "output_type": "stream",
     "text": [
      "1 1\n"
     ]
    }
   ],
   "source": [
    "\n",
    "Sy = np.where(['S' in x for x in curIn])[0][0]\n",
    "Sx = np.where(['S' in x for x in curIn[Sy]])[0][0]\n",
    "Sx\n",
    "print(Sx,Sy)"
   ]
  },
  {
   "cell_type": "code",
   "execution_count": 107,
   "metadata": {},
   "outputs": [],
   "source": [
    "# # Check which directions are connected to S\n",
    "# curIn[Sy+1][Sx]\n",
    "\n",
    "# Hardcoded connections\n",
    "if isTesting:\n",
    "    dirsToStart = [[1,0],[0,1]] # Test case\n",
    "    dirsToStart = [[0,1],[-1,0]] # Test case\n",
    "else:\n",
    "    dirsToStart = [[1,0],[-1,0]] # input"
   ]
  },
  {
   "cell_type": "code",
   "execution_count": 108,
   "metadata": {},
   "outputs": [],
   "source": [
    "# curIn[0]\n",
    "# curIn[1]"
   ]
  },
  {
   "cell_type": "code",
   "execution_count": 109,
   "metadata": {},
   "outputs": [],
   "source": [
    "\n",
    "\n",
    "def getPipe(curPos):\n",
    "    return curIn[curPos[1]][curPos[0]]\n",
    "# print(getPipe(curPos + dirsToStart[0]))\n",
    "# curPos + dirsToStart[0]\n",
    "\n",
    "def getNewDir(pi,fromDir):\n",
    "    if pi == '|':\n",
    "        return fromDir \n",
    "    elif pi == '-':\n",
    "        return fromDir \n",
    "    elif pi == 'L':\n",
    "        if fromDir == [0,1]:\n",
    "            return [1,0]\n",
    "        elif fromDir == [-1,0]:\n",
    "            return [0,-1]\n",
    "    elif pi == 'J':\n",
    "        if fromDir == [0,1]:\n",
    "            return [-1,0]\n",
    "        elif fromDir == [1,0]:\n",
    "            return [0,-1]\n",
    "    elif pi == '7':\n",
    "        if fromDir == [1,0]:\n",
    "            return [0,1]\n",
    "        elif fromDir == [0,-1]:\n",
    "            return [-1,0]\n",
    "    elif pi == 'F':\n",
    "        if fromDir == [-1,0]:\n",
    "            return [0,1]\n",
    "        elif fromDir == [0,-1]:\n",
    "            return [1,0]\n",
    "    else:\n",
    "        print(pi,fromDir)\n",
    "        print('error')"
   ]
  },
  {
   "cell_type": "code",
   "execution_count": 110,
   "metadata": {},
   "outputs": [
    {
     "data": {
      "text/plain": [
       "array([[0, 0, 0, 0, 0, 0, 0, 0, 0, 0, 0],\n",
       "       [0, 0, 0, 0, 0, 0, 0, 0, 0, 0, 0],\n",
       "       [0, 0, 0, 0, 0, 0, 0, 0, 0, 0, 0],\n",
       "       [0, 0, 0, 0, 0, 0, 0, 0, 0, 0, 0],\n",
       "       [0, 0, 0, 0, 0, 0, 0, 0, 0, 0, 0],\n",
       "       [0, 0, 0, 0, 0, 0, 0, 0, 0, 0, 0],\n",
       "       [0, 0, 0, 0, 0, 0, 0, 0, 0, 0, 0],\n",
       "       [0, 0, 0, 0, 0, 0, 0, 0, 0, 0, 0],\n",
       "       [0, 0, 0, 0, 0, 0, 0, 0, 0, 0, 0]])"
      ]
     },
     "execution_count": 110,
     "metadata": {},
     "output_type": "execute_result"
    }
   ],
   "source": [
    "\n",
    "dists = np.zeros((len(curIn),len(curIn[0])))\n",
    "dists"
   ]
  },
  {
   "cell_type": "code",
   "execution_count": 111,
   "metadata": {},
   "outputs": [
    {
     "data": {
      "text/plain": [
       "[0, 1]"
      ]
     },
     "execution_count": 111,
     "metadata": {},
     "output_type": "execute_result"
    }
   ],
   "source": [
    "dirsToStart[0]"
   ]
  },
  {
   "cell_type": "code",
   "execution_count": 112,
   "metadata": {},
   "outputs": [],
   "source": [
    "maxSteps = 200000000\n",
    "\n",
    "curPos = np.array([Sx,Sy])\n",
    "curDir = dirsToStart[0]\n",
    "\n",
    "\n",
    "dists = np.zeros((len(curIn),len(curIn[0])))\n",
    "\n",
    "curPos = curPos + curDir\n",
    "curPi = getPipe(curPos)\n",
    "backAtS = False \n",
    "i = 0\n",
    "while (backAtS == False) & (i < maxSteps):\n",
    "# for i in range(1,maxSteps):\n",
    "    i += 1\n",
    "    \n",
    "    # print(curPi,curPos,curDir)\n",
    "\n",
    "    if curPi == 'S':\n",
    "        backAtS = True\n",
    "    else:\n",
    "\n",
    "        curDir = getNewDir(curPi,curDir)\n",
    "        dists[curPos[1]][curPos[0]] = i \n",
    "        \n",
    "        curPos = curPos + curDir\n",
    "        curPi = getPipe(curPos)\n",
    "\n",
    "    \n",
    "    # print(curPi,curPos,curDir)\n",
    "    \n",
    "    # if curPi != 'S':\n",
    "        # curPos = curPos + curDir\n",
    "        # curPi = getPipe(curPos)\n",
    "    \n",
    "        # curDir = getNewDir(curPi,curDir)\n",
    "        # # print(curPi,curPos,curDir)\n",
    "        # dists[curPos[1]][curPos[0]] = i \n",
    "\n",
    "\n",
    "# newPos = getPipe(curPos)\n",
    "\n",
    "\n",
    "dists[Sy][Sx] = i"
   ]
  },
  {
   "cell_type": "code",
   "execution_count": 113,
   "metadata": {},
   "outputs": [],
   "source": [
    "# import sys\n",
    "# np.set_printoptions(threshold=sys.maxsize)\n",
    "# dists"
   ]
  },
  {
   "cell_type": "code",
   "execution_count": 114,
   "metadata": {},
   "outputs": [
    {
     "data": {
      "text/plain": [
       "23.0"
      ]
     },
     "execution_count": 114,
     "metadata": {},
     "output_type": "execute_result"
    }
   ],
   "source": [
    "np.max(dists)/2\n",
    "# dists\n",
    "# [print(x[84:94]) for x in curIn[84:90]]\n",
    "# dists\n",
    "# np.max(dists)"
   ]
  },
  {
   "cell_type": "code",
   "execution_count": null,
   "metadata": {},
   "outputs": [],
   "source": []
  },
  {
   "cell_type": "markdown",
   "metadata": {},
   "source": [
    "# Part 2"
   ]
  },
  {
   "cell_type": "code",
   "execution_count": 115,
   "metadata": {},
   "outputs": [],
   "source": [
    "curMap = []\n",
    "for y in range(len(curIn)):\n",
    "# for y in [0]:\n",
    "    li = curIn[y]\n",
    "    # print(li)\n",
    "\n",
    "    l1 = []\n",
    "    l2 = []\n",
    "    l3 = []\n",
    "    for x in range(len(li)):\n",
    "        curSymb = li[x]\n",
    "        if curSymb == 'F':\n",
    "            l1.append(['.','.','.'])\n",
    "            l2.append(['.','F','-'])\n",
    "            l3.append(['.','|','.'])\n",
    "        elif curSymb == '7':\n",
    "            l1.append(['.','.','.'])\n",
    "            l2.append(['-','7','.'])\n",
    "            l3.append(['.','|','.'])\n",
    "        elif curSymb == 'J':\n",
    "            l1.append(['.','|','.'])\n",
    "            l2.append(['-','J','.'])\n",
    "            l3.append(['.','.','.'])\n",
    "        elif curSymb == 'L':\n",
    "            l1.append(['.','|','.'])\n",
    "            l2.append(['.','L','-'])\n",
    "            l3.append(['.','.','.'])\n",
    "        elif curSymb == '|':\n",
    "            l1.append(['.','|','.'])\n",
    "            l2.append(['.','|','.'])\n",
    "            l3.append(['.','|','.'])\n",
    "        elif curSymb == '-':\n",
    "            l1.append(['.','.','.'])\n",
    "            l2.append(['-','-','-'])\n",
    "            l3.append(['.','.','.'])\n",
    "        elif curSymb == '.':\n",
    "            l1.append(['.','.','.'])\n",
    "            l2.append(['.','.','.'])\n",
    "            l3.append(['.','.','.'])\n",
    "        elif curSymb == 'S':\n",
    "            if isTesting:\n",
    "                # l1.append(['.','.','.'])\n",
    "                # l2.append(['-','7','.'])\n",
    "                # l3.append(['.','|','.'])\n",
    "\n",
    "                l1.append(['.','.','.'])\n",
    "                l2.append(['.','F','-'])\n",
    "                l3.append(['.','|','.'])\n",
    "            else:\n",
    "                l1.append(['.','.','.'])\n",
    "                l2.append(['-','-','-'])\n",
    "                l3.append(['.','.','.'])\n",
    "\n",
    "    # print(l1)\n",
    "    # print(l2)\n",
    "    # print(l3)\n",
    "    curMap.append(''.join(np.array(l1).flatten()))\n",
    "    curMap.append(''.join(np.array(l2).flatten()))\n",
    "    curMap.append(''.join(np.array(l3).flatten()))\n",
    "# print(np.array(curMap))\n",
    "\n",
    "#     print(curIn[y])"
   ]
  },
  {
   "cell_type": "code",
   "execution_count": 116,
   "metadata": {},
   "outputs": [
    {
     "name": "stdout",
     "output_type": "stream",
     "text": [
      "...........\n",
      ".S-------7.\n",
      ".|F-----7|.\n"
     ]
    }
   ],
   "source": [
    "print(curIn[0])\n",
    "print(curIn[1])\n",
    "print(curIn[2])"
   ]
  },
  {
   "cell_type": "code",
   "execution_count": 117,
   "metadata": {},
   "outputs": [
    {
     "data": {
      "text/plain": [
       "['.................................',\n",
       " '.................................',\n",
       " '.................................',\n",
       " '.................................',\n",
       " '....F-----------------------7....',\n",
       " '....|.......................|....',\n",
       " '....|.......................|....',\n",
       " '....|..F-----------------7..|....',\n",
       " '....|..|.................|..|....',\n",
       " '....|..|.................|..|....',\n",
       " '....|..|.................|..|....',\n",
       " '....|..|.................|..|....',\n",
       " '....|..|.................|..|....',\n",
       " '....|..|.................|..|....',\n",
       " '....|..|.................|..|....',\n",
       " '....|..|.................|..|....',\n",
       " '....|..L-----7.....F-----J..|....',\n",
       " '....|........|.....|........|....',\n",
       " '....|........|.....|........|....',\n",
       " '....|........|.....|........|....',\n",
       " '....|........|.....|........|....',\n",
       " '....|........|.....|........|....',\n",
       " '....L--------J.....L--------J....',\n",
       " '.................................',\n",
       " '.................................',\n",
       " '.................................',\n",
       " '.................................']"
      ]
     },
     "execution_count": 117,
     "metadata": {},
     "output_type": "execute_result"
    }
   ],
   "source": [
    "# '.'.join(np.array(l1).flatten())\n",
    "curMap"
   ]
  },
  {
   "cell_type": "code",
   "execution_count": 69,
   "metadata": {},
   "outputs": [
    {
     "name": "stderr",
     "output_type": "stream",
     "text": [
      "C:\\Users\\rakrpe\\AppData\\Local\\Temp\\ipykernel_30460\\12087158.py:3: VisibleDeprecationWarning: Creating an ndarray from ragged nested sequences (which is a list-or-tuple of lists-or-tuples-or ndarrays with different lengths or shapes) is deprecated. If you meant to do this, you must specify 'dtype=object' when creating the ndarray.\n",
      "  np.array(curMap).reshape((19,19))\n"
     ]
    },
    {
     "ename": "ValueError",
     "evalue": "cannot reshape array of size 30 into shape (19,19)",
     "output_type": "error",
     "traceback": [
      "\u001b[1;31m---------------------------------------------------------------------------\u001b[0m",
      "\u001b[1;31mValueError\u001b[0m                                Traceback (most recent call last)",
      "\u001b[1;32mc:\\Users\\rakrpe\\OneDrive - Roskilde Universitet\\Documents\\AdventOfCode2023\\2023_Day10.ipynb Cell 21\u001b[0m line \u001b[0;36m<module>\u001b[1;34m\u001b[0m\n\u001b[0;32m      <a href='vscode-notebook-cell:/c%3A/Users/rakrpe/OneDrive%20-%20Roskilde%20Universitet/Documents/AdventOfCode2023/2023_Day10.ipynb#Y112sZmlsZQ%3D%3D?line=0'>1</a>\u001b[0m \u001b[39m# li\u001b[39;00m\n\u001b[0;32m      <a href='vscode-notebook-cell:/c%3A/Users/rakrpe/OneDrive%20-%20Roskilde%20Universitet/Documents/AdventOfCode2023/2023_Day10.ipynb#Y112sZmlsZQ%3D%3D?line=1'>2</a>\u001b[0m \u001b[39m# np.array(curMap)\u001b[39;00m\n\u001b[1;32m----> <a href='vscode-notebook-cell:/c%3A/Users/rakrpe/OneDrive%20-%20Roskilde%20Universitet/Documents/AdventOfCode2023/2023_Day10.ipynb#Y112sZmlsZQ%3D%3D?line=2'>3</a>\u001b[0m np\u001b[39m.\u001b[39;49marray(curMap)\u001b[39m.\u001b[39;49mreshape((\u001b[39m19\u001b[39;49m,\u001b[39m19\u001b[39;49m))\n",
      "\u001b[1;31mValueError\u001b[0m: cannot reshape array of size 30 into shape (19,19)"
     ]
    }
   ],
   "source": [
    "# li\n",
    "# np.array(curMap)\n",
    "# np.array(curMap).reshape((19,19))"
   ]
  },
  {
   "cell_type": "code",
   "execution_count": 68,
   "metadata": {},
   "outputs": [
    {
     "data": {
      "text/plain": [
       "19"
      ]
     },
     "execution_count": 68,
     "metadata": {},
     "output_type": "execute_result"
    }
   ],
   "source": [
    "# np.array(l3).flatten()\n",
    "len(l3)"
   ]
  },
  {
   "cell_type": "code",
   "execution_count": null,
   "metadata": {},
   "outputs": [],
   "source": []
  },
  {
   "cell_type": "code",
   "execution_count": 15,
   "metadata": {},
   "outputs": [],
   "source": [
    "np.set_printoptions(edgeitems=30, linewidth=100000, \n",
    "    formatter=dict(float=lambda x: \"%.3g\" % x))"
   ]
  },
  {
   "cell_type": "code",
   "execution_count": 20,
   "metadata": {},
   "outputs": [
    {
     "data": {
      "text/plain": [
       "[]"
      ]
     },
     "execution_count": 20,
     "metadata": {},
     "output_type": "execute_result"
    }
   ],
   "source": []
  },
  {
   "cell_type": "code",
   "execution_count": 21,
   "metadata": {},
   "outputs": [],
   "source": [
    "curCopy = []\n",
    "for y in range(len(curIn)):\n",
    "\n",
    "    curCopy.append(np.array([x for x in curIn[y]]))\n",
    "#     for x in range(len(curCopy[0])):\n",
    "\n",
    "#         if (dists[y,x] == 0):\n",
    "#             curCopy[y][x] = '*'\n",
    "\n",
    "curCopy = np.array(curCopy)"
   ]
  },
  {
   "cell_type": "code",
   "execution_count": null,
   "metadata": {},
   "outputs": [],
   "source": [
    "for y in range(len(curIn)):\n",
    "    for x in range(len(curCopy[0])):\n",
    "\n",
    "        # if (dists[y,x] > 0):\n",
    "        if (dists[y,x] == 0):\n",
    "            curCopy[y,x] = ' '\n"
   ]
  },
  {
   "cell_type": "code",
   "execution_count": null,
   "metadata": {},
   "outputs": [],
   "source": [
    "# curCopy[50]"
   ]
  },
  {
   "cell_type": "code",
   "execution_count": null,
   "metadata": {},
   "outputs": [],
   "source": []
  },
  {
   "cell_type": "code",
   "execution_count": null,
   "metadata": {},
   "outputs": [],
   "source": [
    "# curCopy[60:70,60:70]"
   ]
  },
  {
   "cell_type": "code",
   "execution_count": null,
   "metadata": {},
   "outputs": [],
   "source": []
  },
  {
   "cell_type": "markdown",
   "metadata": {},
   "source": [
    "# Matplotlib stuff"
   ]
  },
  {
   "cell_type": "code",
   "execution_count": null,
   "metadata": {},
   "outputs": [],
   "source": [
    "import matplotlib.pyplot as plt\n",
    "# dists"
   ]
  },
  {
   "cell_type": "code",
   "execution_count": null,
   "metadata": {},
   "outputs": [],
   "source": [
    "%matplotlib widget"
   ]
  },
  {
   "cell_type": "code",
   "execution_count": null,
   "metadata": {},
   "outputs": [],
   "source": [
    "# distsMid = dists[50:90,50:90]"
   ]
  },
  {
   "cell_type": "code",
   "execution_count": null,
   "metadata": {},
   "outputs": [],
   "source": [
    "fig,ax = plt.subplots(figsize=(10,10))\n",
    "ax.imshow(dists,vmin=0,vmax=1)\n",
    "ax.grid()"
   ]
  },
  {
   "cell_type": "code",
   "execution_count": null,
   "metadata": {},
   "outputs": [],
   "source": [
    "# curIn[60:80]\n",
    "\n",
    "curCopy = curIn.copy()\n"
   ]
  },
  {
   "cell_type": "code",
   "execution_count": null,
   "metadata": {},
   "outputs": [],
   "source": [
    "# for y in \n"
   ]
  },
  {
   "cell_type": "code",
   "execution_count": null,
   "metadata": {},
   "outputs": [],
   "source": [
    "curCopy = []\n",
    "for y in range(len(curIn)):\n",
    "\n",
    "    curCopy.append(np.array([x for x in curIn[y]]))\n",
    "#     for x in range(len(curCopy[0])):\n",
    "\n",
    "#         if (dists[y,x] == 0):\n",
    "#             curCopy[y][x] = '*'\n",
    "\n",
    "curCopy = np.array(curCopy)"
   ]
  },
  {
   "cell_type": "code",
   "execution_count": null,
   "metadata": {},
   "outputs": [],
   "source": [
    "# curCopy[1,4]\n",
    "\n",
    "# dirsToStart = [[1,0],[-1,0]] # input\n",
    "curCopy[Sy][Sx] = '-'\n"
   ]
  },
  {
   "cell_type": "code",
   "execution_count": null,
   "metadata": {},
   "outputs": [],
   "source": [
    "# asdfasdf"
   ]
  },
  {
   "cell_type": "code",
   "execution_count": null,
   "metadata": {},
   "outputs": [],
   "source": [
    "\n",
    "for y in range(len(curIn)):\n",
    "    for x in range(len(curCopy[0])):\n",
    "\n",
    "        # if (dists[y,x] > 0):\n",
    "        if (dists[y,x] == 0):\n",
    "            curCopy[y,x] = ' '\n"
   ]
  },
  {
   "cell_type": "code",
   "execution_count": null,
   "metadata": {},
   "outputs": [],
   "source": [
    "curCopy[Sy][Sx]"
   ]
  },
  {
   "cell_type": "code",
   "execution_count": null,
   "metadata": {},
   "outputs": [],
   "source": [
    "# # toStart = [70,70]\n",
    "# st1 = 70 \n",
    "# st2 = 70\n",
    "# curCopy[st1,st2]\n"
   ]
  },
  {
   "cell_type": "code",
   "execution_count": null,
   "metadata": {},
   "outputs": [],
   "source": [
    "# curCopy[65:75,60:75]\n",
    "# curCopy[65:75,60:75][0,2]\n",
    "# curCopy[0:100,50]"
   ]
  },
  {
   "cell_type": "code",
   "execution_count": null,
   "metadata": {},
   "outputs": [],
   "source": [
    "# curCopy[60:80,60:80]"
   ]
  },
  {
   "cell_type": "code",
   "execution_count": null,
   "metadata": {},
   "outputs": [],
   "source": [
    "print(curIn[64])\n",
    "print(curIn[65])\n",
    "print(curIn[66])\n",
    "print(''.join(curCopy[64]))\n",
    "print(''.join(curCopy[65]))\n",
    "print(''.join(curCopy[66]))"
   ]
  },
  {
   "cell_type": "code",
   "execution_count": null,
   "metadata": {},
   "outputs": [],
   "source": [
    "# curCopy[0:67][40:60]\n",
    "# curCopy[0:67,50]"
   ]
  },
  {
   "cell_type": "code",
   "execution_count": null,
   "metadata": {},
   "outputs": [],
   "source": [
    "plt.close('all')\n",
    "\n"
   ]
  },
  {
   "cell_type": "code",
   "execution_count": null,
   "metadata": {},
   "outputs": [],
   "source": [
    "plt.close('all')\n",
    "fig,ax = plt.subplots(figsize=(40,40))\n",
    "ax.set_aspect('equal')\n",
    "ax.invert_yaxis()\n",
    " \n",
    "curX = 65\n",
    "curY = 50\n",
    "for curY in range(0,len(curCopy[0])):\n",
    "# for curY in range(40,90):\n",
    "    curLine = curCopy[curY]\n",
    "    # for curX in range(64,66):\n",
    "    # for curX in range(0,100):\n",
    "    for curX in range(0,len(curCopy[0])):\n",
    "    # for curX in range(40,90):\n",
    "        # curSymb = curCopy[curX,curY] \n",
    "        curSymb = curLine[curX]\n",
    "        # print(curSymb)\n",
    "        # if curSymb == 'L':\n",
    "        #     ax.plot(curX,curY,'.-',lw=6,color='k')\n",
    "        # elif curSymb == 'J':\n",
    "        #     ax.plot(curX,curY,'.-',lw=6,color='y')\n",
    "        # elif curSymb == '7':\n",
    "        #     ax.plot(curX,curY,'.-',lw=6,color='b')\n",
    "        # elif curSymb == '|':\n",
    "        #     ax.plot(curX,curY,'.-',lw=6,color='r')\n",
    "        # elif curSymb == 'F':\n",
    "        #     ax.plot(curX,curY,'.-',lw=6,color='m')\n",
    "        # elif curSymb == '-':\n",
    "        #     ax.plot(curX,curY,'.-',lw=6,color='g')\n",
    "            \n",
    "        if curSymb == 'L':\n",
    "            ax.plot([curX,curX,curX+0.51],[curY-0.51,curY,curY],'.-',lw=6,color='xkcd:grey')\n",
    "        elif curSymb == 'J':\n",
    "            ax.plot([curX-0.51,curX,curX],[curY,curY,curY-0.51],'.-',lw=6,color='xkcd:grey')\n",
    "        elif curSymb == '7':\n",
    "            ax.plot([curX-0.51,curX,curX],[curY,curY,curY+0.51],'.-',lw=6,color='xkcd:grey')\n",
    "        elif curSymb == '|':\n",
    "            ax.plot([curX,curX,curX],[curY-0.51,curY,curY+0.51],'.-',lw=6,color='xkcd:grey')\n",
    "        elif curSymb == 'F':\n",
    "            ax.plot([curX+0.51,curX,curX],[curY,curY,curY+0.51],'.-',lw=6,color='xkcd:grey')\n",
    "        elif curSymb == '-':\n",
    "            ax.plot([curX-0.51,curX,curX+0.51],[curY,curY,curY],'.-',lw=6,color='xkcd:grey')\n",
    "        else:\n",
    "            ax.plot(curX,curY,'*k')\n",
    "        \n",
    "fig.savefig('Day10Part2')"
   ]
  },
  {
   "cell_type": "code",
   "execution_count": null,
   "metadata": {},
   "outputs": [],
   "source": [
    "\n",
    "        # if curSymb == 'L':\n",
    "        #     ax.plot([curX,curX,curX+0.25],[curY+0.25,curY,curY],'.-',lw=6,color='k')\n",
    "        # elif curSymb == 'J':\n",
    "        #     ax.plot([curX-0.25,curX,curX],[curY,curY,curY+0.25],'.-',lw=6,color='y')\n",
    "        # elif curSymb == '7':\n",
    "        #     ax.plot([curX-0.25,curX,curX],[curY,curY,curY-0.25],'.-',lw=6,color='b')\n",
    "        # elif curSymb == '|':\n",
    "        #     ax.plot([curX,curX,curX],[curY-0.25,curY,curY+0.25],'.-',lw=6,color='r')\n",
    "        # elif curSymb == 'F':\n",
    "        #     ax.plot([curX+0.25,curX,curX],[curY,curY,curY-0.25],'.-',lw=6,color='m')\n",
    "        # elif curSymb == '-':\n",
    "        #     ax.plot([curX-0.25,curX,curX+0.25],[curY,curY,curY],'.-',lw=6,color='g')\n",
    "        # else:\n",
    "        #     ax.plot(curX,curY,'*k')\n",
    "        \n",
    "    "
   ]
  },
  {
   "cell_type": "code",
   "execution_count": null,
   "metadata": {},
   "outputs": [],
   "source": [
    "print(''.join(curCopy[59][60:70]))\n",
    "print(''.join(curCopy[60][60:70]))\n",
    "print(''.join(curCopy[61][60:70]))\n",
    "print(''.join(curCopy[62][60:70]))\n",
    "print(''.join(curCopy[63][60:70]))\n",
    "print(''.join(curCopy[64][60:70]))"
   ]
  },
  {
   "cell_type": "code",
   "execution_count": null,
   "metadata": {},
   "outputs": [],
   "source": [
    "\n",
    "fig,ax = plt.subplots()\n",
    "ax.set_aspect('equal')\n",
    "\n",
    "curX = 65\n",
    "curY = 50\n",
    "for curY in range(40,80):\n",
    "    # for curX in range(60,80):\n",
    "    for curX in range(40,90):\n",
    "        curSymb = curCopy[curX,curY] \n",
    "        # print(curSymb)\n",
    "        # curSymb = curCopy[curY,curX]\n",
    "        # if curSymb == 'L':\n",
    "        #     ax.plot([curY,curY,curY+0.25],[curX+0.25,curX,curX],'.-',lw=6,color='k')\n",
    "        # elif curSymb == 'J':\n",
    "        #     ax.plot([curY-0.25,curY,curY],[curX,curX,curX+0.25],'.-',lw=6,color='y')\n",
    "        # elif curSymb == '7':\n",
    "        #     ax.plot([curY-0.25,curY,curY],[curX,curX,curX-0.25],'.-',lw=6,color='b')\n",
    "        # elif curSymb == '|':\n",
    "        #     ax.plot([curY,curY,curY],[curX-0.25,curX,curX+0.25],'.-',lw=6,color='r')\n",
    "        # elif curSymb == 'F':\n",
    "        #     ax.plot([curY+0.25,curY,curY],[curX,curX,curX-0.25],'.-',lw=6,color='m')\n",
    "        # elif curSymb == '-':\n",
    "        #     ax.plot([curY-0.25,curY,curY+0.25],[curX,curX,curX],'.-',lw=6,color='g')\n",
    "        \n",
    "        \n",
    "        if curSymb == 'L':\n",
    "            ax.plot([curX,curX,curX+0.25],[curY+0.25,curY,curY],'.-',lw=6,color='k')\n",
    "        elif curSymb == 'J':\n",
    "            ax.plot([curX-0.25,curX,curX],[curY,curY,curY+0.25],'.-',lw=6,color='y')\n",
    "        elif curSymb == '7':\n",
    "            ax.plot([curX-0.25,curX,curX],[curY,curY,curY-0.25],'.-',lw=6,color='b')\n",
    "        elif curSymb == '|':\n",
    "            ax.plot([curX,curX,curX],[curY-0.25,curY,curY+0.25],'.-',lw=6,color='r')\n",
    "        elif curSymb == 'F':\n",
    "            ax.plot([curX+0.25,curX,curX],[curY,curY,curY-0.25],'.-',lw=6,color='m')\n",
    "        elif curSymb == '-':\n",
    "            ax.plot([curX-0.25,curX,curX+0.25],[curY,curY,curY],'.-',lw=6,color='g')\n",
    "        else:\n",
    "            ax.plot(curX,curY,'*k')"
   ]
  },
  {
   "cell_type": "code",
   "execution_count": null,
   "metadata": {},
   "outputs": [],
   "source": [
    "\n",
    "        # if curSymb == 'L':\n",
    "        #     ax.plot([curX,curX,curX+0.25],[curY+0.25,curY,curY],'.-',lw=6,color='k')\n",
    "        # elif curSymb == 'J':\n",
    "        #     ax.plot([curX-0.25,curX,curX],[curY,curY,curY+0.25],'.-',lw=6,color='y')\n",
    "        # elif curSymb == '7':\n",
    "        #     ax.plot([curX-0.25,curX,curX],[curY,curY,curY-0.25],'.-',lw=6,color='b')\n",
    "        # elif curSymb == '|':\n",
    "        #     ax.plot([curX,curX,curX],[curY-0.25,curY,curY+0.25],'.-',lw=6,color='r')\n",
    "        # elif curSymb == 'F':\n",
    "        #     ax.plot([curX+0.25,curX,curX],[curY,curY,curY-0.25],'.-',lw=6,color='m')\n",
    "        # elif curSymb == '-':\n",
    "        #     ax.plot([curX-0.25,curX,curX+0.25],[curY,curY,curY],'.-',lw=6,color='g')"
   ]
  },
  {
   "cell_type": "code",
   "execution_count": null,
   "metadata": {},
   "outputs": [],
   "source": [
    "\n",
    "np.set_printoptions(edgeitems=30, linewidth=100000, \n",
    "    formatter=dict(float=lambda x: \"%.3g\" % x))"
   ]
  },
  {
   "cell_type": "code",
   "execution_count": null,
   "metadata": {},
   "outputs": [],
   "source": [
    "# [x[60:70] for x in curCopy[60:70]]\n",
    "# curCopy[50:90,55:90]"
   ]
  },
  {
   "cell_type": "code",
   "execution_count": null,
   "metadata": {},
   "outputs": [],
   "source": [
    "(distsMid == 0).sum() - 14"
   ]
  },
  {
   "cell_type": "code",
   "execution_count": null,
   "metadata": {},
   "outputs": [],
   "source": [
    "fig,ax = plt.subplots(figsize=(10,10))\n",
    "ax.imshow(distsMid,vmin=0,vmax=1)\n",
    "ax.grid()"
   ]
  }
 ],
 "metadata": {
  "kernelspec": {
   "display_name": "main",
   "language": "python",
   "name": "python3"
  },
  "language_info": {
   "codemirror_mode": {
    "name": "ipython",
    "version": 3
   },
   "file_extension": ".py",
   "mimetype": "text/x-python",
   "name": "python",
   "nbconvert_exporter": "python",
   "pygments_lexer": "ipython3",
   "version": "3.10.0"
  }
 },
 "nbformat": 4,
 "nbformat_minor": 2
}
