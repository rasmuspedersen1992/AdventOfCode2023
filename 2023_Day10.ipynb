{
 "cells": [
  {
   "cell_type": "code",
   "execution_count": 1,
   "metadata": {},
   "outputs": [
    {
     "name": "stdout",
     "output_type": "stream",
     "text": [
      "Inputs already downloaded\n"
     ]
    }
   ],
   "source": [
    "# Import packages\n",
    "import numpy as np\n",
    "curDay = 10\n",
    "\n",
    "# Download input file\n",
    "from download_inputs import download_inputs\n",
    "\n",
    "\n",
    "import os\n",
    "filename = f'inputs\\\\day{curDay}.txt'\n",
    "if not os.path.exists(filename):\n",
    "    download_inputs(curDay)\n",
    "else:\n",
    "    print('Inputs already downloaded')"
   ]
  },
  {
   "cell_type": "code",
   "execution_count": 2,
   "metadata": {},
   "outputs": [
    {
     "name": "stdout",
     "output_type": "stream",
     "text": [
      "Done loading input\n"
     ]
    }
   ],
   "source": [
    "# Load input into workspace\n",
    "filename = f'inputs\\\\day{curDay}.txt'\n",
    "\n",
    "inputFile = open(filename)\n",
    "inputs = [s for s in inputFile.read().splitlines()]\n",
    "\n",
    "print('Done loading input')"
   ]
  },
  {
   "cell_type": "code",
   "execution_count": 3,
   "metadata": {},
   "outputs": [
    {
     "name": "stdout",
     "output_type": "stream",
     "text": [
      "Done loading test-input\n"
     ]
    }
   ],
   "source": [
    "# Load test-input into workspace\n",
    "filenameTest = f'inputs\\\\day{curDay}_test.txt'\n",
    "\n",
    "inputFileTest = open(filenameTest)\n",
    "inputsTest = [s for s in inputFileTest.read().splitlines()]\n",
    "\n",
    "print('Done loading test-input') "
   ]
  },
  {
   "cell_type": "markdown",
   "metadata": {},
   "source": [
    "# Input parsing"
   ]
  },
  {
   "cell_type": "code",
   "execution_count": 4,
   "metadata": {},
   "outputs": [],
   "source": [
    "# def parseIn(curIn):\n",
    "\n",
    "    \n",
    "\n",
    "#     return parsed \n",
    "\n",
    "# # parseIn(inputs)\n",
    "# parseIn(inputsTest)"
   ]
  },
  {
   "cell_type": "markdown",
   "metadata": {},
   "source": [
    "# Part 1"
   ]
  },
  {
   "cell_type": "code",
   "execution_count": 44,
   "metadata": {},
   "outputs": [
    {
     "data": {
      "text/plain": [
       "True"
      ]
     },
     "execution_count": 44,
     "metadata": {},
     "output_type": "execute_result"
    }
   ],
   "source": [
    "isTesting = True \n",
    "# isTesting = False\n",
    "\n",
    "if isTesting:\n",
    "    curIn = inputsTest\n",
    "else:\n",
    "    curIn = inputs\n",
    "isTesting"
   ]
  },
  {
   "cell_type": "code",
   "execution_count": 45,
   "metadata": {},
   "outputs": [
    {
     "name": "stdout",
     "output_type": "stream",
     "text": [
      "0 2\n"
     ]
    }
   ],
   "source": [
    "\n",
    "Sy = np.where(['S' in x for x in curIn])[0][0]\n",
    "Sx = np.where(['S' in x for x in curIn[Sy]])[0][0]\n",
    "Sx\n",
    "print(Sx,Sy)"
   ]
  },
  {
   "cell_type": "code",
   "execution_count": 46,
   "metadata": {},
   "outputs": [],
   "source": [
    "# # Check which directions are connected to S\n",
    "# curIn[Sy+1][Sx]\n",
    "\n",
    "# Hardcoded connections\n",
    "if isTesting:\n",
    "    dirsToStart = [[1,0],[0,1]] # Test case\n",
    "else:\n",
    "    dirsToStart = [[1,0],[-1,0]] # input"
   ]
  },
  {
   "cell_type": "code",
   "execution_count": 47,
   "metadata": {},
   "outputs": [],
   "source": [
    "# curIn[0]\n",
    "# curIn[1]"
   ]
  },
  {
   "cell_type": "code",
   "execution_count": 48,
   "metadata": {},
   "outputs": [],
   "source": [
    "\n",
    "\n",
    "def getPipe(curPos):\n",
    "    return curIn[curPos[1]][curPos[0]]\n",
    "# print(getPipe(curPos + dirsToStart[0]))\n",
    "# curPos + dirsToStart[0]\n",
    "\n",
    "def getNewDir(pi,fromDir):\n",
    "    if pi == '|':\n",
    "        return fromDir \n",
    "    elif pi == '-':\n",
    "        return fromDir \n",
    "    elif pi == 'L':\n",
    "        if fromDir == [0,1]:\n",
    "            return [1,0]\n",
    "        elif fromDir == [-1,0]:\n",
    "            return [0,-1]\n",
    "    elif pi == 'J':\n",
    "        if fromDir == [0,1]:\n",
    "            return [-1,0]\n",
    "        elif fromDir == [1,0]:\n",
    "            return [0,-1]\n",
    "    elif pi == '7':\n",
    "        if fromDir == [1,0]:\n",
    "            return [0,1]\n",
    "        elif fromDir == [0,-1]:\n",
    "            return [-1,0]\n",
    "    elif pi == 'F':\n",
    "        if fromDir == [-1,0]:\n",
    "            return [0,1]\n",
    "        elif fromDir == [0,-1]:\n",
    "            return [1,0]\n",
    "    else:\n",
    "        print(pi,fromDir)\n",
    "        print('error')"
   ]
  },
  {
   "cell_type": "code",
   "execution_count": 49,
   "metadata": {},
   "outputs": [
    {
     "data": {
      "text/plain": [
       "array([[0., 0., 0., 0., 0.],\n",
       "       [0., 0., 0., 0., 0.],\n",
       "       [0., 0., 0., 0., 0.],\n",
       "       [0., 0., 0., 0., 0.],\n",
       "       [0., 0., 0., 0., 0.]])"
      ]
     },
     "execution_count": 49,
     "metadata": {},
     "output_type": "execute_result"
    }
   ],
   "source": [
    "\n",
    "dists = np.zeros((len(curIn),len(curIn[0])))\n",
    "dists"
   ]
  },
  {
   "cell_type": "code",
   "execution_count": 59,
   "metadata": {},
   "outputs": [
    {
     "data": {
      "text/plain": [
       "[1, 0]"
      ]
     },
     "execution_count": 59,
     "metadata": {},
     "output_type": "execute_result"
    }
   ],
   "source": [
    "dirsToStart[0]"
   ]
  },
  {
   "cell_type": "code",
   "execution_count": 74,
   "metadata": {},
   "outputs": [],
   "source": [
    "maxSteps = 200000000\n",
    "\n",
    "curPos = np.array([Sx,Sy])\n",
    "curDir = dirsToStart[0]\n",
    "\n",
    "\n",
    "dists = np.zeros((len(curIn),len(curIn[0])))\n",
    "\n",
    "curPos = curPos + curDir\n",
    "curPi = getPipe(curPos)\n",
    "backAtS = False \n",
    "i = 0\n",
    "while (backAtS == False) & (i < maxSteps):\n",
    "# for i in range(1,maxSteps):\n",
    "    i += 1\n",
    "    \n",
    "    # print(curPi,curPos,curDir)\n",
    "\n",
    "    if curPi == 'S':\n",
    "        backAtS = True\n",
    "    else:\n",
    "\n",
    "        curDir = getNewDir(curPi,curDir)\n",
    "        dists[curPos[1]][curPos[0]] = i \n",
    "        \n",
    "        curPos = curPos + curDir\n",
    "        curPi = getPipe(curPos)\n",
    "\n",
    "    \n",
    "    # print(curPi,curPos,curDir)\n",
    "    \n",
    "    # if curPi != 'S':\n",
    "        # curPos = curPos + curDir\n",
    "        # curPi = getPipe(curPos)\n",
    "    \n",
    "        # curDir = getNewDir(curPi,curDir)\n",
    "        # # print(curPi,curPos,curDir)\n",
    "        # dists[curPos[1]][curPos[0]] = i \n",
    "\n",
    "\n",
    "# newPos = getPipe(curPos)\n",
    "\n",
    "\n",
    "dists[Sy][Sx] = i"
   ]
  },
  {
   "cell_type": "code",
   "execution_count": 77,
   "metadata": {},
   "outputs": [],
   "source": [
    "# import sys\n",
    "# np.set_printoptions(threshold=sys.maxsize)\n",
    "# dists"
   ]
  },
  {
   "cell_type": "code",
   "execution_count": 76,
   "metadata": {},
   "outputs": [
    {
     "data": {
      "text/plain": [
       "8.0"
      ]
     },
     "execution_count": 76,
     "metadata": {},
     "output_type": "execute_result"
    }
   ],
   "source": [
    "np.max(dists)/2\n",
    "# dists\n",
    "# [print(x[84:94]) for x in curIn[84:90]]\n",
    "# dists\n",
    "# np.max(dists)"
   ]
  },
  {
   "cell_type": "code",
   "execution_count": 78,
   "metadata": {},
   "outputs": [
    {
     "data": {
      "text/plain": [
       "array([[ 0.,  0.,  4.,  5.,  0.],\n",
       "       [ 0.,  2.,  3.,  6.,  0.],\n",
       "       [16.,  1.,  0.,  7.,  8.],\n",
       "       [15., 12., 11., 10.,  9.],\n",
       "       [14., 13.,  0.,  0.,  0.]])"
      ]
     },
     "execution_count": 78,
     "metadata": {},
     "output_type": "execute_result"
    }
   ],
   "source": [
    "dists"
   ]
  }
 ],
 "metadata": {
  "kernelspec": {
   "display_name": "main",
   "language": "python",
   "name": "python3"
  },
  "language_info": {
   "codemirror_mode": {
    "name": "ipython",
    "version": 3
   },
   "file_extension": ".py",
   "mimetype": "text/x-python",
   "name": "python",
   "nbconvert_exporter": "python",
   "pygments_lexer": "ipython3",
   "version": "3.10.0"
  }
 },
 "nbformat": 4,
 "nbformat_minor": 2
}
