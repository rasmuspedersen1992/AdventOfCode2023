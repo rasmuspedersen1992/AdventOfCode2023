{
 "cells": [
  {
   "cell_type": "code",
   "execution_count": 1,
   "metadata": {},
   "outputs": [
    {
     "name": "stdout",
     "output_type": "stream",
     "text": [
      "200\n"
     ]
    }
   ],
   "source": [
    "# Import packages\n",
    "import numpy as np\n",
    "curDay = 9\n",
    "\n",
    "# Download input file\n",
    "from download_inputs import download_inputs\n",
    "\n",
    "\n",
    "import os\n",
    "filename = f'inputs\\\\day{curDay}.txt'\n",
    "if not os.path.exists(filename):\n",
    "    download_inputs(curDay)\n",
    "else:\n",
    "    print('Inputs already downloaded')"
   ]
  },
  {
   "cell_type": "code",
   "execution_count": 106,
   "metadata": {},
   "outputs": [
    {
     "name": "stdout",
     "output_type": "stream",
     "text": [
      "Done loading input\n"
     ]
    }
   ],
   "source": [
    "# Load input into workspace\n",
    "filename = f'inputs\\\\day{curDay}.txt'\n",
    "# curIn = np.loadtxt(filename)\n",
    "\n",
    "inputFile = open(filename)\n",
    "inputs = [s for s in inputFile.read().splitlines()]\n",
    "\n",
    "print('Done loading input')"
   ]
  },
  {
   "cell_type": "code",
   "execution_count": 107,
   "metadata": {},
   "outputs": [
    {
     "name": "stdout",
     "output_type": "stream",
     "text": [
      "Done loading test-input\n"
     ]
    }
   ],
   "source": [
    "# Load test-input into workspace\n",
    "filenameTest = f'inputs\\\\day{curDay}_test.txt'\n",
    "\n",
    "inputFileTest = open(filenameTest)\n",
    "inputsTest = [s for s in inputFileTest.read().splitlines()]\n",
    "\n",
    "print('Done loading test-input') "
   ]
  },
  {
   "cell_type": "markdown",
   "metadata": {},
   "source": [
    "# Input parsing"
   ]
  },
  {
   "cell_type": "code",
   "execution_count": 113,
   "metadata": {},
   "outputs": [],
   "source": [
    "def parseIn(curIn):\n",
    "        \n",
    "    seqs = []\n",
    "\n",
    "    for li in curIn:\n",
    "        seqs.append([int(x) for x in li.split()])\n",
    "    seqs = np.array(seqs)\n",
    "\n",
    "    parsed = seqs \n",
    "    return parsed \n",
    "\n",
    "# parseIn(inputs)\n",
    "# parseIn(inputsTest)"
   ]
  },
  {
   "cell_type": "markdown",
   "metadata": {},
   "source": [
    "# Part 1"
   ]
  },
  {
   "cell_type": "code",
   "execution_count": 121,
   "metadata": {},
   "outputs": [],
   "source": [
    "seqs = parseIn(inputs)\n",
    "# seqs = parseIn(inputsTest)"
   ]
  },
  {
   "cell_type": "code",
   "execution_count": 123,
   "metadata": {},
   "outputs": [
    {
     "name": "stdout",
     "output_type": "stream",
     "text": [
      "1798691765\n"
     ]
    }
   ],
   "source": [
    "sol1 = 0\n",
    "\n",
    "# Go through the sequences\n",
    "for seqi in range(len(seqs)):\n",
    "\n",
    "    curS = seqs[seqi]\n",
    "\n",
    "    #### Determine lists of differences\n",
    "    allDiffs = []\n",
    "    allDiffs.append(curS)\n",
    "\n",
    "    curDiff = allDiffs[-1]\n",
    "    nonZero = True \n",
    "    while nonZero:\n",
    "        nextDiff = np.diff(curDiff)\n",
    "        allDiffs.append(nextDiff)\n",
    "        curDiff = nextDiff\n",
    "        \n",
    "        if np.all(np.unique(curDiff) == 0):\n",
    "            nonZero = False\n",
    "\n",
    "\n",
    "    #### Append \n",
    "    for i in range(-1,-len(allDiffs)-1,-1):\n",
    "        if i == -1:\n",
    "            valToAppend = 0\n",
    "        else:\n",
    "            valToAppend = allDiffs[i][-1] + allDiffs[i+1][-1]\n",
    "\n",
    "        allDiffs[i] = np.append(allDiffs[i],valToAppend)\n",
    "\n",
    "    sol1 += allDiffs[0][-1]\n",
    "\n",
    "print(sol1)"
   ]
  },
  {
   "cell_type": "markdown",
   "metadata": {},
   "source": [
    "# Part 2"
   ]
  },
  {
   "cell_type": "code",
   "execution_count": 120,
   "metadata": {},
   "outputs": [],
   "source": [
    "seqs = parseIn(inputs)\n",
    "# seqs = parseIn(inputsTest)"
   ]
  },
  {
   "cell_type": "code",
   "execution_count": 125,
   "metadata": {},
   "outputs": [
    {
     "name": "stdout",
     "output_type": "stream",
     "text": [
      "1104\n"
     ]
    }
   ],
   "source": [
    "sol2 = 0\n",
    "\n",
    "# Go through\n",
    "for seqi in range(len(seqs)):\n",
    "\n",
    "    curS = seqs[seqi]\n",
    "\n",
    "    #### Determine lists of differences\n",
    "    allDiffs = []\n",
    "    allDiffs.append(curS)\n",
    "\n",
    "    curDiff = allDiffs[-1]\n",
    "    nonZero = True \n",
    "    while nonZero:\n",
    "        nextDiff = np.diff(curDiff)\n",
    "        allDiffs.append(nextDiff)\n",
    "        curDiff = nextDiff\n",
    "\n",
    "        if np.all(np.unique(curDiff) == 0):\n",
    "            nonZero = False\n",
    "\n",
    "    #### Insert in front\n",
    "    for i in range(-1,-len(allDiffs)-1,-1):\n",
    "        if i == -1:\n",
    "            valToAppend = 0\n",
    "        else:\n",
    "            valToAppend = allDiffs[i][0] - allDiffs[i+1][0]\n",
    "\n",
    "        # allDiffs[i] = np.append(allDiffs[i],valToAppend)\n",
    "        allDiffs[i] = np.insert(allDiffs[i],0,valToAppend)\n",
    "        # print(allDiffs)\n",
    "    \n",
    "\n",
    "    #### Add to solution\n",
    "    sol2 += allDiffs[0][0]\n",
    "\n",
    "\n",
    "print(sol2)"
   ]
  },
  {
   "cell_type": "code",
   "execution_count": 126,
   "metadata": {},
   "outputs": [
    {
     "name": "stdout",
     "output_type": "stream",
     "text": [
      "Solution to part 1: 1798691765\n",
      "Solution to part 2: 1104\n"
     ]
    }
   ],
   "source": [
    "print(f'Solution to part 1: {sol1}')\n",
    "print(f'Solution to part 2: {sol2}')"
   ]
  },
  {
   "cell_type": "markdown",
   "metadata": {},
   "source": [
    "# Old below"
   ]
  },
  {
   "cell_type": "code",
   "execution_count": 65,
   "metadata": {},
   "outputs": [
    {
     "data": {
      "text/plain": [
       "[array([ 0,  3,  6,  9, 12, 15]), array([3, 3, 3, 3, 3]), array([0, 0, 0, 0])]"
      ]
     },
     "execution_count": 65,
     "metadata": {},
     "output_type": "execute_result"
    }
   ],
   "source": [
    "seqs\n",
    "i = 0\n",
    "\n",
    "curS = seqs[i]\n",
    "\n",
    "allDiffs = []\n",
    "allDiffs.append(curS)\n",
    "\n",
    "curDiff = allDiffs[-1]\n",
    "while curDiff[1] != 0:\n",
    "    nextDiff = np.diff(curDiff)\n",
    "    allDiffs.append(nextDiff)\n",
    "    curDiff = nextDiff\n",
    "\n",
    "    \n",
    "\n",
    "# np.diff(curS)\n",
    "# curDiff\n",
    "allDiffs \n",
    "\n"
   ]
  },
  {
   "cell_type": "code",
   "execution_count": 66,
   "metadata": {},
   "outputs": [
    {
     "data": {
      "text/plain": [
       "[array([ 0,  3,  6,  9, 12, 15, 18]),\n",
       " array([3, 3, 3, 3, 3, 3]),\n",
       " array([0, 0, 0, 0, 0])]"
      ]
     },
     "execution_count": 66,
     "metadata": {},
     "output_type": "execute_result"
    }
   ],
   "source": [
    "# valToAppend = 0\n",
    "\n",
    "for i in range(-1,-len(allDiffs)-1,-1):\n",
    "    if i == -1:\n",
    "        valToAppend = 0\n",
    "    else:\n",
    "        valToAppend = allDiffs[i][-1] + allDiffs[i+1][-1]\n",
    "\n",
    "    allDiffs[i] = np.append(allDiffs[i],valToAppend)\n",
    "allDiffs"
   ]
  },
  {
   "cell_type": "code",
   "execution_count": 54,
   "metadata": {},
   "outputs": [
    {
     "data": {
      "text/plain": [
       "[array([ 0,  3,  6,  9, 12, 15]),\n",
       " array([3, 3, 3, 3, 3]),\n",
       " array([0, 0, 0, 0, 0])]"
      ]
     },
     "execution_count": 54,
     "metadata": {},
     "output_type": "execute_result"
    }
   ],
   "source": [
    "i = -1\n",
    "valToAppend = allDiffs[i][-1]\n",
    "valToAppend\n",
    "\n",
    "\n",
    "allDiffs[i] = np.append(allDiffs[i],valToAppend)\n",
    "\n",
    "\n",
    "allDiffs"
   ]
  },
  {
   "cell_type": "code",
   "execution_count": 55,
   "metadata": {},
   "outputs": [
    {
     "data": {
      "text/plain": [
       "[array([ 0,  3,  6,  9, 12, 15, 18]),\n",
       " array([3, 3, 3, 3, 3, 3]),\n",
       " array([0, 0, 0, 0, 0])]"
      ]
     },
     "execution_count": 55,
     "metadata": {},
     "output_type": "execute_result"
    }
   ],
   "source": [
    "for i in range(-2,-len(allDiffs)-1,-1):\n",
    "    valToAppend = allDiffs[i][-1] + allDiffs[i+1][-1]\n",
    "\n",
    "\n",
    "    allDiffs[i] = np.append(allDiffs[i],valToAppend)\n",
    "allDiffs"
   ]
  },
  {
   "cell_type": "code",
   "execution_count": 56,
   "metadata": {},
   "outputs": [
    {
     "data": {
      "text/plain": [
       "18"
      ]
     },
     "execution_count": 56,
     "metadata": {},
     "output_type": "execute_result"
    }
   ],
   "source": [
    "allDiffs[0][-1]"
   ]
  },
  {
   "cell_type": "code",
   "execution_count": 42,
   "metadata": {},
   "outputs": [
    {
     "data": {
      "text/plain": [
       "[array([ 0,  3,  6,  9, 12, 15, 18]),\n",
       " array([3, 3, 3, 3, 3, 3]),\n",
       " array([0, 0, 0, 0, 0])]"
      ]
     },
     "execution_count": 42,
     "metadata": {},
     "output_type": "execute_result"
    }
   ],
   "source": [
    "# i = -3\n",
    "# valToAppend = allDiffs[i][-1] + allDiffs[i+1][-1]\n",
    "\n",
    "\n",
    "# allDiffs[i] = np.append(allDiffs[i],valToAppend)\n",
    "# allDiffs"
   ]
  },
  {
   "cell_type": "code",
   "execution_count": null,
   "metadata": {},
   "outputs": [],
   "source": []
  }
 ],
 "metadata": {
  "kernelspec": {
   "display_name": "main",
   "language": "python",
   "name": "python3"
  },
  "language_info": {
   "codemirror_mode": {
    "name": "ipython",
    "version": 3
   },
   "file_extension": ".py",
   "mimetype": "text/x-python",
   "name": "python",
   "nbconvert_exporter": "python",
   "pygments_lexer": "ipython3",
   "version": "3.10.0"
  }
 },
 "nbformat": 4,
 "nbformat_minor": 2
}
