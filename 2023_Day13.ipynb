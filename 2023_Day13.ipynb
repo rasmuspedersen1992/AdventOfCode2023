{
 "cells": [
  {
   "cell_type": "code",
   "execution_count": 1,
   "metadata": {},
   "outputs": [],
   "source": [
    "# Import packages\n",
    "import numpy as np\n",
    "from tqdm import tqdm\n",
    "\n",
    "curDay = 13"
   ]
  },
  {
   "cell_type": "code",
   "execution_count": 3,
   "metadata": {},
   "outputs": [
    {
     "name": "stdout",
     "output_type": "stream",
     "text": [
      "Done loading input\n",
      "Done loading test-input\n"
     ]
    }
   ],
   "source": [
    "# Load input into workspace\n",
    "filename = f'inputs\\\\day{curDay}.txt'\n",
    "\n",
    "inputFile = open(filename)\n",
    "inputs = [s for s in inputFile.read().splitlines()]\n",
    "\n",
    "print('Done loading input')\n",
    "\n",
    "# Load test-input into workspace\n",
    "filenameTest = f'inputs\\\\day{curDay}_test.txt'\n",
    "\n",
    "inputFileTest = open(filenameTest)\n",
    "inputsTest = [s for s in inputFileTest.read().splitlines()]\n",
    "\n",
    "print('Done loading test-input') "
   ]
  },
  {
   "cell_type": "code",
   "execution_count": 18,
   "metadata": {},
   "outputs": [
    {
     "data": {
      "text/plain": [
       "array([1, 0, 1, 1, 0, 0, 1, 1, 0])"
      ]
     },
     "execution_count": 18,
     "metadata": {},
     "output_type": "execute_result"
    }
   ],
   "source": [
    "li = inputsTest[0]\n",
    "li = np.array([int(x) for x in li.replace('#','1').replace('.','0')])"
   ]
  },
  {
   "cell_type": "code",
   "execution_count": 79,
   "metadata": {},
   "outputs": [],
   "source": [
    "def parseInputs(test=False):\n",
    "            \n",
    "    if test:\n",
    "        curIn = inputsTest \n",
    "    else:\n",
    "        curIn = inputs \n",
    "    \n",
    "    mirs = []\n",
    "    curMir = []\n",
    "    for li in curIn:\n",
    "        if li == '':\n",
    "            mirs.append(np.array(curMir))\n",
    "            curMir = []\n",
    "        else:\n",
    "            # li = np.array([int(x) for x in li.replace('#','1').replace('.','0')])\n",
    "            li = np.array(list(li))\n",
    "            curMir.append(li)\n",
    "        # print(li)\n",
    "    \n",
    "    # Add the final one \n",
    "    mirs.append(np.array(curMir))\n",
    "\n",
    "    return mirs\n",
    "    "
   ]
  },
  {
   "cell_type": "code",
   "execution_count": 115,
   "metadata": {},
   "outputs": [
    {
     "name": "stdout",
     "output_type": "stream",
     "text": [
      "Part 1 solution: 36015\n"
     ]
    }
   ],
   "source": [
    "\n",
    "mirs = parseInputs(True)\n",
    "mirs = parseInputs(False)\n",
    "\n",
    "sol1 = 0\n",
    "\n",
    "for mirID,curMir in enumerate(mirs):\n",
    "    # print(mirID,curMir)\n",
    "    # print('Mirror',mirID)\n",
    "    \n",
    "    curH,curW = curMir.shape\n",
    "    # Check horizontal, positive direction\n",
    "    for i in range(curH-1):\n",
    "        j = i + 1\n",
    "        # print('------------------------------------------------')\n",
    "        # print(i,curMir[i,:])\n",
    "        # print(j,curMir[j,:])\n",
    "        # print(np.all(curMir[i,:] == curMir[j,:]))\n",
    "\n",
    "        if np.all(curMir[i,:] == curMir[j,:]):\n",
    "            # print('Two similar rows found')\n",
    "            # Extend outwards until one of the two ends or a dissimilarity has been found\n",
    "            allSimilar = True \n",
    "            x1 = i\n",
    "            x2 = j \n",
    "            \n",
    "            while (x1 >= 0) & (x2 < curH):\n",
    "                # print(x1,x2)\n",
    "                # print(x1,curMir[x1,:])\n",
    "                # print(x2,curMir[x2,:])\n",
    "                # print(np.all(curMir[x1,:]==curMir[x2,:]))\n",
    "                if not np.all(curMir[x1,:]==curMir[x2,:]):\n",
    "                    allSimilar = False \n",
    "                x1 -= 1\n",
    "                x2 += 1\n",
    "            # print(allSimilar) \n",
    "            if allSimilar:\n",
    "                # print(f'Horizontal mirror between {i} and {j}')\n",
    "                # print(f'Number of rows above: {j}')\n",
    "                sol1 += j*100\n",
    "            \n",
    "\n",
    "    # Check vertical\n",
    "    for i in range(curW-1):\n",
    "        j = i + 1\n",
    "        # print('------------------------------------------------')\n",
    "        # print(i,curMir[:,i])\n",
    "        # print(j,curMir[:,j])\n",
    "        # print(np.all(curMir[:,i] == curMir[:,j]))\n",
    "\n",
    "        if np.all(curMir[:,i] == curMir[:,j]):\n",
    "            # print('Two similar columns found')\n",
    "            # Extend outwards until one of the two ends or a dissimilarity has been found\n",
    "            allSimilar = True \n",
    "            x1 = i\n",
    "            x2 = j \n",
    "            \n",
    "            while (x1 >= 0) & (x2 < curW):\n",
    "                # print(x1,x2)\n",
    "                # print(x1,curMir[x1,:])\n",
    "                # print(x2,curMir[x2,:])\n",
    "                # print(np.all(curMir[x1,:]==curMir[x2,:]))\n",
    "                if not np.all(curMir[:,x1]==curMir[:,x2]):\n",
    "                    allSimilar = False \n",
    "                x1 -= 1\n",
    "                x2 += 1\n",
    "            # print(allSimilar) \n",
    "            if allSimilar:\n",
    "                # print(f'Vertical mirror between {i} and {j}')\n",
    "                # print(f'Number of columns to the left: {j}')\n",
    "                sol1 += j\n",
    "print('Part 1 solution:',sol1)"
   ]
  },
  {
   "cell_type": "code",
   "execution_count": null,
   "metadata": {},
   "outputs": [],
   "source": []
  },
  {
   "cell_type": "code",
   "execution_count": 119,
   "metadata": {},
   "outputs": [
    {
     "name": "stdout",
     "output_type": "stream",
     "text": [
      "Part 1 solution: 36015\n"
     ]
    }
   ],
   "source": [
    "\n",
    "mirs = parseInputs(True)\n",
    "mirs = parseInputs(False)\n",
    "\n",
    "sol1 = 0\n",
    "\n",
    "numMirrors = np.zeros(len(mirs))\n",
    "\n",
    "for mirID,curMir in enumerate(mirs):\n",
    "    # print(mirID,curMir)\n",
    "    # print('Mirror',mirID)\n",
    "    \n",
    "    curH,curW = curMir.shape\n",
    "    # Check horizontal, positive direction\n",
    "    for i in range(curH-1):\n",
    "        j = i + 1\n",
    "\n",
    "        if np.all(curMir[i,:] == curMir[j,:]):\n",
    "            # print('Two similar rows found')\n",
    "            # Extend outwards until one of the two ends or a dissimilarity has been found\n",
    "            allSimilar = True \n",
    "            x1 = i\n",
    "            x2 = j \n",
    "            \n",
    "            while (x1 >= 0) & (x2 < curH):\n",
    "                \n",
    "                if not np.all(curMir[x1,:]==curMir[x2,:]):\n",
    "                    allSimilar = False \n",
    "                x1 -= 1\n",
    "                x2 += 1\n",
    "            # print(allSimilar) \n",
    "            if allSimilar:\n",
    "                # print(f'Horizontal mirror between {i} and {j}')\n",
    "                # print(f'Number of rows above: {j}')\n",
    "                sol1 += j*100\n",
    "                numMirrors[mirID] += 1\n",
    "            \n",
    "\n",
    "    # Check vertical\n",
    "    for i in range(curW-1):\n",
    "        j = i + 1\n",
    "        # print('------------------------------------------------')\n",
    "        # print(i,curMir[:,i])\n",
    "        # print(j,curMir[:,j])\n",
    "        # print(np.all(curMir[:,i] == curMir[:,j]))\n",
    "\n",
    "        if np.all(curMir[:,i] == curMir[:,j]):\n",
    "            # print('Two similar columns found')\n",
    "            # Extend outwards until one of the two ends or a dissimilarity has been found\n",
    "            allSimilar = True \n",
    "            x1 = i\n",
    "            x2 = j \n",
    "            \n",
    "            while (x1 >= 0) & (x2 < curW):\n",
    "                # print(x1,x2)\n",
    "                # print(x1,curMir[x1,:])\n",
    "                # print(x2,curMir[x2,:])\n",
    "                # print(np.all(curMir[x1,:]==curMir[x2,:]))\n",
    "                if not np.all(curMir[:,x1]==curMir[:,x2]):\n",
    "                    allSimilar = False \n",
    "                x1 -= 1\n",
    "                x2 += 1\n",
    "            # print(allSimilar) \n",
    "            if allSimilar:\n",
    "                # print(f'Vertical mirror between {i} and {j}')\n",
    "                # print(f'Number of columns to the left: {j}')\n",
    "                sol1 += j\n",
    "                numMirrors[mirID] += 1\n",
    "print('Part 1 solution:',sol1)\n",
    "                "
   ]
  },
  {
   "cell_type": "markdown",
   "metadata": {},
   "source": [
    "# Part 2\n",
    "Exactly one symbol is wrong\n",
    "\n",
    "Idea: Bruteforce by checking all\n",
    "\n",
    "First, functionalize to make it more managable"
   ]
  },
  {
   "cell_type": "code",
   "execution_count": 156,
   "metadata": {},
   "outputs": [],
   "source": [
    "def checkHori(curMir):\n",
    "    mirrorFound = False \n",
    "    curValue = 0\n",
    "    reflectionLinesFound =[]\n",
    "    \n",
    "    curH,curW = curMir.shape\n",
    "    # Check horizontal, positive direction\n",
    "    for i in range(curH-1):\n",
    "        j = i + 1\n",
    "\n",
    "        if np.all(curMir[i,:] == curMir[j,:]):\n",
    "            # print('Two similar rows found')\n",
    "            # Extend outwards until one of the two ends or a dissimilarity has been found\n",
    "            allSimilar = True \n",
    "            x1 = i\n",
    "            x2 = j \n",
    "            \n",
    "            while (x1 >= 0) & (x2 < curH):\n",
    "                \n",
    "                if not np.all(curMir[x1,:]==curMir[x2,:]):\n",
    "                    allSimilar = False \n",
    "                x1 -= 1\n",
    "                x2 += 1\n",
    "            # print(allSimilar) \n",
    "            if allSimilar:\n",
    "                # print(f'Horizontal mirror between {i} and {j}')\n",
    "                # print(f'Number of rows above: {j}')\n",
    "                curValue += j*100\n",
    "                # numMirrors[mirID] += 1\n",
    "                mirrorFound = True \n",
    "                reflectionLinesFound.append(j)\n",
    "    return mirrorFound,curValue,reflectionLinesFound"
   ]
  },
  {
   "cell_type": "code",
   "execution_count": 157,
   "metadata": {},
   "outputs": [],
   "source": [
    "def checkVert(curMir):\n",
    "    mirrorFound = False \n",
    "    curValue = 0\n",
    "    reflectionLinesFound = []\n",
    "\n",
    "    curH,curW = curMir.shape\n",
    "    \n",
    "    # Check vertical\n",
    "    for i in range(curW-1):\n",
    "        j = i + 1\n",
    "        # print('------------------------------------------------')\n",
    "        # print(i,curMir[:,i])\n",
    "        # print(j,curMir[:,j])\n",
    "        # print(np.all(curMir[:,i] == curMir[:,j]))\n",
    "\n",
    "        if np.all(curMir[:,i] == curMir[:,j]):\n",
    "            # print('Two similar columns found')\n",
    "            # Extend outwards until one of the two ends or a dissimilarity has been found\n",
    "            allSimilar = True \n",
    "            x1 = i\n",
    "            x2 = j \n",
    "            \n",
    "            while (x1 >= 0) & (x2 < curW):\n",
    "                # print(x1,x2)\n",
    "                # print(x1,curMir[x1,:])\n",
    "                # print(x2,curMir[x2,:])\n",
    "                # print(np.all(curMir[x1,:]==curMir[x2,:]))\n",
    "                if not np.all(curMir[:,x1]==curMir[:,x2]):\n",
    "                    allSimilar = False \n",
    "                x1 -= 1\n",
    "                x2 += 1\n",
    "            # print(allSimilar) \n",
    "            if allSimilar:\n",
    "                # print(f'Vertical mirror between {i} and {j}')\n",
    "                # print(f'Number of columns to the left: {j}')\n",
    "                # sol1 += j\n",
    "                # numMirrors[mirID] += 1\n",
    "                curValue += j \n",
    "                mirrorFound = True \n",
    "                reflectionLinesFound.append(j)\n",
    "    return mirrorFound,curValue,reflectionLinesFound  "
   ]
  },
  {
   "cell_type": "code",
   "execution_count": 158,
   "metadata": {},
   "outputs": [
    {
     "data": {
      "text/plain": [
       "36015"
      ]
     },
     "execution_count": 158,
     "metadata": {},
     "output_type": "execute_result"
    }
   ],
   "source": [
    "\n",
    "mirs = parseInputs(True)\n",
    "mirs = parseInputs(False)\n",
    "\n",
    "sol1 = 0\n",
    "\n",
    "numMirrors = np.zeros(len(mirs))\n",
    "\n",
    "for mirID,curMir in enumerate(mirs):\n",
    "    # print(mirID,curMir)\n",
    "    # print('Mirror',mirID)\n",
    "    mirrorFound,curValue,reflectionLine = checkHori(curMir)\n",
    "    # print(mirrorFound)\n",
    "    sol1 += curValue\n",
    "    mirrorFound,curValue,reflectionLine = checkVert(curMir)\n",
    "    # print(mirrorFound)\n",
    "    sol1 += curValue\n",
    "sol1"
   ]
  },
  {
   "cell_type": "code",
   "execution_count": 199,
   "metadata": {},
   "outputs": [],
   "source": [
    "\n",
    "mirs = parseInputs(True)\n",
    "mirs = parseInputs(False)"
   ]
  },
  {
   "cell_type": "code",
   "execution_count": 203,
   "metadata": {},
   "outputs": [
    {
     "name": "stderr",
     "output_type": "stream",
     "text": [
      "  0%|          | 0/100 [00:00<?, ?it/s]"
     ]
    },
    {
     "name": "stderr",
     "output_type": "stream",
     "text": [
      "C:\\Users\\rakrpe\\AppData\\Local\\Temp\\ipykernel_24816\\4067000147.py:44: FutureWarning: elementwise comparison failed; returning scalar instead, but in the future will perform elementwise comparison\n",
      "  if OGRefl[0] in np.array(curRefl):\n",
      "100%|██████████| 100/100 [00:08<00:00, 11.66it/s]\n"
     ]
    },
    {
     "data": {
      "text/plain": [
       "35335"
      ]
     },
     "execution_count": 203,
     "metadata": {},
     "output_type": "execute_result"
    }
   ],
   "source": [
    "sol2 = 0\n",
    "for mirID,curMir in enumerate(tqdm(mirs)):\n",
    "\n",
    "\n",
    "\n",
    "    curH,curW = curMir.shape\n",
    "\n",
    "    ogMir = curMir.copy()\n",
    "    numMirsArray = np.zeros(curMir.shape)\n",
    "\n",
    "    # Determine original reflection-line\n",
    "    mirrorFound,curValue,OGreflectionLineHori = checkHori(curMir)\n",
    "    mirrorFound,curValue,OGreflectionLineVert = checkVert(curMir)\n",
    "    # print(OGreflectionLineHori,OGreflectionLineVert)\n",
    "    OGRefl = ['h'+str(x) for x in OGreflectionLineHori]\n",
    "    OGRefl.extend(['v'+str(x) for x in OGreflectionLineVert])\n",
    "\n",
    "    # print(OGRefl)\n",
    "\n",
    "\n",
    "    allPosRefl = []\n",
    "    # print('-----')\n",
    "    for x in range(curW):\n",
    "        for y in range(curH):\n",
    "            # print('---')\n",
    "            curMir = ogMir.copy()\n",
    "            toChange = curMir[y][x]\n",
    "            if toChange == '.':\n",
    "                toChange = '#'\n",
    "            else:\n",
    "                toChange = '.'\n",
    "            curMir[y][x] = toChange\n",
    "            # print(curMir)\n",
    "            reflectionLineHori = -1\n",
    "            reflectionLineVert = -1\n",
    "            mirrorFoundHori,curValue,reflectionLineHori = checkHori(curMir)\n",
    "            mirrorFoundVert,curValue,reflectionLineVert = checkVert(curMir)\n",
    "            \n",
    "            curRefl = ['h'+str(x) for x in reflectionLineHori]\n",
    "            curRefl.extend(['v'+str(x) for x in reflectionLineVert])\n",
    "            # print(curRefl)\n",
    "            if OGRefl[0] in np.array(curRefl):\n",
    "                curRefl.remove(OGRefl[0])\n",
    "            # print(curRefl)\n",
    "            allPosRefl.extend(curRefl)\n",
    "            \n",
    "            \n",
    "    newRefs = np.unique(allPosRefl)\n",
    "    # print(newRefs[0])\n",
    "\n",
    "    newDir = newRefs[0][0]\n",
    "    newNumber = int(newRefs[0][1:])\n",
    "    # print(newDir,newNumber)\n",
    "\n",
    "    if newDir == 'h':\n",
    "        sol2 += 100*newNumber\n",
    "    else:\n",
    "        sol2 += newNumber \n",
    "sol2"
   ]
  },
  {
   "cell_type": "code",
   "execution_count": 204,
   "metadata": {},
   "outputs": [
    {
     "name": "stdout",
     "output_type": "stream",
     "text": [
      "Solution to part 2: 35335\n"
     ]
    }
   ],
   "source": [
    "print('Solution to part 2:',sol2)"
   ]
  },
  {
   "cell_type": "markdown",
   "metadata": {},
   "source": [
    "# Old tests below"
   ]
  },
  {
   "cell_type": "code",
   "execution_count": 97,
   "metadata": {},
   "outputs": [],
   "source": [
    "# 45237 too high in part 1"
   ]
  },
  {
   "cell_type": "code",
   "execution_count": 99,
   "metadata": {},
   "outputs": [
    {
     "data": {
      "text/plain": [
       "array([['#', '#', '#', '.', '.', '.', '.'],\n",
       "       ['#', '#', '#', '#', '.', '.', '#'],\n",
       "       ['.', '.', '.', '#', '#', '#', '.'],\n",
       "       ['.', '.', '.', '#', '#', '#', '#'],\n",
       "       ['#', '#', '.', '.', '.', '.', '.'],\n",
       "       ['#', '#', '.', '.', '#', '#', '.'],\n",
       "       ['.', '.', '#', '#', '#', '#', '#'],\n",
       "       ['#', '#', '#', '.', '.', '.', '.'],\n",
       "       ['.', '.', '.', '.', '#', '#', '.'],\n",
       "       ['#', '#', '.', '#', '.', '.', '#'],\n",
       "       ['#', '#', '.', '#', '#', '#', '#'],\n",
       "       ['#', '#', '.', '.', '#', '#', '.'],\n",
       "       ['.', '.', '#', '.', '.', '.', '.'],\n",
       "       ['.', '.', '#', '#', '.', '.', '#'],\n",
       "       ['.', '.', '#', '.', '.', '.', '.']], dtype='<U1')"
      ]
     },
     "execution_count": 99,
     "metadata": {},
     "output_type": "execute_result"
    }
   ],
   "source": [
    "mirs[5]"
   ]
  },
  {
   "cell_type": "code",
   "execution_count": 100,
   "metadata": {},
   "outputs": [],
   "source": [
    "curMir = mirs[5]"
   ]
  },
  {
   "cell_type": "code",
   "execution_count": null,
   "metadata": {},
   "outputs": [],
   "source": []
  },
  {
   "cell_type": "code",
   "execution_count": 102,
   "metadata": {},
   "outputs": [],
   "source": [
    "curMir\n",
    "curH,curW = curMir.shape\n",
    "# Check horizontal, positive direction\n",
    "for i in range(curH-1):\n",
    "    j = i + 1\n",
    "    # print('------------------------------------------------')\n",
    "    # print(i,curMir[i,:])\n",
    "    # print(j,curMir[j,:])\n",
    "    # print(np.all(curMir[i,:] == curMir[j,:]))\n",
    "\n",
    "    if np.all(curMir[i,:] == curMir[j,:]):\n",
    "        # print('Two similar rows found')\n",
    "        # Extend outwards until one of the two ends or a dissimilarity has been found\n",
    "        allSimilar = True \n",
    "        x1 = i\n",
    "        x2 = j \n",
    "        \n",
    "        while (x1 >= 0) & (x2 < (curH-1)):\n",
    "            x1 -= 1\n",
    "            x2 += 1\n",
    "            # print(x1,x2)\n",
    "            # print(x1,curMir[x1,:])\n",
    "            # print(x2,curMir[x2,:])\n",
    "            # print(np.all(curMir[x1,:]==curMir[x2,:]))\n",
    "            if not np.all(curMir[x1,:]==curMir[x2,:]):\n",
    "                allSimilar = False \n",
    "        # print(allSimilar) \n",
    "        if allSimilar:\n",
    "            print(f'Mirror between {i} and {j}')\n",
    "            print(f'Number of rows above: {j}')\n",
    "        "
   ]
  },
  {
   "cell_type": "code",
   "execution_count": 110,
   "metadata": {},
   "outputs": [
    {
     "name": "stdout",
     "output_type": "stream",
     "text": [
      "Two similar columns found\n",
      "0 ['#' '#' '.' '.' '#' '#' '.' '#' '.' '#' '#' '#' '.' '.' '.']\n",
      "1 ['#' '#' '.' '.' '#' '#' '.' '#' '.' '#' '#' '#' '.' '.' '.']\n",
      "True\n",
      "Mirror between 0 and 1\n",
      "Number of colums to the left: 1\n",
      "Two similar columns found\n",
      "4 ['.' '.' '#' '#' '.' '#' '#' '.' '#' '.' '#' '#' '.' '.' '.']\n",
      "5 ['.' '.' '#' '#' '.' '#' '#' '.' '#' '.' '#' '#' '.' '.' '.']\n",
      "True\n",
      "3 ['.' '#' '#' '#' '.' '.' '#' '.' '.' '#' '#' '.' '.' '#' '.']\n",
      "6 ['.' '#' '.' '#' '.' '.' '#' '.' '.' '#' '#' '.' '.' '#' '.']\n",
      "False\n"
     ]
    }
   ],
   "source": [
    "# Check vertical\n",
    "for i in range(curW-1):\n",
    "    j = i + 1\n",
    "    # print('------------------------------------------------')\n",
    "    # print(i,curMir[:,i])\n",
    "    # print(j,curMir[:,j])\n",
    "    # print(np.all(curMir[:,i] == curMir[:,j]))\n",
    "\n",
    "    if np.all(curMir[:,i] == curMir[:,j]):\n",
    "        print('Two similar columns found')\n",
    "        # Extend outwards until one of the two ends or a dissimilarity has been found\n",
    "        allSimilar = True \n",
    "        x1 = i\n",
    "        x2 = j \n",
    "        # print(x1,x2)\n",
    "        \n",
    "        while (x1 >= 0) & (x2 < (curW)):\n",
    "            print(x1,curMir[:,x1])\n",
    "            print(x2,curMir[:,x2])\n",
    "            # print(np.all(curMir[x1,:]==curMir[x2,:]))\n",
    "            if not np.all(curMir[:,x1]==curMir[:,x2]):\n",
    "                allSimilar = False \n",
    "\n",
    "                \n",
    "            x1 -= 1\n",
    "            x2 += 1\n",
    "        #     print(x1,x2)\n",
    "        # print(allSimilar) \n",
    "        if allSimilar:\n",
    "            print(f'Mirror between {i} and {j}')\n",
    "            print(f'Number of colums to the left: {j}')\n",
    "        "
   ]
  },
  {
   "cell_type": "code",
   "execution_count": 108,
   "metadata": {},
   "outputs": [
    {
     "data": {
      "text/plain": [
       "array([['#', '#', '#', '.', '.', '.', '.'],\n",
       "       ['#', '#', '#', '#', '.', '.', '#'],\n",
       "       ['.', '.', '.', '#', '#', '#', '.'],\n",
       "       ['.', '.', '.', '#', '#', '#', '#'],\n",
       "       ['#', '#', '.', '.', '.', '.', '.'],\n",
       "       ['#', '#', '.', '.', '#', '#', '.'],\n",
       "       ['.', '.', '#', '#', '#', '#', '#'],\n",
       "       ['#', '#', '#', '.', '.', '.', '.'],\n",
       "       ['.', '.', '.', '.', '#', '#', '.'],\n",
       "       ['#', '#', '.', '#', '.', '.', '#'],\n",
       "       ['#', '#', '.', '#', '#', '#', '#'],\n",
       "       ['#', '#', '.', '.', '#', '#', '.'],\n",
       "       ['.', '.', '#', '.', '.', '.', '.'],\n",
       "       ['.', '.', '#', '#', '.', '.', '#'],\n",
       "       ['.', '.', '#', '.', '.', '.', '.']], dtype='<U1')"
      ]
     },
     "execution_count": 108,
     "metadata": {},
     "output_type": "execute_result"
    }
   ],
   "source": [
    "curMir"
   ]
  },
  {
   "cell_type": "code",
   "execution_count": null,
   "metadata": {},
   "outputs": [],
   "source": [
    "\n",
    "for i in range(curH):\n",
    "    for j in range(i+1,curH):\n",
    "        print('--')\n",
    "        print(i,curMir[i,:])\n",
    "        print(j,curMir[j,:])\n",
    "        print(np.all(curMir[i,:] == curMir[j,:]))"
   ]
  }
 ],
 "metadata": {
  "kernelspec": {
   "display_name": "main",
   "language": "python",
   "name": "python3"
  },
  "language_info": {
   "codemirror_mode": {
    "name": "ipython",
    "version": 3
   },
   "file_extension": ".py",
   "mimetype": "text/x-python",
   "name": "python",
   "nbconvert_exporter": "python",
   "pygments_lexer": "ipython3",
   "version": "3.10.0"
  }
 },
 "nbformat": 4,
 "nbformat_minor": 2
}
