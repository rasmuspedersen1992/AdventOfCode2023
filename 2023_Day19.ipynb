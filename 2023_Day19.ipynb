{
 "cells": [
  {
   "cell_type": "code",
   "execution_count": 140,
   "metadata": {},
   "outputs": [
    {
     "name": "stdout",
     "output_type": "stream",
     "text": [
      "Inputs already downloaded\n"
     ]
    }
   ],
   "source": [
    "# Import packages\n",
    "import numpy as np\n",
    "curDay = 19\n",
    "\n",
    "# Download input file\n",
    "from download_inputs import download_inputs\n",
    "\n",
    "\n",
    "from tqdm import tqdm\n",
    "\n",
    "\n",
    "import os\n",
    "\n",
    "filename = f'inputs\\\\day{curDay}.txt'\n",
    "if not os.path.exists(filename):\n",
    "    download_inputs(curDay)\n",
    "else:\n",
    "    print('Inputs already downloaded')"
   ]
  },
  {
   "cell_type": "code",
   "execution_count": 141,
   "metadata": {},
   "outputs": [
    {
     "name": "stdout",
     "output_type": "stream",
     "text": [
      "Done loading input\n"
     ]
    }
   ],
   "source": [
    "# Load input into workspace\n",
    "filename = f'inputs\\\\day{curDay}.txt'\n",
    "\n",
    "inputFile = open(filename)\n",
    "inputs = [s for s in inputFile.read().splitlines()]\n",
    "\n",
    "print('Done loading input')"
   ]
  },
  {
   "cell_type": "code",
   "execution_count": 142,
   "metadata": {},
   "outputs": [
    {
     "name": "stdout",
     "output_type": "stream",
     "text": [
      "Done loading test-input\n"
     ]
    }
   ],
   "source": [
    "# Load test-input into workspace\n",
    "filenameTest = f'inputs\\\\day{curDay}_test.txt'\n",
    "\n",
    "inputFileTest = open(filenameTest)\n",
    "inputsTest = [s for s in inputFileTest.read().splitlines()]\n",
    "\n",
    "print('Done loading test-input') "
   ]
  },
  {
   "cell_type": "markdown",
   "metadata": {},
   "source": [
    "# Input parsing"
   ]
  },
  {
   "cell_type": "code",
   "execution_count": 143,
   "metadata": {},
   "outputs": [],
   "source": [
    "def parseInputs(test=False):\n",
    "    if test:\n",
    "        curIn = inputsTest \n",
    "    else:\n",
    "        curIn = inputs \n",
    "        \n",
    "\n",
    "    liW = []\n",
    "    liP = []\n",
    "    inW = True \n",
    "    for li in curIn:\n",
    "        if inW:\n",
    "            liW.append(li)\n",
    "        else:\n",
    "            liP.append(li)\n",
    "        \n",
    "        if li == '':\n",
    "            inW = False\n",
    "\n",
    "    liW = liW[:-1]\n",
    "\n",
    "\n",
    "    # liW,liP\n",
    "\n",
    "    # curP = liP[0]\n",
    "\n",
    "    pDict = []\n",
    "    for curP in liP:\n",
    "        # newDict = dict([x.split('=') for x in curP[1:-1].split(',')])\n",
    "        curKeys = [x.split('=')[0] for x in curP[1:-1].split(',')]\n",
    "        curVals = [int(x.split('=')[1]) for x in curP[1:-1].split(',')]\n",
    "        newDict = dict(zip(curKeys,curVals))\n",
    "        # print([x.split('=')[0] for x in curP[1:-1].split(',')])\n",
    "        # print([int(x.split('=')[1]) for x in curP[1:-1].split(',')])\n",
    "\n",
    "        pDict.append(newDict)\n",
    "\n",
    "    # curW = liW[0]\n",
    "    wDict = []\n",
    "    wDict = dict()\n",
    "    for curW in liW:\n",
    "        curName,curRules = curW[:-1].split('{')\n",
    "        curRules = curRules.split(',')\n",
    "        \n",
    "\n",
    "        wDict[curName] = curRules\n",
    "        \n",
    "    return wDict,pDict  "
   ]
  },
  {
   "cell_type": "markdown",
   "metadata": {},
   "source": [
    "# Part 1"
   ]
  },
  {
   "cell_type": "code",
   "execution_count": 144,
   "metadata": {},
   "outputs": [],
   "source": [
    "wDict,pDict = parseInputs(test=True)\n",
    "wDict,pDict = parseInputs(test=False)\n"
   ]
  },
  {
   "cell_type": "code",
   "execution_count": 145,
   "metadata": {},
   "outputs": [],
   "source": [
    "\n",
    "def checkPartInWorkflow(curP,curW):\n",
    "    for rule in wDict[curW]:\n",
    "        # print(rule) \n",
    "        # print(rule.split(':'))\n",
    "        ruleSplit = rule.split(':')\n",
    "        if len(ruleSplit) > 1:\n",
    "            # print(ruleSplit)\n",
    "            condi,posGoal = ruleSplit \n",
    "            # print(condi)\n",
    "\n",
    "            if '<' in condi:\n",
    "                cate,compVal = condi.split('<')\n",
    "                compVal = int(compVal)\n",
    "                # print(cate,'less than',compVal)\n",
    "                if (curP[cate] < compVal):\n",
    "                    # print('Success')\n",
    "                    newW = posGoal \n",
    "                    break \n",
    "            elif '>' in condi:\n",
    "                cate,compVal = condi.split('>')\n",
    "                compVal = int(compVal)\n",
    "                # print(cate,'greater than',compVal)\n",
    "                if (curP[cate] > compVal):\n",
    "                    # print('Success')\n",
    "                    newW = posGoal \n",
    "                    break \n",
    "            else: \n",
    "                print('Something is wrong, should not happen')\n",
    "        else:\n",
    "            newW = rule \n",
    "    # print(newW)\n",
    "    return newW \n",
    "\n"
   ]
  },
  {
   "cell_type": "code",
   "execution_count": 211,
   "metadata": {},
   "outputs": [],
   "source": [
    "wDict,pDict = parseInputs(test=False)\n"
   ]
  },
  {
   "cell_type": "code",
   "execution_count": 212,
   "metadata": {},
   "outputs": [],
   "source": [
    "curP = pDict[0]\n",
    "curW = 'in'\n",
    "\n",
    "isAcc = []\n",
    "sol1 = 0\n",
    "\n",
    "for curID in range(len(pDict)):\n",
    "    curP = pDict[curID]\n",
    "    curW = 'in'\n",
    "\n",
    "    notDone = True \n",
    "    while notDone:\n",
    "\n",
    "\n",
    "        curW = checkPartInWorkflow(curP,curW)\n",
    "        # print(f'{curW=}')\n",
    "        if curW == 'A':\n",
    "            isAcc.append(True)\n",
    "\n",
    "            sol1 += np.sum([*curP.values()])\n",
    "            notDone = False \n",
    "        if curW == 'R':\n",
    "            isAcc.append(False)\n",
    "            notDone = False \n"
   ]
  },
  {
   "cell_type": "code",
   "execution_count": 213,
   "metadata": {},
   "outputs": [
    {
     "name": "stdout",
     "output_type": "stream",
     "text": [
      "sol1 = 397061\n"
     ]
    }
   ],
   "source": [
    "print(f'{sol1 = }')"
   ]
  },
  {
   "cell_type": "markdown",
   "metadata": {},
   "source": [
    "# Part 2\n"
   ]
  },
  {
   "cell_type": "markdown",
   "metadata": {},
   "source": [
    "## splitting of 4D space, recursively"
   ]
  },
  {
   "cell_type": "code",
   "execution_count": 199,
   "metadata": {},
   "outputs": [],
   "source": [
    "wDict,pDict = parseInputs(test=False)\n",
    "# wDict,pDict = parseInputs(test=True)"
   ]
  },
  {
   "cell_type": "code",
   "execution_count": 200,
   "metadata": {},
   "outputs": [],
   "source": [
    "def calcSpaceSize(curSpace):\n",
    "    rangeX = curSpace['x'][1] - curSpace['x'][0] + 1\n",
    "    rangeM = curSpace['m'][1] - curSpace['m'][0] + 1\n",
    "    rangeA = curSpace['a'][1] - curSpace['a'][0] + 1\n",
    "    rangeS = curSpace['s'][1] - curSpace['s'][0] + 1\n",
    "\n",
    "    return rangeX*rangeM*rangeA*rangeS "
   ]
  },
  {
   "cell_type": "code",
   "execution_count": 208,
   "metadata": {},
   "outputs": [],
   "source": [
    "\n",
    "global sol2 \n",
    "sol2 = 0\n",
    "\n",
    "def recuFunc(curSpace,workflowName,ruleID):\n",
    "    global sol2\n",
    "    # print('---',workflowName,ruleID,'---')\n",
    "    curW = wDict[workflowName]\n",
    "    curR = curW[ruleID]\n",
    "\n",
    "    ruleSplit =curR.split(':')    \n",
    "    if len(ruleSplit) > 1:\n",
    "        condi,posGoal = ruleSplit \n",
    "\n",
    "    \n",
    "\n",
    "        if '<' in condi:\n",
    "            cate,compVal = condi.split('<')\n",
    "            compVal = int(compVal)\n",
    "\n",
    "            SpaceToCheck = curSpace[cate]\n",
    "\n",
    "            ### Recursively check sub-spaces\n",
    "            # print(cate,SpaceToCheck)\n",
    "            # In case current maximum possible is already below, no split\n",
    "            if SpaceToCheck[1] < compVal:\n",
    "                print('-Is already below, moves to subspace')\n",
    "\n",
    "                newSpace = curSpace.copy()\n",
    "                ### Recursion here (?)\n",
    "                recuFunc(newSpace,posGoal,0)\n",
    "\n",
    "\n",
    "            else:\n",
    "                # Split in two\n",
    "                newMin1 = SpaceToCheck[0]\n",
    "                newMax1 = compVal-1\n",
    "                newMin2 = compVal\n",
    "                newMax2 = SpaceToCheck[1]\n",
    "\n",
    "                \n",
    "                newSpace1 = curSpace.copy()\n",
    "                newSpace2 = curSpace.copy()\n",
    "                newSpace1[cate] = [newMin1,newMax1]\n",
    "                newSpace2[cate] = [newMin2,newMax2]\n",
    "                newRuleID = ruleID + 1\n",
    "\n",
    "                # # print(newMin1,newMax1,newMin2,newMax2)\n",
    "                # print(f'{newSpace1 = }')\n",
    "                # print(f'Moves to {posGoal}, 0')\n",
    "                # print(f'{newSpace2 = }')\n",
    "                # print(f'Stays in {workflowName}, moves to {newRuleID}')\n",
    "                # Number one continue down tree, number two moves to next rule on current branch\n",
    "                ### RECURSION HERE (?)\n",
    "                if (posGoal != 'A') & (posGoal != 'R'):\n",
    "                    recuFunc(newSpace1,posGoal,0)\n",
    "                else:\n",
    "                    # print('Finished',newSpace1,posGoal)\n",
    "                    if posGoal == 'A':\n",
    "                        sol2 += calcSpaceSize(newSpace1)\n",
    "                        # print('Space: ',calcSpaceSize(newSpace1))\n",
    "                \n",
    "                \n",
    "                recuFunc(newSpace2,workflowName,newRuleID)\n",
    "\n",
    "\n",
    "\n",
    "\n",
    "        elif '>' in condi:\n",
    "            cate,compVal = condi.split('>')\n",
    "            compVal = int(compVal)\n",
    "\n",
    "            SpaceToCheck = curSpace[cate]\n",
    "\n",
    "            ### Recursively check sub-spaces\n",
    "            # print(cate,SpaceToCheck)\n",
    "            # In case current minimum possible is already above, no split\n",
    "            if SpaceToCheck[0] > compVal:\n",
    "                print('-Is already above, moves to branch')\n",
    "\n",
    "                newSpace = curSpace.copy()\n",
    "                ### Recursion here (?)\n",
    "                recuFunc(newSpace,posGoal,0)\n",
    "            else:\n",
    "                # Split in two, one stays, one leaves\n",
    "                newMin1 = SpaceToCheck[0]\n",
    "                newMax1 = compVal\n",
    "                newMin2 = compVal+1\n",
    "                newMax2 = SpaceToCheck[1]\n",
    "\n",
    "                \n",
    "                newSpace1 = curSpace.copy()\n",
    "                newSpace2 = curSpace.copy()\n",
    "                newSpace1[cate] = [newMin1,newMax1]\n",
    "                newSpace2[cate] = [newMin2,newMax2]\n",
    "                newRuleID = ruleID + 1\n",
    "\n",
    "                # print(newMin1,newMax1,newMin2,newMax2)\n",
    "                # print(f'{newSpace1 = }')\n",
    "                # print(f'Stays in {workflowName}, moves to {newRuleID}')\n",
    "                # # print(f'Moves to {posGoal}, 0')\n",
    "                # print(f'{newSpace2 = }')\n",
    "                # # print(f'Stays in {workflowName}, moves to {newRuleID}')\n",
    "                # print(f'Moves to {posGoal}, 0')\n",
    "                \n",
    "                if (posGoal != 'A') & (posGoal != 'R'):\n",
    "                    recuFunc(newSpace2,posGoal,0)\n",
    "                else:\n",
    "                    # print('Finished',newSpace2,posGoal)\n",
    "                    if posGoal == 'A':\n",
    "                        sol2 += calcSpaceSize(newSpace2)\n",
    "                        # print('Space: ',calcSpaceSize(newSpace2))\n",
    "                \n",
    "                recuFunc(newSpace1,workflowName,newRuleID)\n",
    "                \n",
    "\n",
    "\n",
    "            \n",
    "        else: \n",
    "            print('ERROR!')\n",
    "\n",
    "    else:\n",
    "        # No comparison, i.e. final possible outcome, so simply go to branch\n",
    "        # print('Last option, move to branch')\n",
    "        \n",
    "        newSpace = curSpace.copy()\n",
    "        ### Recursion here (?)\n",
    "        \n",
    "        if (curR != 'A') & (curR != 'R'):\n",
    "            recuFunc(newSpace,curR,0)\n",
    "        else:\n",
    "            # print('Finished',newSpace,curR)\n",
    "            if curR == 'A':\n",
    "                sol2 += calcSpaceSize(newSpace)\n",
    "                # print('Space: ',calcSpaceSize(newSpace))\n",
    "        # recuFunc(newSpace,curR,0)\n"
   ]
  },
  {
   "cell_type": "code",
   "execution_count": 209,
   "metadata": {},
   "outputs": [],
   "source": [
    "        \n",
    "curSpace = {\n",
    "    'x':[1,4000],\n",
    "    'm':[1,4000],\n",
    "    'a':[1,4000],\n",
    "    's':[1,4000],\n",
    "}\n",
    "\n",
    "# print(wDict['crn'])\n",
    "recuFunc(curSpace,'in',0)\n"
   ]
  },
  {
   "cell_type": "code",
   "execution_count": 210,
   "metadata": {},
   "outputs": [
    {
     "name": "stdout",
     "output_type": "stream",
     "text": [
      "sol2 = 125657431183201\n"
     ]
    }
   ],
   "source": [
    "print(f'{sol2 = }')"
   ]
  },
  {
   "cell_type": "markdown",
   "metadata": {},
   "source": [
    "# Old stuff, branching thing for part 2\n",
    "\n",
    "Original idea: build a branching tree of all possibilities, find some way to count it afterwards\n"
   ]
  },
  {
   "cell_type": "code",
   "execution_count": null,
   "metadata": {},
   "outputs": [],
   "source": [
    "def getAllBranches(name):\n",
    "    curPos = wDict[name]\n",
    "\n",
    "    # for i in range(len(curPos)-1):\n",
    "    # print(curPos)\n",
    "    toReturn = []\n",
    "    for br in curPos:\n",
    "        # print(br)\n",
    "        curBr = br.split(':')[-1]\n",
    "        # print(curBr)\n",
    "        \n",
    "        if (curBr == 'A') | (curBr == 'R'):\n",
    "            toReturn.append(curBr)\n",
    "        else:\n",
    "            lowerBranches = getAllBranches(curBr)\n",
    "            toReturn.append(lowerBranches)\n",
    "            # print(lowerBranches)\n",
    "        # # toReturn.append(curBr)\n",
    "        # if (curBr != 'A') & (curBr != 'R'):\n",
    "        #     lowerBranches = getAllBranches(curBr)\n",
    "        #     toReturn.append(lowerBranches)\n",
    "        # else:\n",
    "        #     toReturn.append(curBr)\n",
    "            # toReturn.append([curBr,])\n",
    "    # print(toReturn)\n",
    "    return {name:toReturn}\n",
    "        # print(br.split(':')[-1])\n",
    "\n",
    "allBr = getAllBranches('in')\n",
    "allBr\n",
    "# # getAllBranches('crn')\n",
    "# thisBr = getAllBranches('qkq')\n",
    "# # thisBr['qkq'][1]\n",
    "# # wDict['qkq']"
   ]
  }
 ],
 "metadata": {
  "kernelspec": {
   "display_name": "main",
   "language": "python",
   "name": "python3"
  },
  "language_info": {
   "codemirror_mode": {
    "name": "ipython",
    "version": 3
   },
   "file_extension": ".py",
   "mimetype": "text/x-python",
   "name": "python",
   "nbconvert_exporter": "python",
   "pygments_lexer": "ipython3",
   "version": "3.10.0"
  }
 },
 "nbformat": 4,
 "nbformat_minor": 2
}
