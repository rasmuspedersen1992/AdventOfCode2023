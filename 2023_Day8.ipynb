{
 "cells": [
  {
   "cell_type": "code",
   "execution_count": 1,
   "metadata": {},
   "outputs": [
    {
     "name": "stdout",
     "output_type": "stream",
     "text": [
      "Inputs already downloaded\n"
     ]
    }
   ],
   "source": [
    "# Import packages\n",
    "import numpy as np\n",
    "curDay = 8\n",
    "\n",
    "# Download input file\n",
    "from download_inputs import download_inputs\n",
    "from download_inputs import splitTwo\n",
    "\n",
    "\n",
    "import os\n",
    "filename = f'inputs\\\\day{curDay}.txt'\n",
    "if not os.path.exists(filename):\n",
    "    download_inputs(curDay)\n",
    "else:\n",
    "    print('Inputs already downloaded')"
   ]
  },
  {
   "cell_type": "code",
   "execution_count": 2,
   "metadata": {},
   "outputs": [
    {
     "name": "stdout",
     "output_type": "stream",
     "text": [
      "Done loading input\n"
     ]
    }
   ],
   "source": [
    "# Load input into workspace\n",
    "filename = f'inputs\\\\day{curDay}.txt'\n",
    "# curIn = np.loadtxt(filename)\n",
    "\n",
    "inputFile = open(filename)\n",
    "inputs = []\n",
    "inputs = [s for s in inputFile.read().splitlines()]\n",
    "\n",
    "print('Done loading input')"
   ]
  },
  {
   "cell_type": "code",
   "execution_count": 3,
   "metadata": {},
   "outputs": [
    {
     "name": "stdout",
     "output_type": "stream",
     "text": [
      "Done loading test-input\n"
     ]
    }
   ],
   "source": [
    "# Load test-input into workspace\n",
    "filenameTest = f'inputs\\\\day{curDay}_test.txt'\n",
    "\n",
    "inputFileTest = open(filenameTest)\n",
    "inputsTest = []\n",
    "inputsTest = [s for s in inputFileTest.read().splitlines()]\n",
    "\n",
    "print('Done loading test-input') "
   ]
  },
  {
   "cell_type": "markdown",
   "metadata": {},
   "source": [
    "# Part 1"
   ]
  },
  {
   "cell_type": "code",
   "execution_count": 4,
   "metadata": {},
   "outputs": [],
   "source": [
    "curIn = inputsTest\n",
    "curIn = inputs"
   ]
  },
  {
   "cell_type": "code",
   "execution_count": 5,
   "metadata": {},
   "outputs": [],
   "source": [
    "inst = curIn[0]\n",
    "\n",
    "dictNode = dict()\n",
    "\n",
    "for li in curIn[2:]:\n",
    "    curNode,posDirs = (li.split(' = '))\n",
    "\n",
    "    \n",
    "\n",
    "    dirL,dirR = posDirs[1:-1].split(', ')\n",
    "    # print(curNode,dirL,dirR)\n",
    "\n",
    "    dictNode[curNode] = (dirL,dirR)\n"
   ]
  },
  {
   "cell_type": "code",
   "execution_count": 72,
   "metadata": {},
   "outputs": [
    {
     "name": "stdout",
     "output_type": "stream",
     "text": [
      "Found\n",
      "16579\n"
     ]
    }
   ],
   "source": [
    "\n",
    "thisNode = 'AAA'\n",
    "\n",
    "numSteps = 0\n",
    "atZZZ = False\n",
    "while atZZZ == False:\n",
    "    for i in inst:\n",
    "        # print(thisNode)\n",
    "        numSteps += 1\n",
    "        curDirs = dictNode[thisNode]\n",
    "        if i == 'R':\n",
    "            thisNode = curDirs[1]\n",
    "        else:\n",
    "            thisNode = curDirs[0]\n",
    "        \n",
    "        if thisNode == 'ZZZ':\n",
    "            atZZZ = True \n",
    "            print('Found')\n",
    "\n",
    "sol1 = numSteps \n",
    "print(sol1)"
   ]
  },
  {
   "cell_type": "markdown",
   "metadata": {},
   "source": [
    "# Part 2"
   ]
  },
  {
   "cell_type": "code",
   "execution_count": 58,
   "metadata": {},
   "outputs": [],
   "source": [
    "curIn = inputsTest\n",
    "curIn = inputs\n",
    "\n",
    "inst = curIn[0]\n",
    "\n",
    "dictNode = dict()\n",
    "\n",
    "for li in curIn[2:]:\n",
    "    curNode,posDirs = (li.split(' = '))\n",
    "    dirL,dirR = posDirs[1:-1].split(', ')\n",
    "    dictNode[curNode] = (dirL,dirR)\n"
   ]
  },
  {
   "cell_type": "code",
   "execution_count": 59,
   "metadata": {},
   "outputs": [],
   "source": [
    "allStarts = []\n",
    "allEnds =[]\n",
    "\n",
    "for no in dictNode.keys():\n",
    "    if no[2] == 'A':\n",
    "        allStarts.append(no)\n",
    "    elif no[2] == 'Z':\n",
    "        allEnds.append(no)"
   ]
  },
  {
   "cell_type": "markdown",
   "metadata": {},
   "source": [
    "determine frequencies"
   ]
  },
  {
   "cell_type": "code",
   "execution_count": 67,
   "metadata": {},
   "outputs": [
    {
     "name": "stdout",
     "output_type": "stream",
     "text": [
      "['KTA', 'PLA', 'LJA', 'AAA', 'JXA', 'NFA']\n"
     ]
    },
    {
     "data": {
      "text/plain": [
       "[14893, 19951, 22199, 16579, 17141, 12083]"
      ]
     },
     "execution_count": 67,
     "metadata": {},
     "output_type": "execute_result"
    }
   ],
   "source": [
    "allCurNodes = allStarts.copy()\n",
    "print(allCurNodes)\n",
    "\n",
    "allFreqs = []\n",
    "\n",
    "for curID in range(len(allCurNodes)):\n",
    "    thisNode = allCurNodes[curID]\n",
    "    # print(allFreqs)\n",
    "    atZ = False\n",
    "    numSteps = 0\n",
    "\n",
    "    while atZ == False:\n",
    "        for i in inst:\n",
    "            numSteps += 1\n",
    "            # print(numSteps)\n",
    "\n",
    "            curDirs = dictNode[thisNode]\n",
    "            # print(thisNode,dictNode[thisNode],i)\n",
    "\n",
    "            if i == 'R':\n",
    "                thisNode = curDirs[1]\n",
    "            else:\n",
    "                thisNode = curDirs[0]\n",
    "                \n",
    "            if thisNode[2] == 'Z':\n",
    "                allFreqs.append(numSteps)\n",
    "                atZ = True\n",
    "\n",
    "allFreqs"
   ]
  },
  {
   "cell_type": "code",
   "execution_count": 70,
   "metadata": {},
   "outputs": [
    {
     "name": "stdout",
     "output_type": "stream",
     "text": [
      "12927600769609\n"
     ]
    }
   ],
   "source": [
    "curLCM = np.lcm.reduce(allFreqs,dtype='object')\n",
    "\n",
    "sol2 = curLCM \n",
    "print(sol2)"
   ]
  },
  {
   "cell_type": "code",
   "execution_count": 73,
   "metadata": {},
   "outputs": [
    {
     "name": "stdout",
     "output_type": "stream",
     "text": [
      "868032013.0\n",
      "647967559.0\n",
      "582350591.0\n",
      "779757571.0\n",
      "754191749.0\n",
      "1069899923.0\n"
     ]
    }
   ],
   "source": [
    "# Check\n",
    "for f in allFreqs:\n",
    "    # print(518931692/f)\n",
    "    # print(29601420506756/f)\n",
    "    # print(2902851506188284 / f) \n",
    "    print(curLCM / f) "
   ]
  },
  {
   "cell_type": "markdown",
   "metadata": {},
   "source": [
    "# Old below\n",
    "first attempts at part 2"
   ]
  },
  {
   "cell_type": "code",
   "execution_count": null,
   "metadata": {},
   "outputs": [],
   "source": [
    "\n",
    "# # thisNode = 'AAA'\n",
    "# allCurNodes = allStarts.copy()\n",
    "# print(allCurNodes)\n",
    "\n",
    "# numSteps = 0\n",
    "# atZZZ = False\n",
    "# while atZZZ == False:\n",
    "#     for i in inst:\n",
    "#         numSteps += 1\n",
    "#         # print(numSteps)\n",
    "\n",
    "#         # for thisNode in allCurNodes:\n",
    "#         for k in range(len(allCurNodes)):\n",
    "#             thisNode = allCurNodes[k]\n",
    "            \n",
    "#             curDirs = dictNode[thisNode]\n",
    "#             # print(thisNode,dictNode[thisNode],i)\n",
    "#             if i == 'R':\n",
    "#                 thisNode = curDirs[1]\n",
    "#             else:\n",
    "#                 thisNode = curDirs[0]\n",
    "#             allCurNodes[k] = thisNode\n",
    "        \n",
    "#         allAtZ = False\n",
    "#         lastLetters = [x[2] for x in allCurNodes]\n",
    "\n",
    "#         uni,numUni = np.unique(lastLetters,return_counts=True)\n",
    "#         if len(numUni) == 1:\n",
    "#             print(uni)\n",
    "#             if uni == 'Z':\n",
    "#                 atZZZ = True\n",
    "#             print(allCurNodes)\n",
    "#         # for thisNode in allCurNodes:\n",
    "\n",
    "#         #     if thisNode in allEnds:\n",
    "#         #         allAtZ = True\n",
    "\n",
    "#         #     else:\n",
    "#         #         allAtZ = False\n",
    "#         # print(allCurNodes)\n",
    "#         # if allAtZ:\n",
    "#         #     atZZZ = True\n",
    "            \n",
    "#         # if thisNode == 'ZZZ':\n",
    "#         #     atZZZ = True \n",
    "#         #     print('Found')\n",
    "#     if (numSteps % 1000) == 0:\n",
    "#         print(numSteps)\n",
    "#         print(allCurNodes)\n",
    "\n",
    "\n",
    "# numSteps "
   ]
  },
  {
   "cell_type": "code",
   "execution_count": null,
   "metadata": {},
   "outputs": [],
   "source": [
    "\n",
    "# # np.prod(allFreqs)\n",
    "# sol2 = 1\n",
    "# for f in allFreqs:\n",
    "#     sol2 *= f \n",
    "#     print(sol2)"
   ]
  },
  {
   "cell_type": "code",
   "execution_count": null,
   "metadata": {},
   "outputs": [],
   "source": []
  }
 ],
 "metadata": {
  "kernelspec": {
   "display_name": "main",
   "language": "python",
   "name": "python3"
  },
  "language_info": {
   "codemirror_mode": {
    "name": "ipython",
    "version": 3
   },
   "file_extension": ".py",
   "mimetype": "text/x-python",
   "name": "python",
   "nbconvert_exporter": "python",
   "pygments_lexer": "ipython3",
   "version": "3.10.0"
  }
 },
 "nbformat": 4,
 "nbformat_minor": 2
}
